{
 "cells": [
  {
   "cell_type": "code",
   "execution_count": 1,
   "metadata": {},
   "outputs": [],
   "source": [
    "import numpy as np\n",
    "import pandas as pd\n",
    "import matplotlib.pyplot as plt\n",
    "%matplotlib inline\n",
    "plt.style.use('seaborn-whitegrid')\n",
    "\n",
    "import seaborn as sns\n",
    "from sklearn.model_selection import train_test_split, StratifiedKFold\n",
    "from sklearn.metrics import accuracy_score, f1_score\n",
    "\n",
    "from sklearn.tree import DecisionTreeClassifier\n",
    "from sklearn.linear_model import LogisticRegression\n",
    "\n",
    "\n",
    "from lightgbm import LGBMClassifier\n",
    "from catboost import CatBoostClassifier\n",
    "from xgboost import XGBClassifier\n",
    "\n",
    "from sklearn.ensemble import ExtraTreesClassifier\n",
    "from sklearn.ensemble import GradientBoostingClassifier\n",
    "from sklearn.ensemble import RandomForestClassifier\n",
    "\n",
    "\n",
    "\n",
    "from IPython.core.interactiveshell import InteractiveShell\n",
    "InteractiveShell.ast_node_interactivity = \"all\"\n",
    "\n",
    "pd.set_option('display.max_colwidth', -1)\n",
    "\n",
    "import warnings\n",
    "warnings.simplefilter('ignore')"
   ]
  },
  {
   "cell_type": "code",
   "execution_count": 2,
   "metadata": {},
   "outputs": [],
   "source": [
    "train = pd.read_csv(\"train_Df64byy.csv\")\n",
    "test = pd.read_csv(\"test_YCcRUnU.csv\")\n",
    "ss = pd.read_csv(\"sample_submission_QrCyCoT.csv\")"
   ]
  },
  {
   "cell_type": "markdown",
   "metadata": {},
   "source": [
    "# 1. DataSet Contents"
   ]
  },
  {
   "cell_type": "code",
   "execution_count": 3,
   "metadata": {},
   "outputs": [
    {
     "data": {
      "text/html": [
       "<div>\n",
       "<style scoped>\n",
       "    .dataframe tbody tr th:only-of-type {\n",
       "        vertical-align: middle;\n",
       "    }\n",
       "\n",
       "    .dataframe tbody tr th {\n",
       "        vertical-align: top;\n",
       "    }\n",
       "\n",
       "    .dataframe thead th {\n",
       "        text-align: right;\n",
       "    }\n",
       "</style>\n",
       "<table border=\"1\" class=\"dataframe\">\n",
       "  <thead>\n",
       "    <tr style=\"text-align: right;\">\n",
       "      <th></th>\n",
       "      <th>ID</th>\n",
       "      <th>City_Code</th>\n",
       "      <th>Region_Code</th>\n",
       "      <th>Accomodation_Type</th>\n",
       "      <th>Reco_Insurance_Type</th>\n",
       "      <th>Upper_Age</th>\n",
       "      <th>Lower_Age</th>\n",
       "      <th>Is_Spouse</th>\n",
       "      <th>Health Indicator</th>\n",
       "      <th>Holding_Policy_Duration</th>\n",
       "      <th>Holding_Policy_Type</th>\n",
       "      <th>Reco_Policy_Cat</th>\n",
       "      <th>Reco_Policy_Premium</th>\n",
       "      <th>Response</th>\n",
       "    </tr>\n",
       "  </thead>\n",
       "  <tbody>\n",
       "    <tr>\n",
       "      <th>0</th>\n",
       "      <td>1</td>\n",
       "      <td>C3</td>\n",
       "      <td>3213</td>\n",
       "      <td>Rented</td>\n",
       "      <td>Individual</td>\n",
       "      <td>36</td>\n",
       "      <td>36</td>\n",
       "      <td>No</td>\n",
       "      <td>X1</td>\n",
       "      <td>14+</td>\n",
       "      <td>3.0</td>\n",
       "      <td>22</td>\n",
       "      <td>11628.0</td>\n",
       "      <td>0</td>\n",
       "    </tr>\n",
       "    <tr>\n",
       "      <th>1</th>\n",
       "      <td>2</td>\n",
       "      <td>C5</td>\n",
       "      <td>1117</td>\n",
       "      <td>Owned</td>\n",
       "      <td>Joint</td>\n",
       "      <td>75</td>\n",
       "      <td>22</td>\n",
       "      <td>No</td>\n",
       "      <td>X2</td>\n",
       "      <td>NaN</td>\n",
       "      <td>NaN</td>\n",
       "      <td>22</td>\n",
       "      <td>30510.0</td>\n",
       "      <td>0</td>\n",
       "    </tr>\n",
       "    <tr>\n",
       "      <th>2</th>\n",
       "      <td>3</td>\n",
       "      <td>C5</td>\n",
       "      <td>3732</td>\n",
       "      <td>Owned</td>\n",
       "      <td>Individual</td>\n",
       "      <td>32</td>\n",
       "      <td>32</td>\n",
       "      <td>No</td>\n",
       "      <td>NaN</td>\n",
       "      <td>1.0</td>\n",
       "      <td>1.0</td>\n",
       "      <td>19</td>\n",
       "      <td>7450.0</td>\n",
       "      <td>1</td>\n",
       "    </tr>\n",
       "  </tbody>\n",
       "</table>\n",
       "</div>"
      ],
      "text/plain": [
       "   ID City_Code  Region_Code Accomodation_Type Reco_Insurance_Type  Upper_Age  \\\n",
       "0  1   C3        3213         Rented            Individual          36          \n",
       "1  2   C5        1117         Owned             Joint               75          \n",
       "2  3   C5        3732         Owned             Individual          32          \n",
       "\n",
       "   Lower_Age Is_Spouse Health Indicator Holding_Policy_Duration  \\\n",
       "0  36         No        X1               14+                      \n",
       "1  22         No        X2               NaN                      \n",
       "2  32         No        NaN              1.0                      \n",
       "\n",
       "   Holding_Policy_Type  Reco_Policy_Cat  Reco_Policy_Premium  Response  \n",
       "0  3.0                  22               11628.0              0         \n",
       "1 NaN                   22               30510.0              0         \n",
       "2  1.0                  19               7450.0               1         "
      ]
     },
     "execution_count": 3,
     "metadata": {},
     "output_type": "execute_result"
    },
    {
     "data": {
      "text/html": [
       "<div>\n",
       "<style scoped>\n",
       "    .dataframe tbody tr th:only-of-type {\n",
       "        vertical-align: middle;\n",
       "    }\n",
       "\n",
       "    .dataframe tbody tr th {\n",
       "        vertical-align: top;\n",
       "    }\n",
       "\n",
       "    .dataframe thead th {\n",
       "        text-align: right;\n",
       "    }\n",
       "</style>\n",
       "<table border=\"1\" class=\"dataframe\">\n",
       "  <thead>\n",
       "    <tr style=\"text-align: right;\">\n",
       "      <th></th>\n",
       "      <th>ID</th>\n",
       "      <th>City_Code</th>\n",
       "      <th>Region_Code</th>\n",
       "      <th>Accomodation_Type</th>\n",
       "      <th>Reco_Insurance_Type</th>\n",
       "      <th>Upper_Age</th>\n",
       "      <th>Lower_Age</th>\n",
       "      <th>Is_Spouse</th>\n",
       "      <th>Health Indicator</th>\n",
       "      <th>Holding_Policy_Duration</th>\n",
       "      <th>Holding_Policy_Type</th>\n",
       "      <th>Reco_Policy_Cat</th>\n",
       "      <th>Reco_Policy_Premium</th>\n",
       "    </tr>\n",
       "  </thead>\n",
       "  <tbody>\n",
       "    <tr>\n",
       "      <th>0</th>\n",
       "      <td>50883</td>\n",
       "      <td>C1</td>\n",
       "      <td>156</td>\n",
       "      <td>Owned</td>\n",
       "      <td>Individual</td>\n",
       "      <td>30</td>\n",
       "      <td>30</td>\n",
       "      <td>No</td>\n",
       "      <td>NaN</td>\n",
       "      <td>6.0</td>\n",
       "      <td>3.0</td>\n",
       "      <td>5</td>\n",
       "      <td>11934.0</td>\n",
       "    </tr>\n",
       "    <tr>\n",
       "      <th>1</th>\n",
       "      <td>50884</td>\n",
       "      <td>C4</td>\n",
       "      <td>7</td>\n",
       "      <td>Owned</td>\n",
       "      <td>Joint</td>\n",
       "      <td>69</td>\n",
       "      <td>68</td>\n",
       "      <td>Yes</td>\n",
       "      <td>X1</td>\n",
       "      <td>3.0</td>\n",
       "      <td>3.0</td>\n",
       "      <td>18</td>\n",
       "      <td>32204.8</td>\n",
       "    </tr>\n",
       "    <tr>\n",
       "      <th>2</th>\n",
       "      <td>50885</td>\n",
       "      <td>C1</td>\n",
       "      <td>564</td>\n",
       "      <td>Rented</td>\n",
       "      <td>Individual</td>\n",
       "      <td>28</td>\n",
       "      <td>28</td>\n",
       "      <td>No</td>\n",
       "      <td>X3</td>\n",
       "      <td>2.0</td>\n",
       "      <td>4.0</td>\n",
       "      <td>17</td>\n",
       "      <td>9240.0</td>\n",
       "    </tr>\n",
       "  </tbody>\n",
       "</table>\n",
       "</div>"
      ],
      "text/plain": [
       "      ID City_Code  Region_Code Accomodation_Type Reco_Insurance_Type  \\\n",
       "0  50883  C1        156          Owned             Individual           \n",
       "1  50884  C4        7            Owned             Joint                \n",
       "2  50885  C1        564          Rented            Individual           \n",
       "\n",
       "   Upper_Age  Lower_Age Is_Spouse Health Indicator Holding_Policy_Duration  \\\n",
       "0  30         30         No        NaN              6.0                      \n",
       "1  69         68         Yes       X1               3.0                      \n",
       "2  28         28         No        X3               2.0                      \n",
       "\n",
       "   Holding_Policy_Type  Reco_Policy_Cat  Reco_Policy_Premium  \n",
       "0  3.0                  5                11934.0              \n",
       "1  3.0                  18               32204.8              \n",
       "2  4.0                  17               9240.0               "
      ]
     },
     "execution_count": 3,
     "metadata": {},
     "output_type": "execute_result"
    }
   ],
   "source": [
    "train.head(3)\n",
    "test.head(3)"
   ]
  },
  {
   "cell_type": "code",
   "execution_count": 4,
   "metadata": {},
   "outputs": [],
   "source": [
    "ID_COL, TARGET_COL = 'id', 'Response'"
   ]
  },
  {
   "cell_type": "code",
   "execution_count": 5,
   "metadata": {},
   "outputs": [
    {
     "name": "stdout",
     "output_type": "stream",
     "text": [
      "\n",
      "Train contains 50882 samples and 14 variables\n",
      "\n",
      "Test contains 21805 samples and 13 variables\n",
      "\n",
      "The dataset contains 13 features\n"
     ]
    }
   ],
   "source": [
    "print(f'\\nTrain contains {train.shape[0]} samples and {train.shape[1]} variables')\n",
    "print(f'\\nTest contains {test.shape[0]} samples and {test.shape[1]} variables')\n",
    "\n",
    "features = [c for c in train.columns if c not in [ID_COL, TARGET_COL]]\n",
    "print(f'\\nThe dataset contains {len(features)} features')"
   ]
  },
  {
   "cell_type": "code",
   "execution_count": 6,
   "metadata": {},
   "outputs": [
    {
     "data": {
      "text/plain": [
       "0    0.760053\n",
       "1    0.239947\n",
       "Name: Response, dtype: float64"
      ]
     },
     "execution_count": 6,
     "metadata": {},
     "output_type": "execute_result"
    }
   ],
   "source": [
    "train[TARGET_COL].value_counts(normalize=True)"
   ]
  },
  {
   "cell_type": "code",
   "execution_count": 7,
   "metadata": {},
   "outputs": [
    {
     "data": {
      "image/png": "[encoded data removed]",
      "text/plain": [
       "<Figure size 432x288 with 1 Axes>"
      ]
     },
     "metadata": {
      "needs_background": "light"
     },
     "output_type": "display_data"
    }
   ],
   "source": [
    "_ = sns.countplot(train[TARGET_COL])\n",
    "_ = plt.title(\"Target Distribution\", fontsize=14)"
   ]
  },
  {
   "cell_type": "code",
   "execution_count": 8,
   "metadata": {},
   "outputs": [
    {
     "name": "stdout",
     "output_type": "stream",
     "text": [
      "<class 'pandas.core.frame.DataFrame'>\n",
      "RangeIndex: 50882 entries, 0 to 50881\n",
      "Data columns (total 14 columns):\n",
      "ID                         50882 non-null int64\n",
      "City_Code                  50882 non-null object\n",
      "Region_Code                50882 non-null int64\n",
      "Accomodation_Type          50882 non-null object\n",
      "Reco_Insurance_Type        50882 non-null object\n",
      "Upper_Age                  50882 non-null int64\n",
      "Lower_Age                  50882 non-null int64\n",
      "Is_Spouse                  50882 non-null object\n",
      "Health Indicator           39191 non-null object\n",
      "Holding_Policy_Duration    30631 non-null object\n",
      "Holding_Policy_Type        30631 non-null float64\n",
      "Reco_Policy_Cat            50882 non-null int64\n",
      "Reco_Policy_Premium        50882 non-null float64\n",
      "Response                   50882 non-null int64\n",
      "dtypes: float64(2), int64(6), object(6)\n",
      "memory usage: 5.4+ MB\n"
     ]
    }
   ],
   "source": [
    "train.info()"
   ]
  },
  {
   "cell_type": "code",
   "execution_count": 9,
   "metadata": {},
   "outputs": [
    {
     "data": {
      "text/plain": [
       "ID                         50882\n",
       "City_Code                  36   \n",
       "Region_Code                5316 \n",
       "Accomodation_Type          2    \n",
       "Reco_Insurance_Type        2    \n",
       "Upper_Age                  58   \n",
       "Lower_Age                  60   \n",
       "Is_Spouse                  2    \n",
       "Health Indicator           9    \n",
       "Holding_Policy_Duration    15   \n",
       "Holding_Policy_Type        4    \n",
       "Reco_Policy_Cat            22   \n",
       "Reco_Policy_Premium        6977 \n",
       "Response                   2    \n",
       "dtype: int64"
      ]
     },
     "execution_count": 9,
     "metadata": {},
     "output_type": "execute_result"
    }
   ],
   "source": [
    "train.nunique()"
   ]
  },
  {
   "cell_type": "code",
   "execution_count": 10,
   "metadata": {},
   "outputs": [
    {
     "data": {
      "text/plain": [
       "Holding_Policy_Type        39.8\n",
       "Holding_Policy_Duration    39.8\n",
       "Health Indicator           23.0\n",
       "Response                   0.0 \n",
       "Reco_Policy_Premium        0.0 \n",
       "Reco_Policy_Cat            0.0 \n",
       "Is_Spouse                  0.0 \n",
       "Lower_Age                  0.0 \n",
       "Upper_Age                  0.0 \n",
       "Reco_Insurance_Type        0.0 \n",
       "Accomodation_Type          0.0 \n",
       "Region_Code                0.0 \n",
       "City_Code                  0.0 \n",
       "ID                         0.0 \n",
       "dtype: float64"
      ]
     },
     "execution_count": 10,
     "metadata": {},
     "output_type": "execute_result"
    }
   ],
   "source": [
    "null_values_per_variable = 100*(train.isnull().sum()/len(train)).round(3)\n",
    "null_values_per_variable.sort_values(ascending=False)"
   ]
  },
  {
   "cell_type": "code",
   "execution_count": 11,
   "metadata": {},
   "outputs": [
    {
     "data": {
      "text/plain": [
       "Index(['ID', 'City_Code', 'Region_Code', 'Accomodation_Type',\n",
       "       'Reco_Insurance_Type', 'Upper_Age', 'Lower_Age', 'Is_Spouse',\n",
       "       'Health Indicator', 'Holding_Policy_Duration', 'Holding_Policy_Type',\n",
       "       'Reco_Policy_Cat', 'Reco_Policy_Premium', 'Response'],\n",
       "      dtype='object')"
      ]
     },
     "execution_count": 11,
     "metadata": {},
     "output_type": "execute_result"
    }
   ],
   "source": [
    "train.columns"
   ]
  },
  {
   "cell_type": "code",
   "execution_count": 12,
   "metadata": {},
   "outputs": [],
   "source": [
    "categorical = train.select_dtypes(include=['object'])\n"
   ]
  },
  {
   "cell_type": "code",
   "execution_count": 13,
   "metadata": {},
   "outputs": [
    {
     "data": {
      "text/plain": [
       "['City_Code',\n",
       " 'Accomodation_Type',\n",
       " 'Reco_Insurance_Type',\n",
       " 'Is_Spouse',\n",
       " 'Health Indicator',\n",
       " 'Holding_Policy_Duration']"
      ]
     },
     "execution_count": 13,
     "metadata": {},
     "output_type": "execute_result"
    }
   ],
   "source": [
    "cat_cols = [c for c in features if c in categorical]\n",
    "cat_cols"
   ]
  },
  {
   "cell_type": "code",
   "execution_count": 14,
   "metadata": {},
   "outputs": [
    {
     "data": {
      "text/plain": [
       "['ID',\n",
       " 'Region_Code',\n",
       " 'Upper_Age',\n",
       " 'Lower_Age',\n",
       " 'Holding_Policy_Type',\n",
       " 'Reco_Policy_Cat',\n",
       " 'Reco_Policy_Premium']"
      ]
     },
     "execution_count": 14,
     "metadata": {},
     "output_type": "execute_result"
    }
   ],
   "source": [
    "num_cols = [n for n in features if n not in cat_cols]\n",
    "num_cols"
   ]
  },
  {
   "cell_type": "code",
   "execution_count": 15,
   "metadata": {},
   "outputs": [
    {
     "data": {
      "image/png": "[encoded data removed]",
      "text/plain": [
       "<Figure size 1008x1584 with 10 Axes>"
      ]
     },
     "metadata": {
      "needs_background": "light"
     },
     "output_type": "display_data"
    }
   ],
   "source": [
    "fig, axes = plt.subplots(5,2, figsize=(14,22))\n",
    "axes = [ax for axes_row in axes for ax in axes_row]\n",
    "\n",
    "for i,c in enumerate(train[cat_cols]):\n",
    "  _ = train[c].value_counts()[::-1].plot(kind='pie', ax=axes[i], title=c, autopct=\"%.0f\", fontsize=12)\n",
    "  _ = axes[i].set_label('')\n",
    "_ = plt.tight_layout()"
   ]
  },
  {
   "cell_type": "code",
   "execution_count": 16,
   "metadata": {},
   "outputs": [
    {
     "data": {
      "image/png": "[encoded data removed]",
      "text/plain": [
       "<Figure size 1152x1152 with 9 Axes>"
      ]
     },
     "metadata": {
      "needs_background": "light"
     },
     "output_type": "display_data"
    }
   ],
   "source": [
    "fig, axes = plt.subplots(3, 3, figsize=(16, 16))\n",
    "axes = [ax for axes_row in axes for ax in axes_row]\n",
    "\n",
    "for i, c in enumerate(train[cat_cols]):\n",
    "    _ = train[c].value_counts()[::-1].plot(kind = 'barh', ax=axes[i], title=c, fontsize=14)\n",
    "    \n",
    "_ = plt.tight_layout()"
   ]
  },
  {
   "cell_type": "code",
   "execution_count": 17,
   "metadata": {},
   "outputs": [
    {
     "data": {
      "image/png": "[encoded data removed]",
      "text/plain": [
       "<Figure size 1152x1728 with 10 Axes>"
      ]
     },
     "metadata": {
      "needs_background": "light"
     },
     "output_type": "display_data"
    }
   ],
   "source": [
    "fig, axes = plt.subplots(5, 2, figsize=(16, 24))\n",
    "axes = [ax for axes_row in axes for ax in axes_row]\n",
    "\n",
    "for i, c in enumerate(train[cat_cols]):\n",
    "    fltr = train[TARGET_COL] == 0\n",
    "    vc_a = train[fltr][c].value_counts(normalize=True).reset_index().rename({'index' : c, c: 'count'}, axis=1)\n",
    "\n",
    "    vc_b = train[~fltr][c].value_counts(normalize=True).reset_index().rename({'index' : c, c: 'count'}, axis=1)\n",
    "\n",
    "    vc_a[TARGET_COL] = 0\n",
    "    vc_b[TARGET_COL] = 1\n",
    "\n",
    "    df = pd.concat([vc_a, vc_b]).reset_index(drop = True)\n",
    "\n",
    "    _ = sns.barplot(y = c, x = 'count', data =df , hue=TARGET_COL, ax=axes[i])\n",
    "    \n",
    "_ = plt.tight_layout()"
   ]
  },
  {
   "cell_type": "code",
   "execution_count": 18,
   "metadata": {},
   "outputs": [
    {
     "data": {
      "image/png": "[encoded data removed]",
      "text/plain": [
       "<Figure size 576x1440 with 7 Axes>"
      ]
     },
     "metadata": {
      "needs_background": "light"
     },
     "output_type": "display_data"
    }
   ],
   "source": [
    "fig, axes = plt.subplots(7, 1, figsize=(8, 20))\n",
    "for i, c in enumerate(num_cols):\n",
    "  _ = train[[c]].boxplot(ax=axes[i], vert=False)"
   ]
  },
  {
   "cell_type": "code",
   "execution_count": 19,
   "metadata": {},
   "outputs": [
    {
     "ename": "ValueError",
     "evalue": "could not convert string to float: 'C3'",
     "output_type": "error",
     "traceback": [
      "\u001b[1;31m---------------------------------------------------------------------------\u001b[0m",
      "\u001b[1;31mValueError\u001b[0m                                Traceback (most recent call last)",
      "\u001b[1;32m<ipython-input-19-2e27645dc528>\u001b[0m in \u001b[0;36m<module>\u001b[1;34m\u001b[0m\n\u001b[0;32m      3\u001b[0m \u001b[0maxes\u001b[0m \u001b[1;33m=\u001b[0m \u001b[1;33m[\u001b[0m\u001b[0max\u001b[0m \u001b[1;32mfor\u001b[0m \u001b[0maxes_row\u001b[0m \u001b[1;32min\u001b[0m \u001b[0maxes\u001b[0m \u001b[1;32mfor\u001b[0m \u001b[0max\u001b[0m \u001b[1;32min\u001b[0m \u001b[0maxes_row\u001b[0m\u001b[1;33m]\u001b[0m\u001b[1;33m\u001b[0m\u001b[1;33m\u001b[0m\u001b[0m\n\u001b[0;32m      4\u001b[0m \u001b[1;32mfor\u001b[0m \u001b[0mi\u001b[0m\u001b[1;33m,\u001b[0m \u001b[0mc\u001b[0m \u001b[1;32min\u001b[0m \u001b[0menumerate\u001b[0m\u001b[1;33m(\u001b[0m\u001b[0mnum_cols\u001b[0m\u001b[1;33m)\u001b[0m\u001b[1;33m:\u001b[0m\u001b[1;33m\u001b[0m\u001b[1;33m\u001b[0m\u001b[0m\n\u001b[1;32m----> 5\u001b[1;33m     \u001b[0mplot\u001b[0m \u001b[1;33m=\u001b[0m \u001b[0msns\u001b[0m\u001b[1;33m.\u001b[0m\u001b[0mkdeplot\u001b[0m\u001b[1;33m(\u001b[0m\u001b[0mdata\u001b[0m\u001b[1;33m=\u001b[0m\u001b[0mtrain\u001b[0m\u001b[1;33m,\u001b[0m \u001b[0mx\u001b[0m\u001b[1;33m=\u001b[0m\u001b[0mc\u001b[0m\u001b[1;33m,\u001b[0m \u001b[0max\u001b[0m\u001b[1;33m=\u001b[0m\u001b[0maxes\u001b[0m\u001b[1;33m[\u001b[0m\u001b[0mi\u001b[0m\u001b[1;33m]\u001b[0m\u001b[1;33m,\u001b[0m \u001b[0mfill\u001b[0m\u001b[1;33m=\u001b[0m\u001b[1;32mTrue\u001b[0m\u001b[1;33m)\u001b[0m\u001b[1;33m\u001b[0m\u001b[1;33m\u001b[0m\u001b[0m\n\u001b[0m\u001b[0;32m      6\u001b[0m \u001b[0mplt\u001b[0m\u001b[1;33m.\u001b[0m\u001b[0mtight_layout\u001b[0m\u001b[1;33m(\u001b[0m\u001b[1;33m)\u001b[0m\u001b[1;33m\u001b[0m\u001b[1;33m\u001b[0m\u001b[0m\n",
      "\u001b[1;32mC:\\Anaconda3\\lib\\site-packages\\seaborn\\distributions.py\u001b[0m in \u001b[0;36mkdeplot\u001b[1;34m(data, data2, shade, vertical, kernel, bw, gridsize, cut, clip, legend, cumulative, shade_lowest, cbar, cbar_ax, cbar_kws, ax, **kwargs)\u001b[0m\n\u001b[0;32m    662\u001b[0m         \u001b[1;32mreturn\u001b[0m \u001b[0max\u001b[0m\u001b[1;33m\u001b[0m\u001b[1;33m\u001b[0m\u001b[0m\n\u001b[0;32m    663\u001b[0m \u001b[1;33m\u001b[0m\u001b[0m\n\u001b[1;32m--> 664\u001b[1;33m     \u001b[0mdata\u001b[0m \u001b[1;33m=\u001b[0m \u001b[0mdata\u001b[0m\u001b[1;33m.\u001b[0m\u001b[0mastype\u001b[0m\u001b[1;33m(\u001b[0m\u001b[0mnp\u001b[0m\u001b[1;33m.\u001b[0m\u001b[0mfloat64\u001b[0m\u001b[1;33m)\u001b[0m\u001b[1;33m\u001b[0m\u001b[1;33m\u001b[0m\u001b[0m\n\u001b[0m\u001b[0;32m    665\u001b[0m     \u001b[1;32mif\u001b[0m \u001b[0mdata2\u001b[0m \u001b[1;32mis\u001b[0m \u001b[1;32mnot\u001b[0m \u001b[1;32mNone\u001b[0m\u001b[1;33m:\u001b[0m\u001b[1;33m\u001b[0m\u001b[1;33m\u001b[0m\u001b[0m\n\u001b[0;32m    666\u001b[0m         \u001b[1;32mif\u001b[0m \u001b[0misinstance\u001b[0m\u001b[1;33m(\u001b[0m\u001b[0mdata2\u001b[0m\u001b[1;33m,\u001b[0m \u001b[0mlist\u001b[0m\u001b[1;33m)\u001b[0m\u001b[1;33m:\u001b[0m\u001b[1;33m\u001b[0m\u001b[1;33m\u001b[0m\u001b[0m\n",
      "\u001b[1;32m~\\AppData\\Roaming\\Python\\Python37\\site-packages\\pandas\\core\\generic.py\u001b[0m in \u001b[0;36mastype\u001b[1;34m(self, dtype, copy, errors, **kwargs)\u001b[0m\n\u001b[0;32m   5880\u001b[0m             \u001b[1;31m# else, only a single dtype is given\u001b[0m\u001b[1;33m\u001b[0m\u001b[1;33m\u001b[0m\u001b[1;33m\u001b[0m\u001b[0m\n\u001b[0;32m   5881\u001b[0m             new_data = self._data.astype(\n\u001b[1;32m-> 5882\u001b[1;33m                 \u001b[0mdtype\u001b[0m\u001b[1;33m=\u001b[0m\u001b[0mdtype\u001b[0m\u001b[1;33m,\u001b[0m \u001b[0mcopy\u001b[0m\u001b[1;33m=\u001b[0m\u001b[0mcopy\u001b[0m\u001b[1;33m,\u001b[0m \u001b[0merrors\u001b[0m\u001b[1;33m=\u001b[0m\u001b[0merrors\u001b[0m\u001b[1;33m,\u001b[0m \u001b[1;33m**\u001b[0m\u001b[0mkwargs\u001b[0m\u001b[1;33m\u001b[0m\u001b[1;33m\u001b[0m\u001b[0m\n\u001b[0m\u001b[0;32m   5883\u001b[0m             )\n\u001b[0;32m   5884\u001b[0m             \u001b[1;32mreturn\u001b[0m \u001b[0mself\u001b[0m\u001b[1;33m.\u001b[0m\u001b[0m_constructor\u001b[0m\u001b[1;33m(\u001b[0m\u001b[0mnew_data\u001b[0m\u001b[1;33m)\u001b[0m\u001b[1;33m.\u001b[0m\u001b[0m__finalize__\u001b[0m\u001b[1;33m(\u001b[0m\u001b[0mself\u001b[0m\u001b[1;33m)\u001b[0m\u001b[1;33m\u001b[0m\u001b[1;33m\u001b[0m\u001b[0m\n",
      "\u001b[1;32m~\\AppData\\Roaming\\Python\\Python37\\site-packages\\pandas\\core\\internals\\managers.py\u001b[0m in \u001b[0;36mastype\u001b[1;34m(self, dtype, **kwargs)\u001b[0m\n\u001b[0;32m    579\u001b[0m \u001b[1;33m\u001b[0m\u001b[0m\n\u001b[0;32m    580\u001b[0m     \u001b[1;32mdef\u001b[0m \u001b[0mastype\u001b[0m\u001b[1;33m(\u001b[0m\u001b[0mself\u001b[0m\u001b[1;33m,\u001b[0m \u001b[0mdtype\u001b[0m\u001b[1;33m,\u001b[0m \u001b[1;33m**\u001b[0m\u001b[0mkwargs\u001b[0m\u001b[1;33m)\u001b[0m\u001b[1;33m:\u001b[0m\u001b[1;33m\u001b[0m\u001b[1;33m\u001b[0m\u001b[0m\n\u001b[1;32m--> 581\u001b[1;33m         \u001b[1;32mreturn\u001b[0m \u001b[0mself\u001b[0m\u001b[1;33m.\u001b[0m\u001b[0mapply\u001b[0m\u001b[1;33m(\u001b[0m\u001b[1;34m\"astype\"\u001b[0m\u001b[1;33m,\u001b[0m \u001b[0mdtype\u001b[0m\u001b[1;33m=\u001b[0m\u001b[0mdtype\u001b[0m\u001b[1;33m,\u001b[0m \u001b[1;33m**\u001b[0m\u001b[0mkwargs\u001b[0m\u001b[1;33m)\u001b[0m\u001b[1;33m\u001b[0m\u001b[1;33m\u001b[0m\u001b[0m\n\u001b[0m\u001b[0;32m    582\u001b[0m \u001b[1;33m\u001b[0m\u001b[0m\n\u001b[0;32m    583\u001b[0m     \u001b[1;32mdef\u001b[0m \u001b[0mconvert\u001b[0m\u001b[1;33m(\u001b[0m\u001b[0mself\u001b[0m\u001b[1;33m,\u001b[0m \u001b[1;33m**\u001b[0m\u001b[0mkwargs\u001b[0m\u001b[1;33m)\u001b[0m\u001b[1;33m:\u001b[0m\u001b[1;33m\u001b[0m\u001b[1;33m\u001b[0m\u001b[0m\n",
      "\u001b[1;32m~\\AppData\\Roaming\\Python\\Python37\\site-packages\\pandas\\core\\internals\\managers.py\u001b[0m in \u001b[0;36mapply\u001b[1;34m(self, f, axes, filter, do_integrity_check, consolidate, **kwargs)\u001b[0m\n\u001b[0;32m    436\u001b[0m                     \u001b[0mkwargs\u001b[0m\u001b[1;33m[\u001b[0m\u001b[0mk\u001b[0m\u001b[1;33m]\u001b[0m \u001b[1;33m=\u001b[0m \u001b[0mobj\u001b[0m\u001b[1;33m.\u001b[0m\u001b[0mreindex\u001b[0m\u001b[1;33m(\u001b[0m\u001b[0mb_items\u001b[0m\u001b[1;33m,\u001b[0m \u001b[0maxis\u001b[0m\u001b[1;33m=\u001b[0m\u001b[0maxis\u001b[0m\u001b[1;33m,\u001b[0m \u001b[0mcopy\u001b[0m\u001b[1;33m=\u001b[0m\u001b[0malign_copy\u001b[0m\u001b[1;33m)\u001b[0m\u001b[1;33m\u001b[0m\u001b[1;33m\u001b[0m\u001b[0m\n\u001b[0;32m    437\u001b[0m \u001b[1;33m\u001b[0m\u001b[0m\n\u001b[1;32m--> 438\u001b[1;33m             \u001b[0mapplied\u001b[0m \u001b[1;33m=\u001b[0m \u001b[0mgetattr\u001b[0m\u001b[1;33m(\u001b[0m\u001b[0mb\u001b[0m\u001b[1;33m,\u001b[0m \u001b[0mf\u001b[0m\u001b[1;33m)\u001b[0m\u001b[1;33m(\u001b[0m\u001b[1;33m**\u001b[0m\u001b[0mkwargs\u001b[0m\u001b[1;33m)\u001b[0m\u001b[1;33m\u001b[0m\u001b[1;33m\u001b[0m\u001b[0m\n\u001b[0m\u001b[0;32m    439\u001b[0m             \u001b[0mresult_blocks\u001b[0m \u001b[1;33m=\u001b[0m \u001b[0m_extend_blocks\u001b[0m\u001b[1;33m(\u001b[0m\u001b[0mapplied\u001b[0m\u001b[1;33m,\u001b[0m \u001b[0mresult_blocks\u001b[0m\u001b[1;33m)\u001b[0m\u001b[1;33m\u001b[0m\u001b[1;33m\u001b[0m\u001b[0m\n\u001b[0;32m    440\u001b[0m \u001b[1;33m\u001b[0m\u001b[0m\n",
      "\u001b[1;32m~\\AppData\\Roaming\\Python\\Python37\\site-packages\\pandas\\core\\internals\\blocks.py\u001b[0m in \u001b[0;36mastype\u001b[1;34m(self, dtype, copy, errors, values, **kwargs)\u001b[0m\n\u001b[0;32m    557\u001b[0m \u001b[1;33m\u001b[0m\u001b[0m\n\u001b[0;32m    558\u001b[0m     \u001b[1;32mdef\u001b[0m \u001b[0mastype\u001b[0m\u001b[1;33m(\u001b[0m\u001b[0mself\u001b[0m\u001b[1;33m,\u001b[0m \u001b[0mdtype\u001b[0m\u001b[1;33m,\u001b[0m \u001b[0mcopy\u001b[0m\u001b[1;33m=\u001b[0m\u001b[1;32mFalse\u001b[0m\u001b[1;33m,\u001b[0m \u001b[0merrors\u001b[0m\u001b[1;33m=\u001b[0m\u001b[1;34m\"raise\"\u001b[0m\u001b[1;33m,\u001b[0m \u001b[0mvalues\u001b[0m\u001b[1;33m=\u001b[0m\u001b[1;32mNone\u001b[0m\u001b[1;33m,\u001b[0m \u001b[1;33m**\u001b[0m\u001b[0mkwargs\u001b[0m\u001b[1;33m)\u001b[0m\u001b[1;33m:\u001b[0m\u001b[1;33m\u001b[0m\u001b[1;33m\u001b[0m\u001b[0m\n\u001b[1;32m--> 559\u001b[1;33m         \u001b[1;32mreturn\u001b[0m \u001b[0mself\u001b[0m\u001b[1;33m.\u001b[0m\u001b[0m_astype\u001b[0m\u001b[1;33m(\u001b[0m\u001b[0mdtype\u001b[0m\u001b[1;33m,\u001b[0m \u001b[0mcopy\u001b[0m\u001b[1;33m=\u001b[0m\u001b[0mcopy\u001b[0m\u001b[1;33m,\u001b[0m \u001b[0merrors\u001b[0m\u001b[1;33m=\u001b[0m\u001b[0merrors\u001b[0m\u001b[1;33m,\u001b[0m \u001b[0mvalues\u001b[0m\u001b[1;33m=\u001b[0m\u001b[0mvalues\u001b[0m\u001b[1;33m,\u001b[0m \u001b[1;33m**\u001b[0m\u001b[0mkwargs\u001b[0m\u001b[1;33m)\u001b[0m\u001b[1;33m\u001b[0m\u001b[1;33m\u001b[0m\u001b[0m\n\u001b[0m\u001b[0;32m    560\u001b[0m \u001b[1;33m\u001b[0m\u001b[0m\n\u001b[0;32m    561\u001b[0m     \u001b[1;32mdef\u001b[0m \u001b[0m_astype\u001b[0m\u001b[1;33m(\u001b[0m\u001b[0mself\u001b[0m\u001b[1;33m,\u001b[0m \u001b[0mdtype\u001b[0m\u001b[1;33m,\u001b[0m \u001b[0mcopy\u001b[0m\u001b[1;33m=\u001b[0m\u001b[1;32mFalse\u001b[0m\u001b[1;33m,\u001b[0m \u001b[0merrors\u001b[0m\u001b[1;33m=\u001b[0m\u001b[1;34m\"raise\"\u001b[0m\u001b[1;33m,\u001b[0m \u001b[0mvalues\u001b[0m\u001b[1;33m=\u001b[0m\u001b[1;32mNone\u001b[0m\u001b[1;33m,\u001b[0m \u001b[1;33m**\u001b[0m\u001b[0mkwargs\u001b[0m\u001b[1;33m)\u001b[0m\u001b[1;33m:\u001b[0m\u001b[1;33m\u001b[0m\u001b[1;33m\u001b[0m\u001b[0m\n",
      "\u001b[1;32m~\\AppData\\Roaming\\Python\\Python37\\site-packages\\pandas\\core\\internals\\blocks.py\u001b[0m in \u001b[0;36m_astype\u001b[1;34m(self, dtype, copy, errors, values, **kwargs)\u001b[0m\n\u001b[0;32m    641\u001b[0m                     \u001b[1;31m# _astype_nansafe works fine with 1-d only\u001b[0m\u001b[1;33m\u001b[0m\u001b[1;33m\u001b[0m\u001b[1;33m\u001b[0m\u001b[0m\n\u001b[0;32m    642\u001b[0m                     \u001b[0mvals1d\u001b[0m \u001b[1;33m=\u001b[0m \u001b[0mvalues\u001b[0m\u001b[1;33m.\u001b[0m\u001b[0mravel\u001b[0m\u001b[1;33m(\u001b[0m\u001b[1;33m)\u001b[0m\u001b[1;33m\u001b[0m\u001b[1;33m\u001b[0m\u001b[0m\n\u001b[1;32m--> 643\u001b[1;33m                     \u001b[0mvalues\u001b[0m \u001b[1;33m=\u001b[0m \u001b[0mastype_nansafe\u001b[0m\u001b[1;33m(\u001b[0m\u001b[0mvals1d\u001b[0m\u001b[1;33m,\u001b[0m \u001b[0mdtype\u001b[0m\u001b[1;33m,\u001b[0m \u001b[0mcopy\u001b[0m\u001b[1;33m=\u001b[0m\u001b[1;32mTrue\u001b[0m\u001b[1;33m,\u001b[0m \u001b[1;33m**\u001b[0m\u001b[0mkwargs\u001b[0m\u001b[1;33m)\u001b[0m\u001b[1;33m\u001b[0m\u001b[1;33m\u001b[0m\u001b[0m\n\u001b[0m\u001b[0;32m    644\u001b[0m \u001b[1;33m\u001b[0m\u001b[0m\n\u001b[0;32m    645\u001b[0m                 \u001b[1;31m# TODO(extension)\u001b[0m\u001b[1;33m\u001b[0m\u001b[1;33m\u001b[0m\u001b[1;33m\u001b[0m\u001b[0m\n",
      "\u001b[1;32m~\\AppData\\Roaming\\Python\\Python37\\site-packages\\pandas\\core\\dtypes\\cast.py\u001b[0m in \u001b[0;36mastype_nansafe\u001b[1;34m(arr, dtype, copy, skipna)\u001b[0m\n\u001b[0;32m    727\u001b[0m     \u001b[1;32mif\u001b[0m \u001b[0mcopy\u001b[0m \u001b[1;32mor\u001b[0m \u001b[0mis_object_dtype\u001b[0m\u001b[1;33m(\u001b[0m\u001b[0marr\u001b[0m\u001b[1;33m)\u001b[0m \u001b[1;32mor\u001b[0m \u001b[0mis_object_dtype\u001b[0m\u001b[1;33m(\u001b[0m\u001b[0mdtype\u001b[0m\u001b[1;33m)\u001b[0m\u001b[1;33m:\u001b[0m\u001b[1;33m\u001b[0m\u001b[1;33m\u001b[0m\u001b[0m\n\u001b[0;32m    728\u001b[0m         \u001b[1;31m# Explicit copy, or required since NumPy can't view from / to object.\u001b[0m\u001b[1;33m\u001b[0m\u001b[1;33m\u001b[0m\u001b[1;33m\u001b[0m\u001b[0m\n\u001b[1;32m--> 729\u001b[1;33m         \u001b[1;32mreturn\u001b[0m \u001b[0marr\u001b[0m\u001b[1;33m.\u001b[0m\u001b[0mastype\u001b[0m\u001b[1;33m(\u001b[0m\u001b[0mdtype\u001b[0m\u001b[1;33m,\u001b[0m \u001b[0mcopy\u001b[0m\u001b[1;33m=\u001b[0m\u001b[1;32mTrue\u001b[0m\u001b[1;33m)\u001b[0m\u001b[1;33m\u001b[0m\u001b[1;33m\u001b[0m\u001b[0m\n\u001b[0m\u001b[0;32m    730\u001b[0m \u001b[1;33m\u001b[0m\u001b[0m\n\u001b[0;32m    731\u001b[0m     \u001b[1;32mreturn\u001b[0m \u001b[0marr\u001b[0m\u001b[1;33m.\u001b[0m\u001b[0mview\u001b[0m\u001b[1;33m(\u001b[0m\u001b[0mdtype\u001b[0m\u001b[1;33m)\u001b[0m\u001b[1;33m\u001b[0m\u001b[1;33m\u001b[0m\u001b[0m\n",
      "\u001b[1;31mValueError\u001b[0m: could not convert string to float: 'C3'"
     ]
    },
    {
     "data": {
      "image/png": "[encoded data removed]",
      "text/plain": [
       "<Figure size 1296x1008 with 8 Axes>"
      ]
     },
     "metadata": {},
     "output_type": "display_data"
    }
   ],
   "source": [
    "sns.set(font_scale=1.3)\n",
    "fig, axes = plt.subplots(4, 2, figsize=(18, 14))\n",
    "axes = [ax for axes_row in axes for ax in axes_row]\n",
    "for i, c in enumerate(num_cols):\n",
    "    plot = sns.kdeplot(data=train, x=c, ax=axes[i], fill=True)\n",
    "plt.tight_layout()"
   ]
  },
  {
   "cell_type": "code",
   "execution_count": 20,
   "metadata": {},
   "outputs": [
    {
     "data": {
      "text/html": [
       "<div>\n",
       "<style scoped>\n",
       "    .dataframe tbody tr th:only-of-type {\n",
       "        vertical-align: middle;\n",
       "    }\n",
       "\n",
       "    .dataframe tbody tr th {\n",
       "        vertical-align: top;\n",
       "    }\n",
       "\n",
       "    .dataframe thead th {\n",
       "        text-align: right;\n",
       "    }\n",
       "</style>\n",
       "<table border=\"1\" class=\"dataframe\">\n",
       "  <thead>\n",
       "    <tr style=\"text-align: right;\">\n",
       "      <th></th>\n",
       "      <th>ID</th>\n",
       "      <th>City_Code</th>\n",
       "      <th>Region_Code</th>\n",
       "      <th>Accomodation_Type</th>\n",
       "      <th>Reco_Insurance_Type</th>\n",
       "      <th>Upper_Age</th>\n",
       "      <th>Lower_Age</th>\n",
       "      <th>Is_Spouse</th>\n",
       "      <th>Health Indicator</th>\n",
       "      <th>Holding_Policy_Duration</th>\n",
       "      <th>Holding_Policy_Type</th>\n",
       "      <th>Reco_Policy_Cat</th>\n",
       "      <th>Reco_Policy_Premium</th>\n",
       "      <th>Response</th>\n",
       "    </tr>\n",
       "  </thead>\n",
       "  <tbody>\n",
       "    <tr>\n",
       "      <th>0</th>\n",
       "      <td>1</td>\n",
       "      <td>C3</td>\n",
       "      <td>3213</td>\n",
       "      <td>Rented</td>\n",
       "      <td>Individual</td>\n",
       "      <td>36</td>\n",
       "      <td>36</td>\n",
       "      <td>No</td>\n",
       "      <td>X1</td>\n",
       "      <td>14+</td>\n",
       "      <td>3.0</td>\n",
       "      <td>22</td>\n",
       "      <td>11628.0</td>\n",
       "      <td>0</td>\n",
       "    </tr>\n",
       "    <tr>\n",
       "      <th>1</th>\n",
       "      <td>2</td>\n",
       "      <td>C5</td>\n",
       "      <td>1117</td>\n",
       "      <td>Owned</td>\n",
       "      <td>Joint</td>\n",
       "      <td>75</td>\n",
       "      <td>22</td>\n",
       "      <td>No</td>\n",
       "      <td>X2</td>\n",
       "      <td>NaN</td>\n",
       "      <td>NaN</td>\n",
       "      <td>22</td>\n",
       "      <td>30510.0</td>\n",
       "      <td>0</td>\n",
       "    </tr>\n",
       "    <tr>\n",
       "      <th>2</th>\n",
       "      <td>3</td>\n",
       "      <td>C5</td>\n",
       "      <td>3732</td>\n",
       "      <td>Owned</td>\n",
       "      <td>Individual</td>\n",
       "      <td>32</td>\n",
       "      <td>32</td>\n",
       "      <td>No</td>\n",
       "      <td>NaN</td>\n",
       "      <td>1.0</td>\n",
       "      <td>1.0</td>\n",
       "      <td>19</td>\n",
       "      <td>7450.0</td>\n",
       "      <td>1</td>\n",
       "    </tr>\n",
       "    <tr>\n",
       "      <th>3</th>\n",
       "      <td>4</td>\n",
       "      <td>C24</td>\n",
       "      <td>4378</td>\n",
       "      <td>Owned</td>\n",
       "      <td>Joint</td>\n",
       "      <td>52</td>\n",
       "      <td>48</td>\n",
       "      <td>No</td>\n",
       "      <td>X1</td>\n",
       "      <td>14+</td>\n",
       "      <td>3.0</td>\n",
       "      <td>19</td>\n",
       "      <td>17780.0</td>\n",
       "      <td>0</td>\n",
       "    </tr>\n",
       "    <tr>\n",
       "      <th>4</th>\n",
       "      <td>5</td>\n",
       "      <td>C8</td>\n",
       "      <td>2190</td>\n",
       "      <td>Rented</td>\n",
       "      <td>Individual</td>\n",
       "      <td>44</td>\n",
       "      <td>44</td>\n",
       "      <td>No</td>\n",
       "      <td>X2</td>\n",
       "      <td>3.0</td>\n",
       "      <td>1.0</td>\n",
       "      <td>16</td>\n",
       "      <td>10404.0</td>\n",
       "      <td>0</td>\n",
       "    </tr>\n",
       "    <tr>\n",
       "      <th>...</th>\n",
       "      <td>...</td>\n",
       "      <td>...</td>\n",
       "      <td>...</td>\n",
       "      <td>...</td>\n",
       "      <td>...</td>\n",
       "      <td>...</td>\n",
       "      <td>...</td>\n",
       "      <td>...</td>\n",
       "      <td>...</td>\n",
       "      <td>...</td>\n",
       "      <td>...</td>\n",
       "      <td>...</td>\n",
       "      <td>...</td>\n",
       "      <td>...</td>\n",
       "    </tr>\n",
       "    <tr>\n",
       "      <th>50877</th>\n",
       "      <td>50878</td>\n",
       "      <td>C4</td>\n",
       "      <td>845</td>\n",
       "      <td>Rented</td>\n",
       "      <td>Individual</td>\n",
       "      <td>22</td>\n",
       "      <td>22</td>\n",
       "      <td>No</td>\n",
       "      <td>X3</td>\n",
       "      <td>NaN</td>\n",
       "      <td>NaN</td>\n",
       "      <td>18</td>\n",
       "      <td>7704.0</td>\n",
       "      <td>0</td>\n",
       "    </tr>\n",
       "    <tr>\n",
       "      <th>50878</th>\n",
       "      <td>50879</td>\n",
       "      <td>C5</td>\n",
       "      <td>4188</td>\n",
       "      <td>Rented</td>\n",
       "      <td>Individual</td>\n",
       "      <td>27</td>\n",
       "      <td>27</td>\n",
       "      <td>No</td>\n",
       "      <td>X3</td>\n",
       "      <td>7.0</td>\n",
       "      <td>3.0</td>\n",
       "      <td>4</td>\n",
       "      <td>5408.0</td>\n",
       "      <td>0</td>\n",
       "    </tr>\n",
       "    <tr>\n",
       "      <th>50879</th>\n",
       "      <td>50880</td>\n",
       "      <td>C1</td>\n",
       "      <td>442</td>\n",
       "      <td>Rented</td>\n",
       "      <td>Individual</td>\n",
       "      <td>63</td>\n",
       "      <td>63</td>\n",
       "      <td>No</td>\n",
       "      <td>X2</td>\n",
       "      <td>14+</td>\n",
       "      <td>1.0</td>\n",
       "      <td>12</td>\n",
       "      <td>11374.0</td>\n",
       "      <td>0</td>\n",
       "    </tr>\n",
       "    <tr>\n",
       "      <th>50880</th>\n",
       "      <td>50881</td>\n",
       "      <td>C1</td>\n",
       "      <td>4</td>\n",
       "      <td>Owned</td>\n",
       "      <td>Joint</td>\n",
       "      <td>71</td>\n",
       "      <td>49</td>\n",
       "      <td>No</td>\n",
       "      <td>X2</td>\n",
       "      <td>2.0</td>\n",
       "      <td>2.0</td>\n",
       "      <td>16</td>\n",
       "      <td>28179.2</td>\n",
       "      <td>1</td>\n",
       "    </tr>\n",
       "    <tr>\n",
       "      <th>50881</th>\n",
       "      <td>50882</td>\n",
       "      <td>C3</td>\n",
       "      <td>3866</td>\n",
       "      <td>Rented</td>\n",
       "      <td>Individual</td>\n",
       "      <td>24</td>\n",
       "      <td>24</td>\n",
       "      <td>No</td>\n",
       "      <td>X3</td>\n",
       "      <td>2.0</td>\n",
       "      <td>3.0</td>\n",
       "      <td>18</td>\n",
       "      <td>11424.0</td>\n",
       "      <td>0</td>\n",
       "    </tr>\n",
       "  </tbody>\n",
       "</table>\n",
       "<p>50882 rows × 14 columns</p>\n",
       "</div>"
      ],
      "text/plain": [
       "          ID City_Code  Region_Code Accomodation_Type Reco_Insurance_Type  \\\n",
       "0      1      C3        3213         Rented            Individual           \n",
       "1      2      C5        1117         Owned             Joint                \n",
       "2      3      C5        3732         Owned             Individual           \n",
       "3      4      C24       4378         Owned             Joint                \n",
       "4      5      C8        2190         Rented            Individual           \n",
       "...   ..      ..         ...            ...                   ...           \n",
       "50877  50878  C4        845          Rented            Individual           \n",
       "50878  50879  C5        4188         Rented            Individual           \n",
       "50879  50880  C1        442          Rented            Individual           \n",
       "50880  50881  C1        4            Owned             Joint                \n",
       "50881  50882  C3        3866         Rented            Individual           \n",
       "\n",
       "       Upper_Age  Lower_Age Is_Spouse Health Indicator  \\\n",
       "0      36         36         No        X1                \n",
       "1      75         22         No        X2                \n",
       "2      32         32         No        NaN               \n",
       "3      52         48         No        X1                \n",
       "4      44         44         No        X2                \n",
       "...    ..         ..         ..        ..                \n",
       "50877  22         22         No        X3                \n",
       "50878  27         27         No        X3                \n",
       "50879  63         63         No        X2                \n",
       "50880  71         49         No        X2                \n",
       "50881  24         24         No        X3                \n",
       "\n",
       "      Holding_Policy_Duration  Holding_Policy_Type  Reco_Policy_Cat  \\\n",
       "0      14+                     3.0                  22                \n",
       "1      NaN                    NaN                   22                \n",
       "2      1.0                     1.0                  19                \n",
       "3      14+                     3.0                  19                \n",
       "4      3.0                     1.0                  16                \n",
       "...    ...                     ...                  ..                \n",
       "50877  NaN                    NaN                   18                \n",
       "50878  7.0                     3.0                  4                 \n",
       "50879  14+                     1.0                  12                \n",
       "50880  2.0                     2.0                  16                \n",
       "50881  2.0                     3.0                  18                \n",
       "\n",
       "       Reco_Policy_Premium  Response  \n",
       "0      11628.0              0         \n",
       "1      30510.0              0         \n",
       "2      7450.0               1         \n",
       "3      17780.0              0         \n",
       "4      10404.0              0         \n",
       "...        ...             ..         \n",
       "50877  7704.0               0         \n",
       "50878  5408.0               0         \n",
       "50879  11374.0              0         \n",
       "50880  28179.2              1         \n",
       "50881  11424.0              0         \n",
       "\n",
       "[50882 rows x 14 columns]"
      ]
     },
     "execution_count": 20,
     "metadata": {},
     "output_type": "execute_result"
    }
   ],
   "source": [
    "train"
   ]
  },
  {
   "cell_type": "code",
   "execution_count": 21,
   "metadata": {},
   "outputs": [
    {
     "ename": "ValueError",
     "evalue": "could not convert string to float: 'C3'",
     "output_type": "error",
     "traceback": [
      "\u001b[1;31m---------------------------------------------------------------------------\u001b[0m",
      "\u001b[1;31mValueError\u001b[0m                                Traceback (most recent call last)",
      "\u001b[1;32m<ipython-input-21-7bc4aa42ccb9>\u001b[0m in \u001b[0;36m<module>\u001b[1;34m\u001b[0m\n\u001b[0;32m      3\u001b[0m \u001b[0maxes\u001b[0m \u001b[1;33m=\u001b[0m \u001b[1;33m[\u001b[0m\u001b[0max\u001b[0m \u001b[1;32mfor\u001b[0m \u001b[0maxes_row\u001b[0m \u001b[1;32min\u001b[0m \u001b[0maxes\u001b[0m \u001b[1;32mfor\u001b[0m \u001b[0max\u001b[0m \u001b[1;32min\u001b[0m \u001b[0maxes_row\u001b[0m\u001b[1;33m]\u001b[0m\u001b[1;33m\u001b[0m\u001b[1;33m\u001b[0m\u001b[0m\n\u001b[0;32m      4\u001b[0m \u001b[1;32mfor\u001b[0m \u001b[0mi\u001b[0m\u001b[1;33m,\u001b[0m \u001b[0mc\u001b[0m \u001b[1;32min\u001b[0m \u001b[0menumerate\u001b[0m\u001b[1;33m(\u001b[0m\u001b[0mnum_cols\u001b[0m\u001b[1;33m)\u001b[0m\u001b[1;33m:\u001b[0m\u001b[1;33m\u001b[0m\u001b[1;33m\u001b[0m\u001b[0m\n\u001b[1;32m----> 5\u001b[1;33m   \u001b[0mplot\u001b[0m \u001b[1;33m=\u001b[0m \u001b[0msns\u001b[0m\u001b[1;33m.\u001b[0m\u001b[0mkdeplot\u001b[0m\u001b[1;33m(\u001b[0m\u001b[0mdata\u001b[0m\u001b[1;33m=\u001b[0m\u001b[0mtrain\u001b[0m\u001b[1;33m,\u001b[0m \u001b[0mx\u001b[0m\u001b[1;33m=\u001b[0m\u001b[0mc\u001b[0m\u001b[1;33m,\u001b[0m \u001b[0mhue\u001b[0m\u001b[1;33m=\u001b[0m\u001b[0mTARGET_COL\u001b[0m\u001b[1;33m,\u001b[0m \u001b[0mmultiple\u001b[0m\u001b[1;33m=\u001b[0m\u001b[1;34m'fill'\u001b[0m\u001b[1;33m,\u001b[0m \u001b[0max\u001b[0m\u001b[1;33m=\u001b[0m\u001b[0maxes\u001b[0m\u001b[1;33m[\u001b[0m\u001b[0mi\u001b[0m\u001b[1;33m]\u001b[0m\u001b[1;33m)\u001b[0m\u001b[1;33m\u001b[0m\u001b[1;33m\u001b[0m\u001b[0m\n\u001b[0m\u001b[0;32m      6\u001b[0m \u001b[0mplt\u001b[0m\u001b[1;33m.\u001b[0m\u001b[0mtight_layout\u001b[0m\u001b[1;33m(\u001b[0m\u001b[1;33m)\u001b[0m\u001b[1;33m\u001b[0m\u001b[1;33m\u001b[0m\u001b[0m\n",
      "\u001b[1;32mC:\\Anaconda3\\lib\\site-packages\\seaborn\\distributions.py\u001b[0m in \u001b[0;36mkdeplot\u001b[1;34m(data, data2, shade, vertical, kernel, bw, gridsize, cut, clip, legend, cumulative, shade_lowest, cbar, cbar_ax, cbar_kws, ax, **kwargs)\u001b[0m\n\u001b[0;32m    662\u001b[0m         \u001b[1;32mreturn\u001b[0m \u001b[0max\u001b[0m\u001b[1;33m\u001b[0m\u001b[1;33m\u001b[0m\u001b[0m\n\u001b[0;32m    663\u001b[0m \u001b[1;33m\u001b[0m\u001b[0m\n\u001b[1;32m--> 664\u001b[1;33m     \u001b[0mdata\u001b[0m \u001b[1;33m=\u001b[0m \u001b[0mdata\u001b[0m\u001b[1;33m.\u001b[0m\u001b[0mastype\u001b[0m\u001b[1;33m(\u001b[0m\u001b[0mnp\u001b[0m\u001b[1;33m.\u001b[0m\u001b[0mfloat64\u001b[0m\u001b[1;33m)\u001b[0m\u001b[1;33m\u001b[0m\u001b[1;33m\u001b[0m\u001b[0m\n\u001b[0m\u001b[0;32m    665\u001b[0m     \u001b[1;32mif\u001b[0m \u001b[0mdata2\u001b[0m \u001b[1;32mis\u001b[0m \u001b[1;32mnot\u001b[0m \u001b[1;32mNone\u001b[0m\u001b[1;33m:\u001b[0m\u001b[1;33m\u001b[0m\u001b[1;33m\u001b[0m\u001b[0m\n\u001b[0;32m    666\u001b[0m         \u001b[1;32mif\u001b[0m \u001b[0misinstance\u001b[0m\u001b[1;33m(\u001b[0m\u001b[0mdata2\u001b[0m\u001b[1;33m,\u001b[0m \u001b[0mlist\u001b[0m\u001b[1;33m)\u001b[0m\u001b[1;33m:\u001b[0m\u001b[1;33m\u001b[0m\u001b[1;33m\u001b[0m\u001b[0m\n",
      "\u001b[1;32m~\\AppData\\Roaming\\Python\\Python37\\site-packages\\pandas\\core\\generic.py\u001b[0m in \u001b[0;36mastype\u001b[1;34m(self, dtype, copy, errors, **kwargs)\u001b[0m\n\u001b[0;32m   5880\u001b[0m             \u001b[1;31m# else, only a single dtype is given\u001b[0m\u001b[1;33m\u001b[0m\u001b[1;33m\u001b[0m\u001b[1;33m\u001b[0m\u001b[0m\n\u001b[0;32m   5881\u001b[0m             new_data = self._data.astype(\n\u001b[1;32m-> 5882\u001b[1;33m                 \u001b[0mdtype\u001b[0m\u001b[1;33m=\u001b[0m\u001b[0mdtype\u001b[0m\u001b[1;33m,\u001b[0m \u001b[0mcopy\u001b[0m\u001b[1;33m=\u001b[0m\u001b[0mcopy\u001b[0m\u001b[1;33m,\u001b[0m \u001b[0merrors\u001b[0m\u001b[1;33m=\u001b[0m\u001b[0merrors\u001b[0m\u001b[1;33m,\u001b[0m \u001b[1;33m**\u001b[0m\u001b[0mkwargs\u001b[0m\u001b[1;33m\u001b[0m\u001b[1;33m\u001b[0m\u001b[0m\n\u001b[0m\u001b[0;32m   5883\u001b[0m             )\n\u001b[0;32m   5884\u001b[0m             \u001b[1;32mreturn\u001b[0m \u001b[0mself\u001b[0m\u001b[1;33m.\u001b[0m\u001b[0m_constructor\u001b[0m\u001b[1;33m(\u001b[0m\u001b[0mnew_data\u001b[0m\u001b[1;33m)\u001b[0m\u001b[1;33m.\u001b[0m\u001b[0m__finalize__\u001b[0m\u001b[1;33m(\u001b[0m\u001b[0mself\u001b[0m\u001b[1;33m)\u001b[0m\u001b[1;33m\u001b[0m\u001b[1;33m\u001b[0m\u001b[0m\n",
      "\u001b[1;32m~\\AppData\\Roaming\\Python\\Python37\\site-packages\\pandas\\core\\internals\\managers.py\u001b[0m in \u001b[0;36mastype\u001b[1;34m(self, dtype, **kwargs)\u001b[0m\n\u001b[0;32m    579\u001b[0m \u001b[1;33m\u001b[0m\u001b[0m\n\u001b[0;32m    580\u001b[0m     \u001b[1;32mdef\u001b[0m \u001b[0mastype\u001b[0m\u001b[1;33m(\u001b[0m\u001b[0mself\u001b[0m\u001b[1;33m,\u001b[0m \u001b[0mdtype\u001b[0m\u001b[1;33m,\u001b[0m \u001b[1;33m**\u001b[0m\u001b[0mkwargs\u001b[0m\u001b[1;33m)\u001b[0m\u001b[1;33m:\u001b[0m\u001b[1;33m\u001b[0m\u001b[1;33m\u001b[0m\u001b[0m\n\u001b[1;32m--> 581\u001b[1;33m         \u001b[1;32mreturn\u001b[0m \u001b[0mself\u001b[0m\u001b[1;33m.\u001b[0m\u001b[0mapply\u001b[0m\u001b[1;33m(\u001b[0m\u001b[1;34m\"astype\"\u001b[0m\u001b[1;33m,\u001b[0m \u001b[0mdtype\u001b[0m\u001b[1;33m=\u001b[0m\u001b[0mdtype\u001b[0m\u001b[1;33m,\u001b[0m \u001b[1;33m**\u001b[0m\u001b[0mkwargs\u001b[0m\u001b[1;33m)\u001b[0m\u001b[1;33m\u001b[0m\u001b[1;33m\u001b[0m\u001b[0m\n\u001b[0m\u001b[0;32m    582\u001b[0m \u001b[1;33m\u001b[0m\u001b[0m\n\u001b[0;32m    583\u001b[0m     \u001b[1;32mdef\u001b[0m \u001b[0mconvert\u001b[0m\u001b[1;33m(\u001b[0m\u001b[0mself\u001b[0m\u001b[1;33m,\u001b[0m \u001b[1;33m**\u001b[0m\u001b[0mkwargs\u001b[0m\u001b[1;33m)\u001b[0m\u001b[1;33m:\u001b[0m\u001b[1;33m\u001b[0m\u001b[1;33m\u001b[0m\u001b[0m\n",
      "\u001b[1;32m~\\AppData\\Roaming\\Python\\Python37\\site-packages\\pandas\\core\\internals\\managers.py\u001b[0m in \u001b[0;36mapply\u001b[1;34m(self, f, axes, filter, do_integrity_check, consolidate, **kwargs)\u001b[0m\n\u001b[0;32m    436\u001b[0m                     \u001b[0mkwargs\u001b[0m\u001b[1;33m[\u001b[0m\u001b[0mk\u001b[0m\u001b[1;33m]\u001b[0m \u001b[1;33m=\u001b[0m \u001b[0mobj\u001b[0m\u001b[1;33m.\u001b[0m\u001b[0mreindex\u001b[0m\u001b[1;33m(\u001b[0m\u001b[0mb_items\u001b[0m\u001b[1;33m,\u001b[0m \u001b[0maxis\u001b[0m\u001b[1;33m=\u001b[0m\u001b[0maxis\u001b[0m\u001b[1;33m,\u001b[0m \u001b[0mcopy\u001b[0m\u001b[1;33m=\u001b[0m\u001b[0malign_copy\u001b[0m\u001b[1;33m)\u001b[0m\u001b[1;33m\u001b[0m\u001b[1;33m\u001b[0m\u001b[0m\n\u001b[0;32m    437\u001b[0m \u001b[1;33m\u001b[0m\u001b[0m\n\u001b[1;32m--> 438\u001b[1;33m             \u001b[0mapplied\u001b[0m \u001b[1;33m=\u001b[0m \u001b[0mgetattr\u001b[0m\u001b[1;33m(\u001b[0m\u001b[0mb\u001b[0m\u001b[1;33m,\u001b[0m \u001b[0mf\u001b[0m\u001b[1;33m)\u001b[0m\u001b[1;33m(\u001b[0m\u001b[1;33m**\u001b[0m\u001b[0mkwargs\u001b[0m\u001b[1;33m)\u001b[0m\u001b[1;33m\u001b[0m\u001b[1;33m\u001b[0m\u001b[0m\n\u001b[0m\u001b[0;32m    439\u001b[0m             \u001b[0mresult_blocks\u001b[0m \u001b[1;33m=\u001b[0m \u001b[0m_extend_blocks\u001b[0m\u001b[1;33m(\u001b[0m\u001b[0mapplied\u001b[0m\u001b[1;33m,\u001b[0m \u001b[0mresult_blocks\u001b[0m\u001b[1;33m)\u001b[0m\u001b[1;33m\u001b[0m\u001b[1;33m\u001b[0m\u001b[0m\n\u001b[0;32m    440\u001b[0m \u001b[1;33m\u001b[0m\u001b[0m\n",
      "\u001b[1;32m~\\AppData\\Roaming\\Python\\Python37\\site-packages\\pandas\\core\\internals\\blocks.py\u001b[0m in \u001b[0;36mastype\u001b[1;34m(self, dtype, copy, errors, values, **kwargs)\u001b[0m\n\u001b[0;32m    557\u001b[0m \u001b[1;33m\u001b[0m\u001b[0m\n\u001b[0;32m    558\u001b[0m     \u001b[1;32mdef\u001b[0m \u001b[0mastype\u001b[0m\u001b[1;33m(\u001b[0m\u001b[0mself\u001b[0m\u001b[1;33m,\u001b[0m \u001b[0mdtype\u001b[0m\u001b[1;33m,\u001b[0m \u001b[0mcopy\u001b[0m\u001b[1;33m=\u001b[0m\u001b[1;32mFalse\u001b[0m\u001b[1;33m,\u001b[0m \u001b[0merrors\u001b[0m\u001b[1;33m=\u001b[0m\u001b[1;34m\"raise\"\u001b[0m\u001b[1;33m,\u001b[0m \u001b[0mvalues\u001b[0m\u001b[1;33m=\u001b[0m\u001b[1;32mNone\u001b[0m\u001b[1;33m,\u001b[0m \u001b[1;33m**\u001b[0m\u001b[0mkwargs\u001b[0m\u001b[1;33m)\u001b[0m\u001b[1;33m:\u001b[0m\u001b[1;33m\u001b[0m\u001b[1;33m\u001b[0m\u001b[0m\n\u001b[1;32m--> 559\u001b[1;33m         \u001b[1;32mreturn\u001b[0m \u001b[0mself\u001b[0m\u001b[1;33m.\u001b[0m\u001b[0m_astype\u001b[0m\u001b[1;33m(\u001b[0m\u001b[0mdtype\u001b[0m\u001b[1;33m,\u001b[0m \u001b[0mcopy\u001b[0m\u001b[1;33m=\u001b[0m\u001b[0mcopy\u001b[0m\u001b[1;33m,\u001b[0m \u001b[0merrors\u001b[0m\u001b[1;33m=\u001b[0m\u001b[0merrors\u001b[0m\u001b[1;33m,\u001b[0m \u001b[0mvalues\u001b[0m\u001b[1;33m=\u001b[0m\u001b[0mvalues\u001b[0m\u001b[1;33m,\u001b[0m \u001b[1;33m**\u001b[0m\u001b[0mkwargs\u001b[0m\u001b[1;33m)\u001b[0m\u001b[1;33m\u001b[0m\u001b[1;33m\u001b[0m\u001b[0m\n\u001b[0m\u001b[0;32m    560\u001b[0m \u001b[1;33m\u001b[0m\u001b[0m\n\u001b[0;32m    561\u001b[0m     \u001b[1;32mdef\u001b[0m \u001b[0m_astype\u001b[0m\u001b[1;33m(\u001b[0m\u001b[0mself\u001b[0m\u001b[1;33m,\u001b[0m \u001b[0mdtype\u001b[0m\u001b[1;33m,\u001b[0m \u001b[0mcopy\u001b[0m\u001b[1;33m=\u001b[0m\u001b[1;32mFalse\u001b[0m\u001b[1;33m,\u001b[0m \u001b[0merrors\u001b[0m\u001b[1;33m=\u001b[0m\u001b[1;34m\"raise\"\u001b[0m\u001b[1;33m,\u001b[0m \u001b[0mvalues\u001b[0m\u001b[1;33m=\u001b[0m\u001b[1;32mNone\u001b[0m\u001b[1;33m,\u001b[0m \u001b[1;33m**\u001b[0m\u001b[0mkwargs\u001b[0m\u001b[1;33m)\u001b[0m\u001b[1;33m:\u001b[0m\u001b[1;33m\u001b[0m\u001b[1;33m\u001b[0m\u001b[0m\n",
      "\u001b[1;32m~\\AppData\\Roaming\\Python\\Python37\\site-packages\\pandas\\core\\internals\\blocks.py\u001b[0m in \u001b[0;36m_astype\u001b[1;34m(self, dtype, copy, errors, values, **kwargs)\u001b[0m\n\u001b[0;32m    641\u001b[0m                     \u001b[1;31m# _astype_nansafe works fine with 1-d only\u001b[0m\u001b[1;33m\u001b[0m\u001b[1;33m\u001b[0m\u001b[1;33m\u001b[0m\u001b[0m\n\u001b[0;32m    642\u001b[0m                     \u001b[0mvals1d\u001b[0m \u001b[1;33m=\u001b[0m \u001b[0mvalues\u001b[0m\u001b[1;33m.\u001b[0m\u001b[0mravel\u001b[0m\u001b[1;33m(\u001b[0m\u001b[1;33m)\u001b[0m\u001b[1;33m\u001b[0m\u001b[1;33m\u001b[0m\u001b[0m\n\u001b[1;32m--> 643\u001b[1;33m                     \u001b[0mvalues\u001b[0m \u001b[1;33m=\u001b[0m \u001b[0mastype_nansafe\u001b[0m\u001b[1;33m(\u001b[0m\u001b[0mvals1d\u001b[0m\u001b[1;33m,\u001b[0m \u001b[0mdtype\u001b[0m\u001b[1;33m,\u001b[0m \u001b[0mcopy\u001b[0m\u001b[1;33m=\u001b[0m\u001b[1;32mTrue\u001b[0m\u001b[1;33m,\u001b[0m \u001b[1;33m**\u001b[0m\u001b[0mkwargs\u001b[0m\u001b[1;33m)\u001b[0m\u001b[1;33m\u001b[0m\u001b[1;33m\u001b[0m\u001b[0m\n\u001b[0m\u001b[0;32m    644\u001b[0m \u001b[1;33m\u001b[0m\u001b[0m\n\u001b[0;32m    645\u001b[0m                 \u001b[1;31m# TODO(extension)\u001b[0m\u001b[1;33m\u001b[0m\u001b[1;33m\u001b[0m\u001b[1;33m\u001b[0m\u001b[0m\n",
      "\u001b[1;32m~\\AppData\\Roaming\\Python\\Python37\\site-packages\\pandas\\core\\dtypes\\cast.py\u001b[0m in \u001b[0;36mastype_nansafe\u001b[1;34m(arr, dtype, copy, skipna)\u001b[0m\n\u001b[0;32m    727\u001b[0m     \u001b[1;32mif\u001b[0m \u001b[0mcopy\u001b[0m \u001b[1;32mor\u001b[0m \u001b[0mis_object_dtype\u001b[0m\u001b[1;33m(\u001b[0m\u001b[0marr\u001b[0m\u001b[1;33m)\u001b[0m \u001b[1;32mor\u001b[0m \u001b[0mis_object_dtype\u001b[0m\u001b[1;33m(\u001b[0m\u001b[0mdtype\u001b[0m\u001b[1;33m)\u001b[0m\u001b[1;33m:\u001b[0m\u001b[1;33m\u001b[0m\u001b[1;33m\u001b[0m\u001b[0m\n\u001b[0;32m    728\u001b[0m         \u001b[1;31m# Explicit copy, or required since NumPy can't view from / to object.\u001b[0m\u001b[1;33m\u001b[0m\u001b[1;33m\u001b[0m\u001b[1;33m\u001b[0m\u001b[0m\n\u001b[1;32m--> 729\u001b[1;33m         \u001b[1;32mreturn\u001b[0m \u001b[0marr\u001b[0m\u001b[1;33m.\u001b[0m\u001b[0mastype\u001b[0m\u001b[1;33m(\u001b[0m\u001b[0mdtype\u001b[0m\u001b[1;33m,\u001b[0m \u001b[0mcopy\u001b[0m\u001b[1;33m=\u001b[0m\u001b[1;32mTrue\u001b[0m\u001b[1;33m)\u001b[0m\u001b[1;33m\u001b[0m\u001b[1;33m\u001b[0m\u001b[0m\n\u001b[0m\u001b[0;32m    730\u001b[0m \u001b[1;33m\u001b[0m\u001b[0m\n\u001b[0;32m    731\u001b[0m     \u001b[1;32mreturn\u001b[0m \u001b[0marr\u001b[0m\u001b[1;33m.\u001b[0m\u001b[0mview\u001b[0m\u001b[1;33m(\u001b[0m\u001b[0mdtype\u001b[0m\u001b[1;33m)\u001b[0m\u001b[1;33m\u001b[0m\u001b[1;33m\u001b[0m\u001b[0m\n",
      "\u001b[1;31mValueError\u001b[0m: could not convert string to float: 'C3'"
     ]
    },
    {
     "data": {
      "image/png": "[encoded data removed]",
      "text/plain": [
       "<Figure size 1296x1008 with 8 Axes>"
      ]
     },
     "metadata": {},
     "output_type": "display_data"
    }
   ],
   "source": [
    "sns.set(font_scale=1.3)\n",
    "fig, axes = plt.subplots(4, 2, figsize=(18, 14))\n",
    "axes = [ax for axes_row in axes for ax in axes_row]\n",
    "for i, c in enumerate(num_cols):\n",
    "  plot = sns.kdeplot(data=train, x=c, hue=TARGET_COL, multiple='fill', ax=axes[i])\n",
    "plt.tight_layout()"
   ]
  },
  {
   "cell_type": "code",
   "execution_count": 25,
   "metadata": {},
   "outputs": [
    {
     "data": {
      "image/png": "[encoded data removed]",
      "text/plain": [
       "<Figure size 1296x1008 with 8 Axes>"
      ]
     },
     "metadata": {},
     "output_type": "display_data"
    }
   ],
   "source": [
    "sns.set(font_scale=1.3)\n",
    "fig, axes = plt.subplots(4, 2, figsize=(18, 14))\n",
    "axes = [ax for axes_row in axes for ax in axes_row]\n",
    "for i, c in enumerate(num_cols):\n",
    "  plot = train.groupby(TARGET_COL)[c].mean().plot(kind = 'barh', title=f'Mean_{c}', ax=axes[i])\n",
    "plt.tight_layout()"
   ]
  },
  {
   "cell_type": "code",
   "execution_count": 26,
   "metadata": {},
   "outputs": [],
   "source": [
    "train['Reco_Policy_Premium'] = np.log(train['Reco_Policy_Premium'])"
   ]
  },
  {
   "cell_type": "code",
   "execution_count": 27,
   "metadata": {},
   "outputs": [],
   "source": [
    "#train['Region_Code'] = np.log(train['Region_Code'])"
   ]
  },
  {
   "cell_type": "code",
   "execution_count": 28,
   "metadata": {},
   "outputs": [
    {
     "data": {
      "text/plain": [
       "(72687, 14)"
      ]
     },
     "execution_count": 28,
     "metadata": {},
     "output_type": "execute_result"
    }
   ],
   "source": [
    "df = pd.concat([train, test], axis=0).reset_index(drop = True)\n",
    "df.shape"
   ]
  },
  {
   "cell_type": "code",
   "execution_count": null,
   "metadata": {},
   "outputs": [],
   "source": []
  },
  {
   "cell_type": "code",
   "execution_count": 29,
   "metadata": {},
   "outputs": [],
   "source": [
    "df = pd.get_dummies(df, columns= cat_cols)"
   ]
  },
  {
   "cell_type": "code",
   "execution_count": 30,
   "metadata": {},
   "outputs": [
    {
     "data": {
      "text/html": [
       "<div>\n",
       "<style scoped>\n",
       "    .dataframe tbody tr th:only-of-type {\n",
       "        vertical-align: middle;\n",
       "    }\n",
       "\n",
       "    .dataframe tbody tr th {\n",
       "        vertical-align: top;\n",
       "    }\n",
       "\n",
       "    .dataframe thead th {\n",
       "        text-align: right;\n",
       "    }\n",
       "</style>\n",
       "<table border=\"1\" class=\"dataframe\">\n",
       "  <thead>\n",
       "    <tr style=\"text-align: right;\">\n",
       "      <th></th>\n",
       "      <th>Holding_Policy_Type</th>\n",
       "      <th>ID</th>\n",
       "      <th>Lower_Age</th>\n",
       "      <th>Reco_Policy_Cat</th>\n",
       "      <th>Reco_Policy_Premium</th>\n",
       "      <th>Region_Code</th>\n",
       "      <th>Response</th>\n",
       "      <th>Upper_Age</th>\n",
       "      <th>City_Code_C1</th>\n",
       "      <th>City_Code_C10</th>\n",
       "      <th>...</th>\n",
       "      <th>Holding_Policy_Duration_14+</th>\n",
       "      <th>Holding_Policy_Duration_14.0</th>\n",
       "      <th>Holding_Policy_Duration_2.0</th>\n",
       "      <th>Holding_Policy_Duration_3.0</th>\n",
       "      <th>Holding_Policy_Duration_4.0</th>\n",
       "      <th>Holding_Policy_Duration_5.0</th>\n",
       "      <th>Holding_Policy_Duration_6.0</th>\n",
       "      <th>Holding_Policy_Duration_7.0</th>\n",
       "      <th>Holding_Policy_Duration_8.0</th>\n",
       "      <th>Holding_Policy_Duration_9.0</th>\n",
       "    </tr>\n",
       "  </thead>\n",
       "  <tbody>\n",
       "    <tr>\n",
       "      <th>0</th>\n",
       "      <td>3.0</td>\n",
       "      <td>1</td>\n",
       "      <td>36</td>\n",
       "      <td>22</td>\n",
       "      <td>9.361171</td>\n",
       "      <td>3213</td>\n",
       "      <td>0.0</td>\n",
       "      <td>36</td>\n",
       "      <td>0</td>\n",
       "      <td>0</td>\n",
       "      <td>...</td>\n",
       "      <td>1</td>\n",
       "      <td>0</td>\n",
       "      <td>0</td>\n",
       "      <td>0</td>\n",
       "      <td>0</td>\n",
       "      <td>0</td>\n",
       "      <td>0</td>\n",
       "      <td>0</td>\n",
       "      <td>0</td>\n",
       "      <td>0</td>\n",
       "    </tr>\n",
       "    <tr>\n",
       "      <th>1</th>\n",
       "      <td>NaN</td>\n",
       "      <td>2</td>\n",
       "      <td>22</td>\n",
       "      <td>22</td>\n",
       "      <td>10.325810</td>\n",
       "      <td>1117</td>\n",
       "      <td>0.0</td>\n",
       "      <td>75</td>\n",
       "      <td>0</td>\n",
       "      <td>0</td>\n",
       "      <td>...</td>\n",
       "      <td>0</td>\n",
       "      <td>0</td>\n",
       "      <td>0</td>\n",
       "      <td>0</td>\n",
       "      <td>0</td>\n",
       "      <td>0</td>\n",
       "      <td>0</td>\n",
       "      <td>0</td>\n",
       "      <td>0</td>\n",
       "      <td>0</td>\n",
       "    </tr>\n",
       "    <tr>\n",
       "      <th>2</th>\n",
       "      <td>1.0</td>\n",
       "      <td>3</td>\n",
       "      <td>32</td>\n",
       "      <td>19</td>\n",
       "      <td>8.915969</td>\n",
       "      <td>3732</td>\n",
       "      <td>1.0</td>\n",
       "      <td>32</td>\n",
       "      <td>0</td>\n",
       "      <td>0</td>\n",
       "      <td>...</td>\n",
       "      <td>0</td>\n",
       "      <td>0</td>\n",
       "      <td>0</td>\n",
       "      <td>0</td>\n",
       "      <td>0</td>\n",
       "      <td>0</td>\n",
       "      <td>0</td>\n",
       "      <td>0</td>\n",
       "      <td>0</td>\n",
       "      <td>0</td>\n",
       "    </tr>\n",
       "    <tr>\n",
       "      <th>3</th>\n",
       "      <td>3.0</td>\n",
       "      <td>4</td>\n",
       "      <td>48</td>\n",
       "      <td>19</td>\n",
       "      <td>9.785830</td>\n",
       "      <td>4378</td>\n",
       "      <td>0.0</td>\n",
       "      <td>52</td>\n",
       "      <td>0</td>\n",
       "      <td>0</td>\n",
       "      <td>...</td>\n",
       "      <td>1</td>\n",
       "      <td>0</td>\n",
       "      <td>0</td>\n",
       "      <td>0</td>\n",
       "      <td>0</td>\n",
       "      <td>0</td>\n",
       "      <td>0</td>\n",
       "      <td>0</td>\n",
       "      <td>0</td>\n",
       "      <td>0</td>\n",
       "    </tr>\n",
       "    <tr>\n",
       "      <th>4</th>\n",
       "      <td>1.0</td>\n",
       "      <td>5</td>\n",
       "      <td>44</td>\n",
       "      <td>16</td>\n",
       "      <td>9.249946</td>\n",
       "      <td>2190</td>\n",
       "      <td>0.0</td>\n",
       "      <td>44</td>\n",
       "      <td>0</td>\n",
       "      <td>0</td>\n",
       "      <td>...</td>\n",
       "      <td>0</td>\n",
       "      <td>0</td>\n",
       "      <td>0</td>\n",
       "      <td>1</td>\n",
       "      <td>0</td>\n",
       "      <td>0</td>\n",
       "      <td>0</td>\n",
       "      <td>0</td>\n",
       "      <td>0</td>\n",
       "      <td>0</td>\n",
       "    </tr>\n",
       "  </tbody>\n",
       "</table>\n",
       "<p>5 rows × 74 columns</p>\n",
       "</div>"
      ],
      "text/plain": [
       "   Holding_Policy_Type  ID  Lower_Age  Reco_Policy_Cat  Reco_Policy_Premium  \\\n",
       "0  3.0                  1   36         22               9.361171              \n",
       "1 NaN                   2   22         22               10.325810             \n",
       "2  1.0                  3   32         19               8.915969              \n",
       "3  3.0                  4   48         19               9.785830              \n",
       "4  1.0                  5   44         16               9.249946              \n",
       "\n",
       "   Region_Code  Response  Upper_Age  City_Code_C1  City_Code_C10  ...  \\\n",
       "0  3213         0.0       36         0             0              ...   \n",
       "1  1117         0.0       75         0             0              ...   \n",
       "2  3732         1.0       32         0             0              ...   \n",
       "3  4378         0.0       52         0             0              ...   \n",
       "4  2190         0.0       44         0             0              ...   \n",
       "\n",
       "   Holding_Policy_Duration_14+  Holding_Policy_Duration_14.0  \\\n",
       "0  1                            0                              \n",
       "1  0                            0                              \n",
       "2  0                            0                              \n",
       "3  1                            0                              \n",
       "4  0                            0                              \n",
       "\n",
       "   Holding_Policy_Duration_2.0  Holding_Policy_Duration_3.0  \\\n",
       "0  0                            0                             \n",
       "1  0                            0                             \n",
       "2  0                            0                             \n",
       "3  0                            0                             \n",
       "4  0                            1                             \n",
       "\n",
       "   Holding_Policy_Duration_4.0  Holding_Policy_Duration_5.0  \\\n",
       "0  0                            0                             \n",
       "1  0                            0                             \n",
       "2  0                            0                             \n",
       "3  0                            0                             \n",
       "4  0                            0                             \n",
       "\n",
       "   Holding_Policy_Duration_6.0  Holding_Policy_Duration_7.0  \\\n",
       "0  0                            0                             \n",
       "1  0                            0                             \n",
       "2  0                            0                             \n",
       "3  0                            0                             \n",
       "4  0                            0                             \n",
       "\n",
       "   Holding_Policy_Duration_8.0  Holding_Policy_Duration_9.0  \n",
       "0  0                            0                            \n",
       "1  0                            0                            \n",
       "2  0                            0                            \n",
       "3  0                            0                            \n",
       "4  0                            0                            \n",
       "\n",
       "[5 rows x 74 columns]"
      ]
     },
     "execution_count": 30,
     "metadata": {},
     "output_type": "execute_result"
    }
   ],
   "source": [
    "df.head()"
   ]
  },
  {
   "cell_type": "code",
   "execution_count": null,
   "metadata": {},
   "outputs": [],
   "source": []
  },
  {
   "cell_type": "code",
   "execution_count": 164,
   "metadata": {},
   "outputs": [],
   "source": [
    "df = df.fillna(0)"
   ]
  },
  {
   "cell_type": "code",
   "execution_count": 165,
   "metadata": {},
   "outputs": [],
   "source": [
    "#df['Upper_sum_lower']=df.groupby(['Upper_Age'])['Lower_Age'].transform('sum')"
   ]
  },
  {
   "cell_type": "code",
   "execution_count": 166,
   "metadata": {},
   "outputs": [],
   "source": [
    "df['Upper_sub_lower'] = df['Upper_Age'] - df['Lower_Age']"
   ]
  },
  {
   "cell_type": "code",
   "execution_count": 167,
   "metadata": {},
   "outputs": [],
   "source": [
    "# Splitting\n",
    "train_proc, test_proc = df[:train.shape[0]], df[train.shape[0]:].reset_index(drop = True)\n",
    "features = [c for c in train_proc.columns if c not in [ID_COL, TARGET_COL]]"
   ]
  },
  {
   "cell_type": "code",
   "execution_count": 185,
   "metadata": {},
   "outputs": [],
   "source": [
    "train_proc = train_proc.astype('float64')"
   ]
  },
  {
   "cell_type": "code",
   "execution_count": 186,
   "metadata": {},
   "outputs": [],
   "source": [
    "from imblearn.over_sampling import SMOTE\n",
    "smote = SMOTE()\n",
    "train_proc[features], train_proc[TARGET_COL] = smote.fit_resample(train_proc[features], train_proc[TARGET_COL])\n"
   ]
  },
  {
   "cell_type": "code",
   "execution_count": 187,
   "metadata": {},
   "outputs": [],
   "source": [
    "from sklearn.metrics import roc_curve\n",
    "from sklearn.metrics import roc_auc_score"
   ]
  },
  {
   "cell_type": "code",
   "execution_count": 188,
   "metadata": {},
   "outputs": [],
   "source": [
    "trn, val = train_test_split(train_proc, test_size=0.2, random_state = 1, stratify = train_proc[TARGET_COL])\n",
    "\n",
    "###### Input to our model will be the features\n",
    "X_trn, X_val = trn[features], val[features]\n",
    "\n",
    "###### Output of our model will be the TARGET_COL\n",
    "y_trn, y_val = trn[TARGET_COL], val[TARGET_COL]\n",
    "\n",
    "##### Features for the test data that we will be predicting\n",
    "X_test = test_proc[features]"
   ]
  },
  {
   "cell_type": "code",
   "execution_count": null,
   "metadata": {},
   "outputs": [],
   "source": []
  },
  {
   "cell_type": "code",
   "execution_count": 189,
   "metadata": {},
   "outputs": [],
   "source": [
    "from sklearn.preprocessing import StandardScaler\n",
    "\n",
    "scaler = StandardScaler()\n",
    "_ = scaler.fit(X_trn)\n",
    "\n",
    "X_trn = scaler.transform(X_trn)\n",
    "X_val = scaler.transform(X_val)\n",
    "X_test = scaler.transform(X_test)"
   ]
  },
  {
   "cell_type": "code",
   "execution_count": 195,
   "metadata": {},
   "outputs": [
    {
     "data": {
      "text/plain": [
       "0.5"
      ]
     },
     "execution_count": 195,
     "metadata": {},
     "output_type": "execute_result"
    }
   ],
   "source": [
    "clf = LogisticRegression()\n",
    "_ = clf.fit(X_trn, y_trn)\n",
    "\n",
    "preds_val = clf.predict(X_val)\n",
    "\n",
    "roc_auc_score(y_val, preds_val)"
   ]
  },
  {
   "cell_type": "code",
   "execution_count": 196,
   "metadata": {},
   "outputs": [],
   "source": [
    "preds_test = clf.predict(X_test)\n"
   ]
  },
  {
   "cell_type": "code",
   "execution_count": 203,
   "metadata": {},
   "outputs": [
    {
     "data": {
      "text/plain": [
       "0.5555158937511878"
      ]
     },
     "execution_count": 203,
     "metadata": {},
     "output_type": "execute_result"
    }
   ],
   "source": [
    "clf = DecisionTreeClassifier(random_state = 1)\n",
    "_ = clf.fit(X_trn, y_trn)\n",
    "\n",
    "preds_val = clf.predict(X_val)\n",
    "\n",
    "roc_auc_score(y_val, preds_val)"
   ]
  },
  {
   "cell_type": "code",
   "execution_count": 204,
   "metadata": {},
   "outputs": [
    {
     "data": {
      "text/plain": [
       "'from sklearn.svm import SVC\\nclf = SVC()\\n_ = clf.fit(X_trn, y_trn)\\n\\npreds_val = clf.predict(X_val)\\n\\nroc_auc_score(y_val, preds_val)'"
      ]
     },
     "execution_count": 204,
     "metadata": {},
     "output_type": "execute_result"
    }
   ],
   "source": [
    "'''from sklearn.svm import SVC\n",
    "clf = SVC()\n",
    "_ = clf.fit(X_trn, y_trn)\n",
    "\n",
    "preds_val = clf.predict(X_val)\n",
    "\n",
    "roc_auc_score(y_val, preds_val)'''"
   ]
  },
  {
   "cell_type": "code",
   "execution_count": 205,
   "metadata": {},
   "outputs": [
    {
     "data": {
      "text/plain": [
       "0.5085928115339879"
      ]
     },
     "execution_count": 205,
     "metadata": {},
     "output_type": "execute_result"
    }
   ],
   "source": [
    "clf = ExtraTreesClassifier(random_state = 1)\n",
    "_ = clf.fit(X_trn, y_trn)\n",
    "\n",
    "preds_val = clf.predict(X_val)\n",
    "\n",
    "roc_auc_score(y_val, preds_val)"
   ]
  },
  {
   "cell_type": "code",
   "execution_count": 206,
   "metadata": {},
   "outputs": [
    {
     "data": {
      "text/plain": [
       "0.5011746864688041"
      ]
     },
     "execution_count": 206,
     "metadata": {},
     "output_type": "execute_result"
    }
   ],
   "source": [
    "clf = GradientBoostingClassifier(random_state = 1)\n",
    "_ = clf.fit(X_trn, y_trn)\n",
    "\n",
    "preds_val = clf.predict(X_val)\n",
    "\n",
    "roc_auc_score(y_val, preds_val)"
   ]
  },
  {
   "cell_type": "code",
   "execution_count": 207,
   "metadata": {},
   "outputs": [
    {
     "name": "stdout",
     "output_type": "stream",
     "text": [
      "Learning rate set to 0.050148\n",
      "0:\tlearn: 0.6775343\ttotal: 158ms\tremaining: 2m 37s\n",
      "1:\tlearn: 0.6633580\ttotal: 195ms\tremaining: 1m 37s\n",
      "2:\tlearn: 0.6502365\ttotal: 233ms\tremaining: 1m 17s\n",
      "3:\tlearn: 0.6390141\ttotal: 257ms\tremaining: 1m 3s\n",
      "4:\tlearn: 0.6285201\ttotal: 287ms\tremaining: 57.2s\n",
      "5:\tlearn: 0.6191290\ttotal: 323ms\tremaining: 53.5s\n",
      "6:\tlearn: 0.6095360\ttotal: 370ms\tremaining: 52.5s\n",
      "7:\tlearn: 0.6009666\ttotal: 415ms\tremaining: 51.5s\n",
      "8:\tlearn: 0.5950850\ttotal: 448ms\tremaining: 49.3s\n",
      "9:\tlearn: 0.5893804\ttotal: 469ms\tremaining: 46.4s\n",
      "10:\tlearn: 0.5845221\ttotal: 491ms\tremaining: 44.1s\n",
      "11:\tlearn: 0.5799627\ttotal: 510ms\tremaining: 42s\n",
      "12:\tlearn: 0.5756884\ttotal: 527ms\tremaining: 40s\n",
      "13:\tlearn: 0.5717996\ttotal: 578ms\tremaining: 40.7s\n",
      "14:\tlearn: 0.5682492\ttotal: 616ms\tremaining: 40.5s\n",
      "15:\tlearn: 0.5655231\ttotal: 638ms\tremaining: 39.2s\n",
      "16:\tlearn: 0.5627977\ttotal: 677ms\tremaining: 39.2s\n",
      "17:\tlearn: 0.5603678\ttotal: 719ms\tremaining: 39.2s\n",
      "18:\tlearn: 0.5581855\ttotal: 774ms\tremaining: 40s\n",
      "19:\tlearn: 0.5559048\ttotal: 820ms\tremaining: 40.2s\n",
      "20:\tlearn: 0.5542642\ttotal: 871ms\tremaining: 40.6s\n",
      "21:\tlearn: 0.5525957\ttotal: 911ms\tremaining: 40.5s\n",
      "22:\tlearn: 0.5509157\ttotal: 929ms\tremaining: 39.5s\n",
      "23:\tlearn: 0.5494724\ttotal: 950ms\tremaining: 38.6s\n",
      "24:\tlearn: 0.5475166\ttotal: 974ms\tremaining: 38s\n",
      "25:\tlearn: 0.5465706\ttotal: 994ms\tremaining: 37.2s\n",
      "26:\tlearn: 0.5457401\ttotal: 1.03s\tremaining: 37.2s\n",
      "27:\tlearn: 0.5447284\ttotal: 1.06s\tremaining: 36.8s\n",
      "28:\tlearn: 0.5434281\ttotal: 1.08s\tremaining: 36.1s\n",
      "29:\tlearn: 0.5427186\ttotal: 1.09s\tremaining: 35.4s\n",
      "30:\tlearn: 0.5418328\ttotal: 1.11s\tremaining: 34.8s\n",
      "31:\tlearn: 0.5408799\ttotal: 1.14s\tremaining: 34.4s\n",
      "32:\tlearn: 0.5399395\ttotal: 1.22s\tremaining: 35.7s\n",
      "33:\tlearn: 0.5394022\ttotal: 1.24s\tremaining: 35.2s\n",
      "34:\tlearn: 0.5388302\ttotal: 1.28s\tremaining: 35.2s\n",
      "35:\tlearn: 0.5384978\ttotal: 1.33s\tremaining: 35.7s\n",
      "36:\tlearn: 0.5378030\ttotal: 1.39s\tremaining: 36.2s\n",
      "37:\tlearn: 0.5373976\ttotal: 1.42s\tremaining: 36s\n",
      "38:\tlearn: 0.5366788\ttotal: 1.44s\tremaining: 35.5s\n",
      "39:\tlearn: 0.5364023\ttotal: 1.47s\tremaining: 35.3s\n",
      "40:\tlearn: 0.5361197\ttotal: 1.5s\tremaining: 35.1s\n",
      "41:\tlearn: 0.5357571\ttotal: 1.54s\tremaining: 35.1s\n",
      "42:\tlearn: 0.5352069\ttotal: 1.56s\tremaining: 34.7s\n",
      "43:\tlearn: 0.5349450\ttotal: 1.6s\tremaining: 34.7s\n",
      "44:\tlearn: 0.5345439\ttotal: 1.63s\tremaining: 34.6s\n",
      "45:\tlearn: 0.5342352\ttotal: 1.66s\tremaining: 34.4s\n",
      "46:\tlearn: 0.5340066\ttotal: 1.68s\tremaining: 34.1s\n",
      "47:\tlearn: 0.5336401\ttotal: 1.7s\tremaining: 33.7s\n",
      "48:\tlearn: 0.5334062\ttotal: 1.73s\tremaining: 33.6s\n",
      "49:\tlearn: 0.5330580\ttotal: 1.75s\tremaining: 33.2s\n",
      "50:\tlearn: 0.5329006\ttotal: 1.77s\tremaining: 32.9s\n",
      "51:\tlearn: 0.5324927\ttotal: 1.79s\tremaining: 32.6s\n",
      "52:\tlearn: 0.5319721\ttotal: 1.81s\tremaining: 32.3s\n",
      "53:\tlearn: 0.5318732\ttotal: 1.83s\tremaining: 32s\n",
      "54:\tlearn: 0.5315371\ttotal: 1.85s\tremaining: 31.7s\n",
      "55:\tlearn: 0.5312656\ttotal: 1.86s\tremaining: 31.5s\n",
      "56:\tlearn: 0.5310828\ttotal: 1.89s\tremaining: 31.2s\n",
      "57:\tlearn: 0.5307227\ttotal: 1.9s\tremaining: 30.9s\n",
      "58:\tlearn: 0.5305800\ttotal: 1.92s\tremaining: 30.6s\n",
      "59:\tlearn: 0.5300967\ttotal: 1.94s\tremaining: 30.4s\n",
      "60:\tlearn: 0.5299424\ttotal: 1.96s\tremaining: 30.2s\n",
      "61:\tlearn: 0.5296053\ttotal: 1.98s\tremaining: 29.9s\n",
      "62:\tlearn: 0.5293014\ttotal: 2s\tremaining: 29.7s\n",
      "63:\tlearn: 0.5290306\ttotal: 2.02s\tremaining: 29.5s\n",
      "64:\tlearn: 0.5287475\ttotal: 2.04s\tremaining: 29.3s\n",
      "65:\tlearn: 0.5286096\ttotal: 2.05s\tremaining: 29.1s\n",
      "66:\tlearn: 0.5285255\ttotal: 2.07s\tremaining: 28.9s\n",
      "67:\tlearn: 0.5284199\ttotal: 2.09s\tremaining: 28.7s\n",
      "68:\tlearn: 0.5281825\ttotal: 2.11s\tremaining: 28.5s\n",
      "69:\tlearn: 0.5278140\ttotal: 2.13s\tremaining: 28.3s\n",
      "70:\tlearn: 0.5276203\ttotal: 2.15s\tremaining: 28.1s\n",
      "71:\tlearn: 0.5272730\ttotal: 2.17s\tremaining: 27.9s\n",
      "72:\tlearn: 0.5271823\ttotal: 2.18s\tremaining: 27.7s\n",
      "73:\tlearn: 0.5269971\ttotal: 2.2s\tremaining: 27.6s\n",
      "74:\tlearn: 0.5268641\ttotal: 2.22s\tremaining: 27.4s\n",
      "75:\tlearn: 0.5267903\ttotal: 2.24s\tremaining: 27.3s\n",
      "76:\tlearn: 0.5265992\ttotal: 2.26s\tremaining: 27.1s\n",
      "77:\tlearn: 0.5264501\ttotal: 2.28s\tremaining: 27s\n",
      "78:\tlearn: 0.5263681\ttotal: 2.3s\tremaining: 26.8s\n",
      "79:\tlearn: 0.5261977\ttotal: 2.32s\tremaining: 26.7s\n",
      "80:\tlearn: 0.5261351\ttotal: 2.34s\tremaining: 26.5s\n",
      "81:\tlearn: 0.5260274\ttotal: 2.36s\tremaining: 26.4s\n",
      "82:\tlearn: 0.5258314\ttotal: 2.38s\tremaining: 26.3s\n",
      "83:\tlearn: 0.5256783\ttotal: 2.4s\tremaining: 26.1s\n",
      "84:\tlearn: 0.5254315\ttotal: 2.41s\tremaining: 26s\n",
      "85:\tlearn: 0.5252685\ttotal: 2.43s\tremaining: 25.9s\n",
      "86:\tlearn: 0.5252011\ttotal: 2.45s\tremaining: 25.7s\n",
      "87:\tlearn: 0.5249601\ttotal: 2.47s\tremaining: 25.6s\n",
      "88:\tlearn: 0.5247945\ttotal: 2.49s\tremaining: 25.5s\n",
      "89:\tlearn: 0.5246841\ttotal: 2.51s\tremaining: 25.4s\n",
      "90:\tlearn: 0.5244510\ttotal: 2.53s\tremaining: 25.3s\n",
      "91:\tlearn: 0.5242937\ttotal: 2.55s\tremaining: 25.2s\n",
      "92:\tlearn: 0.5241721\ttotal: 2.6s\tremaining: 25.4s\n",
      "93:\tlearn: 0.5240105\ttotal: 2.62s\tremaining: 25.3s\n",
      "94:\tlearn: 0.5238781\ttotal: 2.64s\tremaining: 25.2s\n",
      "95:\tlearn: 0.5237501\ttotal: 2.66s\tremaining: 25.1s\n",
      "96:\tlearn: 0.5236321\ttotal: 2.68s\tremaining: 24.9s\n",
      "97:\tlearn: 0.5235476\ttotal: 2.7s\tremaining: 24.8s\n",
      "98:\tlearn: 0.5232977\ttotal: 2.72s\tremaining: 24.7s\n",
      "99:\tlearn: 0.5230229\ttotal: 2.74s\tremaining: 24.6s\n",
      "100:\tlearn: 0.5229037\ttotal: 2.75s\tremaining: 24.5s\n",
      "101:\tlearn: 0.5228515\ttotal: 2.77s\tremaining: 24.4s\n",
      "102:\tlearn: 0.5227866\ttotal: 2.79s\tremaining: 24.3s\n",
      "103:\tlearn: 0.5226823\ttotal: 2.81s\tremaining: 24.2s\n",
      "104:\tlearn: 0.5225818\ttotal: 2.83s\tremaining: 24.1s\n",
      "105:\tlearn: 0.5225209\ttotal: 2.85s\tremaining: 24.1s\n",
      "106:\tlearn: 0.5222882\ttotal: 2.87s\tremaining: 24s\n",
      "107:\tlearn: 0.5219579\ttotal: 2.89s\tremaining: 23.8s\n",
      "108:\tlearn: 0.5218874\ttotal: 2.91s\tremaining: 23.8s\n",
      "109:\tlearn: 0.5217668\ttotal: 2.92s\tremaining: 23.7s\n",
      "110:\tlearn: 0.5215718\ttotal: 2.94s\tremaining: 23.6s\n",
      "111:\tlearn: 0.5215033\ttotal: 2.96s\tremaining: 23.5s\n",
      "112:\tlearn: 0.5212758\ttotal: 2.98s\tremaining: 23.4s\n",
      "113:\tlearn: 0.5211821\ttotal: 3s\tremaining: 23.3s\n",
      "114:\tlearn: 0.5211014\ttotal: 3.02s\tremaining: 23.3s\n",
      "115:\tlearn: 0.5209882\ttotal: 3.04s\tremaining: 23.2s\n",
      "116:\tlearn: 0.5209171\ttotal: 3.06s\tremaining: 23.1s\n",
      "117:\tlearn: 0.5208495\ttotal: 3.08s\tremaining: 23s\n",
      "118:\tlearn: 0.5207642\ttotal: 3.1s\tremaining: 22.9s\n",
      "119:\tlearn: 0.5207223\ttotal: 3.12s\tremaining: 22.9s\n",
      "120:\tlearn: 0.5206090\ttotal: 3.14s\tremaining: 22.8s\n",
      "121:\tlearn: 0.5205294\ttotal: 3.15s\tremaining: 22.7s\n",
      "122:\tlearn: 0.5204295\ttotal: 3.17s\tremaining: 22.6s\n",
      "123:\tlearn: 0.5203719\ttotal: 3.19s\tremaining: 22.6s\n",
      "124:\tlearn: 0.5202416\ttotal: 3.21s\tremaining: 22.5s\n",
      "125:\tlearn: 0.5201259\ttotal: 3.23s\tremaining: 22.4s\n",
      "126:\tlearn: 0.5199251\ttotal: 3.25s\tremaining: 22.3s\n",
      "127:\tlearn: 0.5198613\ttotal: 3.27s\tremaining: 22.3s\n",
      "128:\tlearn: 0.5197572\ttotal: 3.29s\tremaining: 22.2s\n",
      "129:\tlearn: 0.5196475\ttotal: 3.31s\tremaining: 22.1s\n",
      "130:\tlearn: 0.5195758\ttotal: 3.33s\tremaining: 22.1s\n",
      "131:\tlearn: 0.5194617\ttotal: 3.34s\tremaining: 22s\n",
      "132:\tlearn: 0.5193505\ttotal: 3.36s\tremaining: 21.9s\n",
      "133:\tlearn: 0.5192929\ttotal: 3.38s\tremaining: 21.9s\n",
      "134:\tlearn: 0.5190838\ttotal: 3.4s\tremaining: 21.8s\n",
      "135:\tlearn: 0.5189940\ttotal: 3.42s\tremaining: 21.7s\n",
      "136:\tlearn: 0.5188234\ttotal: 3.44s\tremaining: 21.7s\n",
      "137:\tlearn: 0.5186841\ttotal: 3.46s\tremaining: 21.6s\n",
      "138:\tlearn: 0.5185238\ttotal: 3.48s\tremaining: 21.5s\n",
      "139:\tlearn: 0.5183835\ttotal: 3.5s\tremaining: 21.5s\n",
      "140:\tlearn: 0.5182954\ttotal: 3.52s\tremaining: 21.4s\n",
      "141:\tlearn: 0.5182442\ttotal: 3.54s\tremaining: 21.4s\n",
      "142:\tlearn: 0.5180181\ttotal: 3.55s\tremaining: 21.3s\n",
      "143:\tlearn: 0.5178735\ttotal: 3.57s\tremaining: 21.2s\n",
      "144:\tlearn: 0.5177897\ttotal: 3.59s\tremaining: 21.2s\n",
      "145:\tlearn: 0.5177410\ttotal: 3.61s\tremaining: 21.1s\n",
      "146:\tlearn: 0.5176467\ttotal: 3.63s\tremaining: 21.1s\n",
      "147:\tlearn: 0.5175329\ttotal: 3.65s\tremaining: 21s\n",
      "148:\tlearn: 0.5173774\ttotal: 3.67s\tremaining: 21s\n",
      "149:\tlearn: 0.5171799\ttotal: 3.69s\tremaining: 20.9s\n",
      "150:\tlearn: 0.5170997\ttotal: 3.71s\tremaining: 20.9s\n",
      "151:\tlearn: 0.5170317\ttotal: 3.73s\tremaining: 20.8s\n",
      "152:\tlearn: 0.5168309\ttotal: 3.75s\tremaining: 20.7s\n",
      "153:\tlearn: 0.5167597\ttotal: 3.77s\tremaining: 20.7s\n",
      "154:\tlearn: 0.5166850\ttotal: 3.79s\tremaining: 20.6s\n",
      "155:\tlearn: 0.5166024\ttotal: 3.8s\tremaining: 20.6s\n",
      "156:\tlearn: 0.5164948\ttotal: 3.82s\tremaining: 20.5s\n",
      "157:\tlearn: 0.5164909\ttotal: 3.83s\tremaining: 20.4s\n",
      "158:\tlearn: 0.5164121\ttotal: 3.85s\tremaining: 20.4s\n",
      "159:\tlearn: 0.5163312\ttotal: 3.87s\tremaining: 20.3s\n",
      "160:\tlearn: 0.5161708\ttotal: 3.89s\tremaining: 20.3s\n",
      "161:\tlearn: 0.5161083\ttotal: 3.91s\tremaining: 20.2s\n",
      "162:\tlearn: 0.5160053\ttotal: 3.93s\tremaining: 20.2s\n",
      "163:\tlearn: 0.5158869\ttotal: 3.95s\tremaining: 20.1s\n",
      "164:\tlearn: 0.5158045\ttotal: 3.97s\tremaining: 20.1s\n",
      "165:\tlearn: 0.5156937\ttotal: 3.99s\tremaining: 20s\n",
      "166:\tlearn: 0.5154778\ttotal: 4.01s\tremaining: 20s\n"
     ]
    },
    {
     "name": "stdout",
     "output_type": "stream",
     "text": [
      "167:\tlearn: 0.5153955\ttotal: 4.03s\tremaining: 19.9s\n",
      "168:\tlearn: 0.5153298\ttotal: 4.04s\tremaining: 19.9s\n",
      "169:\tlearn: 0.5152438\ttotal: 4.06s\tremaining: 19.8s\n",
      "170:\tlearn: 0.5151445\ttotal: 4.08s\tremaining: 19.8s\n",
      "171:\tlearn: 0.5150893\ttotal: 4.1s\tremaining: 19.8s\n",
      "172:\tlearn: 0.5150234\ttotal: 4.12s\tremaining: 19.7s\n",
      "173:\tlearn: 0.5149524\ttotal: 4.14s\tremaining: 19.7s\n",
      "174:\tlearn: 0.5147955\ttotal: 4.17s\tremaining: 19.7s\n",
      "175:\tlearn: 0.5147071\ttotal: 4.19s\tremaining: 19.6s\n",
      "176:\tlearn: 0.5146322\ttotal: 4.21s\tremaining: 19.6s\n",
      "177:\tlearn: 0.5146084\ttotal: 4.23s\tremaining: 19.5s\n",
      "178:\tlearn: 0.5145600\ttotal: 4.25s\tremaining: 19.5s\n",
      "179:\tlearn: 0.5144541\ttotal: 4.26s\tremaining: 19.4s\n",
      "180:\tlearn: 0.5143636\ttotal: 4.29s\tremaining: 19.4s\n",
      "181:\tlearn: 0.5143155\ttotal: 4.3s\tremaining: 19.3s\n",
      "182:\tlearn: 0.5142419\ttotal: 4.32s\tremaining: 19.3s\n",
      "183:\tlearn: 0.5141611\ttotal: 4.34s\tremaining: 19.3s\n",
      "184:\tlearn: 0.5141044\ttotal: 4.36s\tremaining: 19.2s\n",
      "185:\tlearn: 0.5140297\ttotal: 4.38s\tremaining: 19.2s\n",
      "186:\tlearn: 0.5138757\ttotal: 4.4s\tremaining: 19.1s\n",
      "187:\tlearn: 0.5137662\ttotal: 4.42s\tremaining: 19.1s\n",
      "188:\tlearn: 0.5136859\ttotal: 4.44s\tremaining: 19.1s\n",
      "189:\tlearn: 0.5135666\ttotal: 4.46s\tremaining: 19s\n",
      "190:\tlearn: 0.5134751\ttotal: 4.48s\tremaining: 19s\n",
      "191:\tlearn: 0.5133420\ttotal: 4.5s\tremaining: 18.9s\n",
      "192:\tlearn: 0.5132249\ttotal: 4.51s\tremaining: 18.9s\n",
      "193:\tlearn: 0.5131388\ttotal: 4.53s\tremaining: 18.8s\n",
      "194:\tlearn: 0.5130204\ttotal: 4.55s\tremaining: 18.8s\n",
      "195:\tlearn: 0.5129733\ttotal: 4.57s\tremaining: 18.8s\n",
      "196:\tlearn: 0.5129086\ttotal: 4.59s\tremaining: 18.7s\n",
      "197:\tlearn: 0.5128039\ttotal: 4.61s\tremaining: 18.7s\n",
      "198:\tlearn: 0.5126621\ttotal: 4.63s\tremaining: 18.6s\n",
      "199:\tlearn: 0.5125737\ttotal: 4.65s\tremaining: 18.6s\n",
      "200:\tlearn: 0.5123735\ttotal: 4.67s\tremaining: 18.5s\n",
      "201:\tlearn: 0.5122708\ttotal: 4.68s\tremaining: 18.5s\n",
      "202:\tlearn: 0.5121268\ttotal: 4.7s\tremaining: 18.5s\n",
      "203:\tlearn: 0.5120308\ttotal: 4.72s\tremaining: 18.4s\n",
      "204:\tlearn: 0.5119818\ttotal: 4.74s\tremaining: 18.4s\n",
      "205:\tlearn: 0.5119060\ttotal: 4.76s\tremaining: 18.4s\n",
      "206:\tlearn: 0.5118311\ttotal: 4.78s\tremaining: 18.3s\n",
      "207:\tlearn: 0.5117607\ttotal: 4.8s\tremaining: 18.3s\n",
      "208:\tlearn: 0.5116267\ttotal: 4.82s\tremaining: 18.2s\n",
      "209:\tlearn: 0.5115376\ttotal: 4.85s\tremaining: 18.2s\n",
      "210:\tlearn: 0.5114201\ttotal: 4.9s\tremaining: 18.3s\n",
      "211:\tlearn: 0.5113156\ttotal: 4.93s\tremaining: 18.3s\n",
      "212:\tlearn: 0.5111299\ttotal: 4.98s\tremaining: 18.4s\n",
      "213:\tlearn: 0.5110711\ttotal: 5s\tremaining: 18.4s\n",
      "214:\tlearn: 0.5108922\ttotal: 5.04s\tremaining: 18.4s\n",
      "215:\tlearn: 0.5107995\ttotal: 5.07s\tremaining: 18.4s\n",
      "216:\tlearn: 0.5106698\ttotal: 5.09s\tremaining: 18.4s\n",
      "217:\tlearn: 0.5105639\ttotal: 5.11s\tremaining: 18.3s\n",
      "218:\tlearn: 0.5104730\ttotal: 5.13s\tremaining: 18.3s\n",
      "219:\tlearn: 0.5104035\ttotal: 5.14s\tremaining: 18.2s\n",
      "220:\tlearn: 0.5102364\ttotal: 5.16s\tremaining: 18.2s\n",
      "221:\tlearn: 0.5101323\ttotal: 5.18s\tremaining: 18.2s\n",
      "222:\tlearn: 0.5100660\ttotal: 5.2s\tremaining: 18.1s\n",
      "223:\tlearn: 0.5099210\ttotal: 5.22s\tremaining: 18.1s\n",
      "224:\tlearn: 0.5098017\ttotal: 5.24s\tremaining: 18.1s\n",
      "225:\tlearn: 0.5097266\ttotal: 5.26s\tremaining: 18s\n",
      "226:\tlearn: 0.5096300\ttotal: 5.28s\tremaining: 18s\n",
      "227:\tlearn: 0.5095226\ttotal: 5.3s\tremaining: 17.9s\n",
      "228:\tlearn: 0.5094339\ttotal: 5.32s\tremaining: 17.9s\n",
      "229:\tlearn: 0.5093420\ttotal: 5.33s\tremaining: 17.9s\n",
      "230:\tlearn: 0.5091616\ttotal: 5.36s\tremaining: 17.8s\n",
      "231:\tlearn: 0.5089755\ttotal: 5.38s\tremaining: 17.8s\n",
      "232:\tlearn: 0.5088942\ttotal: 5.39s\tremaining: 17.8s\n",
      "233:\tlearn: 0.5088075\ttotal: 5.42s\tremaining: 17.7s\n",
      "234:\tlearn: 0.5087239\ttotal: 5.44s\tremaining: 17.7s\n",
      "235:\tlearn: 0.5085853\ttotal: 5.46s\tremaining: 17.7s\n",
      "236:\tlearn: 0.5084982\ttotal: 5.48s\tremaining: 17.6s\n",
      "237:\tlearn: 0.5084211\ttotal: 5.5s\tremaining: 17.6s\n",
      "238:\tlearn: 0.5083896\ttotal: 5.52s\tremaining: 17.6s\n",
      "239:\tlearn: 0.5083273\ttotal: 5.54s\tremaining: 17.6s\n",
      "240:\tlearn: 0.5082502\ttotal: 5.57s\tremaining: 17.5s\n",
      "241:\tlearn: 0.5081787\ttotal: 5.58s\tremaining: 17.5s\n",
      "242:\tlearn: 0.5081133\ttotal: 5.6s\tremaining: 17.5s\n",
      "243:\tlearn: 0.5079921\ttotal: 5.62s\tremaining: 17.4s\n",
      "244:\tlearn: 0.5078724\ttotal: 5.64s\tremaining: 17.4s\n",
      "245:\tlearn: 0.5077792\ttotal: 5.66s\tremaining: 17.4s\n",
      "246:\tlearn: 0.5076815\ttotal: 5.68s\tremaining: 17.3s\n",
      "247:\tlearn: 0.5075689\ttotal: 5.7s\tremaining: 17.3s\n",
      "248:\tlearn: 0.5074192\ttotal: 5.72s\tremaining: 17.3s\n",
      "249:\tlearn: 0.5072378\ttotal: 5.74s\tremaining: 17.2s\n",
      "250:\tlearn: 0.5070904\ttotal: 5.76s\tremaining: 17.2s\n",
      "251:\tlearn: 0.5069784\ttotal: 5.78s\tremaining: 17.2s\n",
      "252:\tlearn: 0.5068176\ttotal: 5.8s\tremaining: 17.1s\n",
      "253:\tlearn: 0.5067395\ttotal: 5.82s\tremaining: 17.1s\n",
      "254:\tlearn: 0.5066357\ttotal: 5.84s\tremaining: 17.1s\n",
      "255:\tlearn: 0.5065522\ttotal: 5.86s\tremaining: 17s\n",
      "256:\tlearn: 0.5063949\ttotal: 5.88s\tremaining: 17s\n",
      "257:\tlearn: 0.5063105\ttotal: 5.9s\tremaining: 17s\n",
      "258:\tlearn: 0.5061949\ttotal: 5.92s\tremaining: 16.9s\n",
      "259:\tlearn: 0.5061007\ttotal: 5.93s\tremaining: 16.9s\n",
      "260:\tlearn: 0.5060018\ttotal: 5.95s\tremaining: 16.9s\n",
      "261:\tlearn: 0.5059045\ttotal: 5.97s\tremaining: 16.8s\n",
      "262:\tlearn: 0.5057940\ttotal: 6s\tremaining: 16.8s\n",
      "263:\tlearn: 0.5057170\ttotal: 6.02s\tremaining: 16.8s\n",
      "264:\tlearn: 0.5055662\ttotal: 6.04s\tremaining: 16.7s\n",
      "265:\tlearn: 0.5054319\ttotal: 6.05s\tremaining: 16.7s\n",
      "266:\tlearn: 0.5053487\ttotal: 6.07s\tremaining: 16.7s\n",
      "267:\tlearn: 0.5051259\ttotal: 6.09s\tremaining: 16.6s\n",
      "268:\tlearn: 0.5049786\ttotal: 6.11s\tremaining: 16.6s\n",
      "269:\tlearn: 0.5048588\ttotal: 6.13s\tremaining: 16.6s\n",
      "270:\tlearn: 0.5047395\ttotal: 6.15s\tremaining: 16.6s\n",
      "271:\tlearn: 0.5046180\ttotal: 6.17s\tremaining: 16.5s\n",
      "272:\tlearn: 0.5045094\ttotal: 6.19s\tremaining: 16.5s\n",
      "273:\tlearn: 0.5043901\ttotal: 6.21s\tremaining: 16.5s\n",
      "274:\tlearn: 0.5042755\ttotal: 6.23s\tremaining: 16.4s\n",
      "275:\tlearn: 0.5041482\ttotal: 6.25s\tremaining: 16.4s\n",
      "276:\tlearn: 0.5040559\ttotal: 6.28s\tremaining: 16.4s\n",
      "277:\tlearn: 0.5039133\ttotal: 6.29s\tremaining: 16.3s\n",
      "278:\tlearn: 0.5038441\ttotal: 6.32s\tremaining: 16.3s\n",
      "279:\tlearn: 0.5037410\ttotal: 6.34s\tremaining: 16.3s\n",
      "280:\tlearn: 0.5035546\ttotal: 6.36s\tremaining: 16.3s\n",
      "281:\tlearn: 0.5034710\ttotal: 6.38s\tremaining: 16.2s\n",
      "282:\tlearn: 0.5033860\ttotal: 6.4s\tremaining: 16.2s\n",
      "283:\tlearn: 0.5032401\ttotal: 6.42s\tremaining: 16.2s\n",
      "284:\tlearn: 0.5031200\ttotal: 6.44s\tremaining: 16.2s\n",
      "285:\tlearn: 0.5030421\ttotal: 6.46s\tremaining: 16.1s\n",
      "286:\tlearn: 0.5029663\ttotal: 6.48s\tremaining: 16.1s\n",
      "287:\tlearn: 0.5028735\ttotal: 6.5s\tremaining: 16.1s\n",
      "288:\tlearn: 0.5027701\ttotal: 6.51s\tremaining: 16s\n",
      "289:\tlearn: 0.5026633\ttotal: 6.53s\tremaining: 16s\n",
      "290:\tlearn: 0.5025210\ttotal: 6.55s\tremaining: 16s\n",
      "291:\tlearn: 0.5024636\ttotal: 6.58s\tremaining: 16s\n",
      "292:\tlearn: 0.5023087\ttotal: 6.61s\tremaining: 15.9s\n",
      "293:\tlearn: 0.5021687\ttotal: 6.63s\tremaining: 15.9s\n",
      "294:\tlearn: 0.5020988\ttotal: 6.65s\tremaining: 15.9s\n",
      "295:\tlearn: 0.5019369\ttotal: 6.67s\tremaining: 15.9s\n",
      "296:\tlearn: 0.5018480\ttotal: 6.69s\tremaining: 15.8s\n",
      "297:\tlearn: 0.5017728\ttotal: 6.71s\tremaining: 15.8s\n",
      "298:\tlearn: 0.5016974\ttotal: 6.73s\tremaining: 15.8s\n",
      "299:\tlearn: 0.5016024\ttotal: 6.75s\tremaining: 15.8s\n",
      "300:\tlearn: 0.5015174\ttotal: 6.77s\tremaining: 15.7s\n",
      "301:\tlearn: 0.5013959\ttotal: 6.8s\tremaining: 15.7s\n",
      "302:\tlearn: 0.5013404\ttotal: 6.87s\tremaining: 15.8s\n",
      "303:\tlearn: 0.5011957\ttotal: 6.9s\tremaining: 15.8s\n",
      "304:\tlearn: 0.5011146\ttotal: 6.92s\tremaining: 15.8s\n",
      "305:\tlearn: 0.5010005\ttotal: 6.96s\tremaining: 15.8s\n",
      "306:\tlearn: 0.5008893\ttotal: 6.98s\tremaining: 15.8s\n",
      "307:\tlearn: 0.5007887\ttotal: 7s\tremaining: 15.7s\n",
      "308:\tlearn: 0.5007323\ttotal: 7.03s\tremaining: 15.7s\n",
      "309:\tlearn: 0.5006015\ttotal: 7.04s\tremaining: 15.7s\n",
      "310:\tlearn: 0.5005051\ttotal: 7.07s\tremaining: 15.7s\n",
      "311:\tlearn: 0.5003790\ttotal: 7.09s\tremaining: 15.6s\n",
      "312:\tlearn: 0.5003079\ttotal: 7.12s\tremaining: 15.6s\n",
      "313:\tlearn: 0.5002302\ttotal: 7.15s\tremaining: 15.6s\n",
      "314:\tlearn: 0.5001300\ttotal: 7.17s\tremaining: 15.6s\n",
      "315:\tlearn: 0.5000579\ttotal: 7.2s\tremaining: 15.6s\n",
      "316:\tlearn: 0.4999522\ttotal: 7.23s\tremaining: 15.6s\n",
      "317:\tlearn: 0.4998668\ttotal: 7.26s\tremaining: 15.6s\n",
      "318:\tlearn: 0.4997782\ttotal: 7.29s\tremaining: 15.6s\n",
      "319:\tlearn: 0.4997074\ttotal: 7.31s\tremaining: 15.5s\n",
      "320:\tlearn: 0.4995781\ttotal: 7.34s\tremaining: 15.5s\n",
      "321:\tlearn: 0.4994534\ttotal: 7.37s\tremaining: 15.5s\n",
      "322:\tlearn: 0.4993487\ttotal: 7.39s\tremaining: 15.5s\n",
      "323:\tlearn: 0.4992878\ttotal: 7.43s\tremaining: 15.5s\n",
      "324:\tlearn: 0.4992007\ttotal: 7.46s\tremaining: 15.5s\n",
      "325:\tlearn: 0.4991436\ttotal: 7.49s\tremaining: 15.5s\n",
      "326:\tlearn: 0.4990810\ttotal: 7.51s\tremaining: 15.5s\n",
      "327:\tlearn: 0.4990051\ttotal: 7.54s\tremaining: 15.5s\n",
      "328:\tlearn: 0.4989019\ttotal: 7.57s\tremaining: 15.4s\n",
      "329:\tlearn: 0.4988044\ttotal: 7.58s\tremaining: 15.4s\n",
      "330:\tlearn: 0.4987383\ttotal: 7.6s\tremaining: 15.4s\n",
      "331:\tlearn: 0.4986582\ttotal: 7.62s\tremaining: 15.3s\n"
     ]
    },
    {
     "name": "stdout",
     "output_type": "stream",
     "text": [
      "332:\tlearn: 0.4985859\ttotal: 7.64s\tremaining: 15.3s\n",
      "333:\tlearn: 0.4984590\ttotal: 7.66s\tremaining: 15.3s\n",
      "334:\tlearn: 0.4983138\ttotal: 7.69s\tremaining: 15.3s\n",
      "335:\tlearn: 0.4982528\ttotal: 7.71s\tremaining: 15.2s\n",
      "336:\tlearn: 0.4981744\ttotal: 7.73s\tremaining: 15.2s\n",
      "337:\tlearn: 0.4980778\ttotal: 7.75s\tremaining: 15.2s\n",
      "338:\tlearn: 0.4980160\ttotal: 7.77s\tremaining: 15.2s\n",
      "339:\tlearn: 0.4979371\ttotal: 7.79s\tremaining: 15.1s\n",
      "340:\tlearn: 0.4978690\ttotal: 7.82s\tremaining: 15.1s\n",
      "341:\tlearn: 0.4977915\ttotal: 7.84s\tremaining: 15.1s\n",
      "342:\tlearn: 0.4977142\ttotal: 7.86s\tremaining: 15s\n",
      "343:\tlearn: 0.4976348\ttotal: 7.88s\tremaining: 15s\n",
      "344:\tlearn: 0.4975544\ttotal: 7.89s\tremaining: 15s\n",
      "345:\tlearn: 0.4974690\ttotal: 7.91s\tremaining: 15s\n",
      "346:\tlearn: 0.4974070\ttotal: 7.93s\tremaining: 14.9s\n",
      "347:\tlearn: 0.4972832\ttotal: 7.95s\tremaining: 14.9s\n",
      "348:\tlearn: 0.4971751\ttotal: 7.97s\tremaining: 14.9s\n",
      "349:\tlearn: 0.4971231\ttotal: 7.99s\tremaining: 14.8s\n",
      "350:\tlearn: 0.4970570\ttotal: 8.01s\tremaining: 14.8s\n",
      "351:\tlearn: 0.4969565\ttotal: 8.03s\tremaining: 14.8s\n",
      "352:\tlearn: 0.4968347\ttotal: 8.05s\tremaining: 14.8s\n",
      "353:\tlearn: 0.4966443\ttotal: 8.07s\tremaining: 14.7s\n",
      "354:\tlearn: 0.4965674\ttotal: 8.09s\tremaining: 14.7s\n",
      "355:\tlearn: 0.4964861\ttotal: 8.11s\tremaining: 14.7s\n",
      "356:\tlearn: 0.4963856\ttotal: 8.13s\tremaining: 14.6s\n",
      "357:\tlearn: 0.4962734\ttotal: 8.14s\tremaining: 14.6s\n",
      "358:\tlearn: 0.4961785\ttotal: 8.16s\tremaining: 14.6s\n",
      "359:\tlearn: 0.4960943\ttotal: 8.19s\tremaining: 14.6s\n",
      "360:\tlearn: 0.4959944\ttotal: 8.21s\tremaining: 14.5s\n",
      "361:\tlearn: 0.4959067\ttotal: 8.23s\tremaining: 14.5s\n",
      "362:\tlearn: 0.4958239\ttotal: 8.25s\tremaining: 14.5s\n",
      "363:\tlearn: 0.4957434\ttotal: 8.27s\tremaining: 14.5s\n",
      "364:\tlearn: 0.4956481\ttotal: 8.31s\tremaining: 14.5s\n",
      "365:\tlearn: 0.4955903\ttotal: 8.34s\tremaining: 14.4s\n",
      "366:\tlearn: 0.4955121\ttotal: 8.37s\tremaining: 14.4s\n",
      "367:\tlearn: 0.4954360\ttotal: 8.41s\tremaining: 14.4s\n",
      "368:\tlearn: 0.4953569\ttotal: 8.44s\tremaining: 14.4s\n",
      "369:\tlearn: 0.4952684\ttotal: 8.48s\tremaining: 14.4s\n",
      "370:\tlearn: 0.4951974\ttotal: 8.51s\tremaining: 14.4s\n",
      "371:\tlearn: 0.4950627\ttotal: 8.54s\tremaining: 14.4s\n",
      "372:\tlearn: 0.4949675\ttotal: 8.57s\tremaining: 14.4s\n",
      "373:\tlearn: 0.4948488\ttotal: 8.61s\tremaining: 14.4s\n",
      "374:\tlearn: 0.4947446\ttotal: 8.63s\tremaining: 14.4s\n",
      "375:\tlearn: 0.4946833\ttotal: 8.66s\tremaining: 14.4s\n",
      "376:\tlearn: 0.4946283\ttotal: 8.68s\tremaining: 14.3s\n",
      "377:\tlearn: 0.4945643\ttotal: 8.7s\tremaining: 14.3s\n",
      "378:\tlearn: 0.4945020\ttotal: 8.71s\tremaining: 14.3s\n",
      "379:\tlearn: 0.4943878\ttotal: 8.73s\tremaining: 14.2s\n",
      "380:\tlearn: 0.4943200\ttotal: 8.75s\tremaining: 14.2s\n",
      "381:\tlearn: 0.4942446\ttotal: 8.78s\tremaining: 14.2s\n",
      "382:\tlearn: 0.4941852\ttotal: 8.8s\tremaining: 14.2s\n",
      "383:\tlearn: 0.4940962\ttotal: 8.82s\tremaining: 14.1s\n",
      "384:\tlearn: 0.4939613\ttotal: 8.84s\tremaining: 14.1s\n",
      "385:\tlearn: 0.4938843\ttotal: 8.86s\tremaining: 14.1s\n",
      "386:\tlearn: 0.4938089\ttotal: 8.88s\tremaining: 14.1s\n",
      "387:\tlearn: 0.4937408\ttotal: 8.89s\tremaining: 14s\n",
      "388:\tlearn: 0.4936636\ttotal: 8.91s\tremaining: 14s\n",
      "389:\tlearn: 0.4935942\ttotal: 8.93s\tremaining: 14s\n",
      "390:\tlearn: 0.4935136\ttotal: 8.95s\tremaining: 13.9s\n",
      "391:\tlearn: 0.4934251\ttotal: 8.97s\tremaining: 13.9s\n",
      "392:\tlearn: 0.4933610\ttotal: 8.99s\tremaining: 13.9s\n",
      "393:\tlearn: 0.4932151\ttotal: 9.01s\tremaining: 13.9s\n",
      "394:\tlearn: 0.4931496\ttotal: 9.03s\tremaining: 13.8s\n",
      "395:\tlearn: 0.4930884\ttotal: 9.05s\tremaining: 13.8s\n",
      "396:\tlearn: 0.4929830\ttotal: 9.07s\tremaining: 13.8s\n",
      "397:\tlearn: 0.4929262\ttotal: 9.09s\tremaining: 13.7s\n",
      "398:\tlearn: 0.4928605\ttotal: 9.11s\tremaining: 13.7s\n",
      "399:\tlearn: 0.4927926\ttotal: 9.13s\tremaining: 13.7s\n",
      "400:\tlearn: 0.4926917\ttotal: 9.15s\tremaining: 13.7s\n",
      "401:\tlearn: 0.4926389\ttotal: 9.17s\tremaining: 13.6s\n",
      "402:\tlearn: 0.4925575\ttotal: 9.19s\tremaining: 13.6s\n",
      "403:\tlearn: 0.4924607\ttotal: 9.21s\tremaining: 13.6s\n",
      "404:\tlearn: 0.4923734\ttotal: 9.23s\tremaining: 13.6s\n",
      "405:\tlearn: 0.4922980\ttotal: 9.25s\tremaining: 13.5s\n",
      "406:\tlearn: 0.4922076\ttotal: 9.27s\tremaining: 13.5s\n",
      "407:\tlearn: 0.4921427\ttotal: 9.29s\tremaining: 13.5s\n",
      "408:\tlearn: 0.4920781\ttotal: 9.34s\tremaining: 13.5s\n",
      "409:\tlearn: 0.4920080\ttotal: 9.36s\tremaining: 13.5s\n",
      "410:\tlearn: 0.4919286\ttotal: 9.39s\tremaining: 13.5s\n",
      "411:\tlearn: 0.4918430\ttotal: 9.43s\tremaining: 13.5s\n",
      "412:\tlearn: 0.4917296\ttotal: 9.46s\tremaining: 13.4s\n",
      "413:\tlearn: 0.4916620\ttotal: 9.5s\tremaining: 13.4s\n",
      "414:\tlearn: 0.4915890\ttotal: 9.52s\tremaining: 13.4s\n",
      "415:\tlearn: 0.4914897\ttotal: 9.55s\tremaining: 13.4s\n",
      "416:\tlearn: 0.4914297\ttotal: 9.57s\tremaining: 13.4s\n",
      "417:\tlearn: 0.4913646\ttotal: 9.6s\tremaining: 13.4s\n",
      "418:\tlearn: 0.4913073\ttotal: 9.62s\tremaining: 13.3s\n",
      "419:\tlearn: 0.4912514\ttotal: 9.64s\tremaining: 13.3s\n",
      "420:\tlearn: 0.4911868\ttotal: 9.65s\tremaining: 13.3s\n",
      "421:\tlearn: 0.4910928\ttotal: 9.67s\tremaining: 13.3s\n",
      "422:\tlearn: 0.4909886\ttotal: 9.69s\tremaining: 13.2s\n",
      "423:\tlearn: 0.4908915\ttotal: 9.71s\tremaining: 13.2s\n",
      "424:\tlearn: 0.4908468\ttotal: 9.74s\tremaining: 13.2s\n",
      "425:\tlearn: 0.4907781\ttotal: 9.76s\tremaining: 13.1s\n",
      "426:\tlearn: 0.4906908\ttotal: 9.78s\tremaining: 13.1s\n",
      "427:\tlearn: 0.4906002\ttotal: 9.8s\tremaining: 13.1s\n",
      "428:\tlearn: 0.4905217\ttotal: 9.82s\tremaining: 13.1s\n",
      "429:\tlearn: 0.4904319\ttotal: 9.84s\tremaining: 13s\n",
      "430:\tlearn: 0.4903613\ttotal: 9.85s\tremaining: 13s\n",
      "431:\tlearn: 0.4903012\ttotal: 9.87s\tremaining: 13s\n",
      "432:\tlearn: 0.4902435\ttotal: 9.89s\tremaining: 13s\n",
      "433:\tlearn: 0.4901593\ttotal: 9.91s\tremaining: 12.9s\n",
      "434:\tlearn: 0.4901104\ttotal: 9.94s\tremaining: 12.9s\n",
      "435:\tlearn: 0.4900096\ttotal: 9.96s\tremaining: 12.9s\n",
      "436:\tlearn: 0.4899454\ttotal: 9.99s\tremaining: 12.9s\n",
      "437:\tlearn: 0.4898720\ttotal: 10s\tremaining: 12.8s\n",
      "438:\tlearn: 0.4897853\ttotal: 10.1s\tremaining: 12.8s\n",
      "439:\tlearn: 0.4897349\ttotal: 10.1s\tremaining: 12.8s\n",
      "440:\tlearn: 0.4896250\ttotal: 10.1s\tremaining: 12.8s\n",
      "441:\tlearn: 0.4895593\ttotal: 10.2s\tremaining: 12.8s\n",
      "442:\tlearn: 0.4894531\ttotal: 10.2s\tremaining: 12.9s\n",
      "443:\tlearn: 0.4893772\ttotal: 10.3s\tremaining: 12.9s\n",
      "444:\tlearn: 0.4893084\ttotal: 10.3s\tremaining: 12.8s\n",
      "445:\tlearn: 0.4892239\ttotal: 10.3s\tremaining: 12.8s\n",
      "446:\tlearn: 0.4891730\ttotal: 10.3s\tremaining: 12.8s\n",
      "447:\tlearn: 0.4891003\ttotal: 10.4s\tremaining: 12.8s\n",
      "448:\tlearn: 0.4890124\ttotal: 10.4s\tremaining: 12.8s\n",
      "449:\tlearn: 0.4889522\ttotal: 10.4s\tremaining: 12.7s\n",
      "450:\tlearn: 0.4888872\ttotal: 10.4s\tremaining: 12.7s\n",
      "451:\tlearn: 0.4887886\ttotal: 10.4s\tremaining: 12.7s\n",
      "452:\tlearn: 0.4887331\ttotal: 10.5s\tremaining: 12.7s\n",
      "453:\tlearn: 0.4886366\ttotal: 10.5s\tremaining: 12.6s\n",
      "454:\tlearn: 0.4885735\ttotal: 10.5s\tremaining: 12.6s\n",
      "455:\tlearn: 0.4885075\ttotal: 10.5s\tremaining: 12.6s\n",
      "456:\tlearn: 0.4884325\ttotal: 10.6s\tremaining: 12.6s\n",
      "457:\tlearn: 0.4883583\ttotal: 10.6s\tremaining: 12.5s\n",
      "458:\tlearn: 0.4882519\ttotal: 10.6s\tremaining: 12.5s\n",
      "459:\tlearn: 0.4881720\ttotal: 10.7s\tremaining: 12.5s\n",
      "460:\tlearn: 0.4880744\ttotal: 10.7s\tremaining: 12.5s\n",
      "461:\tlearn: 0.4880112\ttotal: 10.7s\tremaining: 12.5s\n",
      "462:\tlearn: 0.4879380\ttotal: 10.8s\tremaining: 12.5s\n",
      "463:\tlearn: 0.4878823\ttotal: 10.8s\tremaining: 12.4s\n",
      "464:\tlearn: 0.4877771\ttotal: 10.8s\tremaining: 12.4s\n",
      "465:\tlearn: 0.4876696\ttotal: 10.8s\tremaining: 12.4s\n",
      "466:\tlearn: 0.4875949\ttotal: 10.9s\tremaining: 12.4s\n",
      "467:\tlearn: 0.4875370\ttotal: 10.9s\tremaining: 12.4s\n",
      "468:\tlearn: 0.4874823\ttotal: 10.9s\tremaining: 12.3s\n",
      "469:\tlearn: 0.4874046\ttotal: 10.9s\tremaining: 12.3s\n",
      "470:\tlearn: 0.4872889\ttotal: 10.9s\tremaining: 12.3s\n",
      "471:\tlearn: 0.4871992\ttotal: 11s\tremaining: 12.3s\n",
      "472:\tlearn: 0.4871539\ttotal: 11s\tremaining: 12.2s\n",
      "473:\tlearn: 0.4870752\ttotal: 11s\tremaining: 12.2s\n",
      "474:\tlearn: 0.4870058\ttotal: 11s\tremaining: 12.2s\n",
      "475:\tlearn: 0.4869259\ttotal: 11.1s\tremaining: 12.2s\n",
      "476:\tlearn: 0.4868407\ttotal: 11.1s\tremaining: 12.1s\n",
      "477:\tlearn: 0.4868080\ttotal: 11.1s\tremaining: 12.1s\n",
      "478:\tlearn: 0.4867244\ttotal: 11.1s\tremaining: 12.1s\n",
      "479:\tlearn: 0.4866546\ttotal: 11.1s\tremaining: 12.1s\n",
      "480:\tlearn: 0.4865588\ttotal: 11.2s\tremaining: 12s\n",
      "481:\tlearn: 0.4864973\ttotal: 11.2s\tremaining: 12s\n",
      "482:\tlearn: 0.4864207\ttotal: 11.2s\tremaining: 12s\n",
      "483:\tlearn: 0.4863494\ttotal: 11.2s\tremaining: 12s\n",
      "484:\tlearn: 0.4862640\ttotal: 11.3s\tremaining: 12s\n",
      "485:\tlearn: 0.4861812\ttotal: 11.3s\tremaining: 11.9s\n",
      "486:\tlearn: 0.4861095\ttotal: 11.3s\tremaining: 11.9s\n",
      "487:\tlearn: 0.4860369\ttotal: 11.3s\tremaining: 11.9s\n",
      "488:\tlearn: 0.4859890\ttotal: 11.3s\tremaining: 11.9s\n",
      "489:\tlearn: 0.4859146\ttotal: 11.4s\tremaining: 11.8s\n",
      "490:\tlearn: 0.4858448\ttotal: 11.4s\tremaining: 11.8s\n",
      "491:\tlearn: 0.4858039\ttotal: 11.4s\tremaining: 11.8s\n",
      "492:\tlearn: 0.4857097\ttotal: 11.4s\tremaining: 11.8s\n",
      "493:\tlearn: 0.4856403\ttotal: 11.5s\tremaining: 11.7s\n",
      "494:\tlearn: 0.4855589\ttotal: 11.5s\tremaining: 11.7s\n",
      "495:\tlearn: 0.4854528\ttotal: 11.5s\tremaining: 11.7s\n",
      "496:\tlearn: 0.4853943\ttotal: 11.5s\tremaining: 11.6s\n",
      "497:\tlearn: 0.4853319\ttotal: 11.5s\tremaining: 11.6s\n",
      "498:\tlearn: 0.4852841\ttotal: 11.5s\tremaining: 11.6s\n"
     ]
    },
    {
     "name": "stdout",
     "output_type": "stream",
     "text": [
      "499:\tlearn: 0.4851857\ttotal: 11.6s\tremaining: 11.6s\n",
      "500:\tlearn: 0.4850879\ttotal: 11.6s\tremaining: 11.6s\n",
      "501:\tlearn: 0.4850173\ttotal: 11.6s\tremaining: 11.5s\n",
      "502:\tlearn: 0.4849139\ttotal: 11.6s\tremaining: 11.5s\n",
      "503:\tlearn: 0.4848259\ttotal: 11.7s\tremaining: 11.5s\n",
      "504:\tlearn: 0.4847635\ttotal: 11.7s\tremaining: 11.4s\n",
      "505:\tlearn: 0.4846707\ttotal: 11.7s\tremaining: 11.4s\n",
      "506:\tlearn: 0.4846099\ttotal: 11.7s\tremaining: 11.4s\n",
      "507:\tlearn: 0.4845373\ttotal: 11.7s\tremaining: 11.4s\n",
      "508:\tlearn: 0.4844906\ttotal: 11.8s\tremaining: 11.3s\n",
      "509:\tlearn: 0.4844034\ttotal: 11.8s\tremaining: 11.3s\n",
      "510:\tlearn: 0.4843478\ttotal: 11.8s\tremaining: 11.3s\n",
      "511:\tlearn: 0.4842884\ttotal: 11.8s\tremaining: 11.3s\n",
      "512:\tlearn: 0.4842167\ttotal: 11.9s\tremaining: 11.3s\n",
      "513:\tlearn: 0.4841550\ttotal: 11.9s\tremaining: 11.2s\n",
      "514:\tlearn: 0.4840792\ttotal: 11.9s\tremaining: 11.2s\n",
      "515:\tlearn: 0.4839936\ttotal: 12s\tremaining: 11.2s\n",
      "516:\tlearn: 0.4839374\ttotal: 12s\tremaining: 11.2s\n",
      "517:\tlearn: 0.4838631\ttotal: 12s\tremaining: 11.2s\n",
      "518:\tlearn: 0.4837852\ttotal: 12.1s\tremaining: 11.2s\n",
      "519:\tlearn: 0.4837210\ttotal: 12.1s\tremaining: 11.2s\n",
      "520:\tlearn: 0.4836731\ttotal: 12.1s\tremaining: 11.2s\n",
      "521:\tlearn: 0.4835801\ttotal: 12.2s\tremaining: 11.1s\n",
      "522:\tlearn: 0.4834807\ttotal: 12.2s\tremaining: 11.1s\n",
      "523:\tlearn: 0.4834215\ttotal: 12.2s\tremaining: 11.1s\n",
      "524:\tlearn: 0.4833749\ttotal: 12.2s\tremaining: 11.1s\n",
      "525:\tlearn: 0.4832961\ttotal: 12.3s\tremaining: 11.1s\n",
      "526:\tlearn: 0.4832169\ttotal: 12.3s\tremaining: 11.1s\n",
      "527:\tlearn: 0.4831481\ttotal: 12.4s\tremaining: 11.1s\n",
      "528:\tlearn: 0.4830680\ttotal: 12.4s\tremaining: 11s\n",
      "529:\tlearn: 0.4830041\ttotal: 12.4s\tremaining: 11s\n",
      "530:\tlearn: 0.4829268\ttotal: 12.5s\tremaining: 11s\n",
      "531:\tlearn: 0.4828886\ttotal: 12.5s\tremaining: 11s\n",
      "532:\tlearn: 0.4828151\ttotal: 12.5s\tremaining: 11s\n",
      "533:\tlearn: 0.4827675\ttotal: 12.6s\tremaining: 11s\n",
      "534:\tlearn: 0.4826596\ttotal: 12.6s\tremaining: 10.9s\n",
      "535:\tlearn: 0.4826000\ttotal: 12.6s\tremaining: 10.9s\n",
      "536:\tlearn: 0.4825219\ttotal: 12.6s\tremaining: 10.9s\n",
      "537:\tlearn: 0.4824251\ttotal: 12.7s\tremaining: 10.9s\n",
      "538:\tlearn: 0.4823767\ttotal: 12.7s\tremaining: 10.9s\n",
      "539:\tlearn: 0.4823084\ttotal: 12.7s\tremaining: 10.9s\n",
      "540:\tlearn: 0.4822326\ttotal: 12.8s\tremaining: 10.8s\n",
      "541:\tlearn: 0.4821389\ttotal: 12.8s\tremaining: 10.8s\n",
      "542:\tlearn: 0.4820851\ttotal: 12.8s\tremaining: 10.8s\n",
      "543:\tlearn: 0.4820357\ttotal: 12.9s\tremaining: 10.8s\n",
      "544:\tlearn: 0.4819822\ttotal: 12.9s\tremaining: 10.8s\n",
      "545:\tlearn: 0.4819038\ttotal: 12.9s\tremaining: 10.8s\n",
      "546:\tlearn: 0.4818327\ttotal: 13s\tremaining: 10.7s\n",
      "547:\tlearn: 0.4817710\ttotal: 13s\tremaining: 10.7s\n",
      "548:\tlearn: 0.4817022\ttotal: 13s\tremaining: 10.7s\n",
      "549:\tlearn: 0.4816499\ttotal: 13.1s\tremaining: 10.7s\n",
      "550:\tlearn: 0.4815667\ttotal: 13.1s\tremaining: 10.7s\n",
      "551:\tlearn: 0.4815037\ttotal: 13.1s\tremaining: 10.7s\n",
      "552:\tlearn: 0.4814644\ttotal: 13.2s\tremaining: 10.6s\n",
      "553:\tlearn: 0.4813817\ttotal: 13.2s\tremaining: 10.6s\n",
      "554:\tlearn: 0.4813420\ttotal: 13.2s\tremaining: 10.6s\n",
      "555:\tlearn: 0.4812399\ttotal: 13.3s\tremaining: 10.6s\n",
      "556:\tlearn: 0.4811948\ttotal: 13.3s\tremaining: 10.6s\n",
      "557:\tlearn: 0.4810953\ttotal: 13.3s\tremaining: 10.6s\n",
      "558:\tlearn: 0.4810607\ttotal: 13.4s\tremaining: 10.5s\n",
      "559:\tlearn: 0.4809849\ttotal: 13.4s\tremaining: 10.5s\n",
      "560:\tlearn: 0.4809181\ttotal: 13.4s\tremaining: 10.5s\n",
      "561:\tlearn: 0.4808513\ttotal: 13.5s\tremaining: 10.5s\n",
      "562:\tlearn: 0.4807921\ttotal: 13.5s\tremaining: 10.5s\n",
      "563:\tlearn: 0.4806715\ttotal: 13.5s\tremaining: 10.5s\n",
      "564:\tlearn: 0.4806273\ttotal: 13.5s\tremaining: 10.4s\n",
      "565:\tlearn: 0.4805366\ttotal: 13.6s\tremaining: 10.4s\n",
      "566:\tlearn: 0.4804801\ttotal: 13.6s\tremaining: 10.4s\n",
      "567:\tlearn: 0.4804176\ttotal: 13.7s\tremaining: 10.4s\n",
      "568:\tlearn: 0.4803301\ttotal: 13.7s\tremaining: 10.4s\n",
      "569:\tlearn: 0.4802791\ttotal: 13.7s\tremaining: 10.3s\n",
      "570:\tlearn: 0.4802269\ttotal: 13.7s\tremaining: 10.3s\n",
      "571:\tlearn: 0.4801560\ttotal: 13.8s\tremaining: 10.3s\n",
      "572:\tlearn: 0.4800718\ttotal: 13.8s\tremaining: 10.3s\n",
      "573:\tlearn: 0.4800247\ttotal: 13.9s\tremaining: 10.3s\n",
      "574:\tlearn: 0.4799803\ttotal: 13.9s\tremaining: 10.3s\n",
      "575:\tlearn: 0.4799286\ttotal: 13.9s\tremaining: 10.2s\n",
      "576:\tlearn: 0.4798669\ttotal: 13.9s\tremaining: 10.2s\n",
      "577:\tlearn: 0.4797685\ttotal: 14s\tremaining: 10.2s\n",
      "578:\tlearn: 0.4796899\ttotal: 14s\tremaining: 10.2s\n",
      "579:\tlearn: 0.4796135\ttotal: 14.1s\tremaining: 10.2s\n",
      "580:\tlearn: 0.4795306\ttotal: 14.1s\tremaining: 10.2s\n",
      "581:\tlearn: 0.4794543\ttotal: 14.1s\tremaining: 10.1s\n",
      "582:\tlearn: 0.4793744\ttotal: 14.1s\tremaining: 10.1s\n",
      "583:\tlearn: 0.4792962\ttotal: 14.1s\tremaining: 10.1s\n",
      "584:\tlearn: 0.4791912\ttotal: 14.2s\tremaining: 10.1s\n",
      "585:\tlearn: 0.4791124\ttotal: 14.2s\tremaining: 10.1s\n",
      "586:\tlearn: 0.4790575\ttotal: 14.3s\tremaining: 10s\n",
      "587:\tlearn: 0.4789887\ttotal: 14.3s\tremaining: 10s\n",
      "588:\tlearn: 0.4789180\ttotal: 14.3s\tremaining: 10s\n",
      "589:\tlearn: 0.4788527\ttotal: 14.4s\tremaining: 9.98s\n",
      "590:\tlearn: 0.4788086\ttotal: 14.4s\tremaining: 9.96s\n",
      "591:\tlearn: 0.4787557\ttotal: 14.4s\tremaining: 9.94s\n",
      "592:\tlearn: 0.4786809\ttotal: 14.5s\tremaining: 9.92s\n",
      "593:\tlearn: 0.4786252\ttotal: 14.5s\tremaining: 9.89s\n",
      "594:\tlearn: 0.4785868\ttotal: 14.5s\tremaining: 9.87s\n",
      "595:\tlearn: 0.4785057\ttotal: 14.5s\tremaining: 9.85s\n",
      "596:\tlearn: 0.4784363\ttotal: 14.6s\tremaining: 9.84s\n",
      "597:\tlearn: 0.4783727\ttotal: 14.6s\tremaining: 9.83s\n",
      "598:\tlearn: 0.4783130\ttotal: 14.7s\tremaining: 9.81s\n",
      "599:\tlearn: 0.4782214\ttotal: 14.7s\tremaining: 9.78s\n",
      "600:\tlearn: 0.4781576\ttotal: 14.7s\tremaining: 9.77s\n",
      "601:\tlearn: 0.4780616\ttotal: 14.8s\tremaining: 9.77s\n",
      "602:\tlearn: 0.4780151\ttotal: 14.8s\tremaining: 9.75s\n",
      "603:\tlearn: 0.4779300\ttotal: 14.8s\tremaining: 9.73s\n",
      "604:\tlearn: 0.4778577\ttotal: 14.9s\tremaining: 9.7s\n",
      "605:\tlearn: 0.4777937\ttotal: 14.9s\tremaining: 9.68s\n",
      "606:\tlearn: 0.4777120\ttotal: 14.9s\tremaining: 9.66s\n",
      "607:\tlearn: 0.4776548\ttotal: 14.9s\tremaining: 9.63s\n",
      "608:\tlearn: 0.4775975\ttotal: 15s\tremaining: 9.62s\n",
      "609:\tlearn: 0.4774597\ttotal: 15s\tremaining: 9.6s\n",
      "610:\tlearn: 0.4773773\ttotal: 15.1s\tremaining: 9.59s\n",
      "611:\tlearn: 0.4773090\ttotal: 15.1s\tremaining: 9.56s\n",
      "612:\tlearn: 0.4772542\ttotal: 15.1s\tremaining: 9.54s\n",
      "613:\tlearn: 0.4771969\ttotal: 15.1s\tremaining: 9.52s\n",
      "614:\tlearn: 0.4771301\ttotal: 15.2s\tremaining: 9.49s\n",
      "615:\tlearn: 0.4770539\ttotal: 15.2s\tremaining: 9.47s\n",
      "616:\tlearn: 0.4769486\ttotal: 15.2s\tremaining: 9.46s\n",
      "617:\tlearn: 0.4768672\ttotal: 15.3s\tremaining: 9.45s\n",
      "618:\tlearn: 0.4767919\ttotal: 15.3s\tremaining: 9.44s\n",
      "619:\tlearn: 0.4767195\ttotal: 15.4s\tremaining: 9.42s\n",
      "620:\tlearn: 0.4766654\ttotal: 15.4s\tremaining: 9.4s\n",
      "621:\tlearn: 0.4766086\ttotal: 15.4s\tremaining: 9.38s\n",
      "622:\tlearn: 0.4765432\ttotal: 15.5s\tremaining: 9.35s\n",
      "623:\tlearn: 0.4764797\ttotal: 15.5s\tremaining: 9.33s\n",
      "624:\tlearn: 0.4764348\ttotal: 15.5s\tremaining: 9.3s\n",
      "625:\tlearn: 0.4763690\ttotal: 15.5s\tremaining: 9.29s\n",
      "626:\tlearn: 0.4762999\ttotal: 15.6s\tremaining: 9.26s\n",
      "627:\tlearn: 0.4762272\ttotal: 15.6s\tremaining: 9.23s\n",
      "628:\tlearn: 0.4761529\ttotal: 15.6s\tremaining: 9.21s\n",
      "629:\tlearn: 0.4760769\ttotal: 15.7s\tremaining: 9.2s\n",
      "630:\tlearn: 0.4760165\ttotal: 15.7s\tremaining: 9.17s\n",
      "631:\tlearn: 0.4759269\ttotal: 15.7s\tremaining: 9.14s\n",
      "632:\tlearn: 0.4758555\ttotal: 15.7s\tremaining: 9.12s\n",
      "633:\tlearn: 0.4758035\ttotal: 15.7s\tremaining: 9.09s\n",
      "634:\tlearn: 0.4757543\ttotal: 15.8s\tremaining: 9.06s\n",
      "635:\tlearn: 0.4756744\ttotal: 15.8s\tremaining: 9.04s\n",
      "636:\tlearn: 0.4756022\ttotal: 15.8s\tremaining: 9.01s\n",
      "637:\tlearn: 0.4755476\ttotal: 15.8s\tremaining: 8.99s\n",
      "638:\tlearn: 0.4754772\ttotal: 15.9s\tremaining: 8.96s\n",
      "639:\tlearn: 0.4754163\ttotal: 15.9s\tremaining: 8.94s\n",
      "640:\tlearn: 0.4753390\ttotal: 15.9s\tremaining: 8.91s\n",
      "641:\tlearn: 0.4752482\ttotal: 15.9s\tremaining: 8.88s\n",
      "642:\tlearn: 0.4752018\ttotal: 16s\tremaining: 8.86s\n",
      "643:\tlearn: 0.4751406\ttotal: 16s\tremaining: 8.83s\n",
      "644:\tlearn: 0.4750502\ttotal: 16s\tremaining: 8.8s\n",
      "645:\tlearn: 0.4749793\ttotal: 16s\tremaining: 8.78s\n",
      "646:\tlearn: 0.4749137\ttotal: 16s\tremaining: 8.75s\n",
      "647:\tlearn: 0.4748842\ttotal: 16.1s\tremaining: 8.72s\n",
      "648:\tlearn: 0.4748019\ttotal: 16.1s\tremaining: 8.7s\n",
      "649:\tlearn: 0.4747174\ttotal: 16.1s\tremaining: 8.68s\n",
      "650:\tlearn: 0.4746630\ttotal: 16.1s\tremaining: 8.65s\n",
      "651:\tlearn: 0.4745741\ttotal: 16.2s\tremaining: 8.62s\n",
      "652:\tlearn: 0.4744727\ttotal: 16.2s\tremaining: 8.6s\n",
      "653:\tlearn: 0.4744163\ttotal: 16.2s\tremaining: 8.57s\n",
      "654:\tlearn: 0.4743548\ttotal: 16.2s\tremaining: 8.54s\n",
      "655:\tlearn: 0.4742906\ttotal: 16.2s\tremaining: 8.52s\n",
      "656:\tlearn: 0.4742038\ttotal: 16.3s\tremaining: 8.49s\n",
      "657:\tlearn: 0.4741490\ttotal: 16.3s\tremaining: 8.47s\n",
      "658:\tlearn: 0.4740924\ttotal: 16.3s\tremaining: 8.44s\n",
      "659:\tlearn: 0.4740079\ttotal: 16.3s\tremaining: 8.41s\n"
     ]
    },
    {
     "name": "stdout",
     "output_type": "stream",
     "text": [
      "660:\tlearn: 0.4739524\ttotal: 16.4s\tremaining: 8.39s\n",
      "661:\tlearn: 0.4738871\ttotal: 16.4s\tremaining: 8.37s\n",
      "662:\tlearn: 0.4737895\ttotal: 16.4s\tremaining: 8.34s\n",
      "663:\tlearn: 0.4737283\ttotal: 16.4s\tremaining: 8.31s\n",
      "664:\tlearn: 0.4736869\ttotal: 16.4s\tremaining: 8.29s\n",
      "665:\tlearn: 0.4736142\ttotal: 16.5s\tremaining: 8.26s\n",
      "666:\tlearn: 0.4735509\ttotal: 16.5s\tremaining: 8.23s\n",
      "667:\tlearn: 0.4734835\ttotal: 16.5s\tremaining: 8.21s\n",
      "668:\tlearn: 0.4734166\ttotal: 16.5s\tremaining: 8.18s\n",
      "669:\tlearn: 0.4733613\ttotal: 16.6s\tremaining: 8.16s\n",
      "670:\tlearn: 0.4733141\ttotal: 16.6s\tremaining: 8.13s\n",
      "671:\tlearn: 0.4732472\ttotal: 16.6s\tremaining: 8.11s\n",
      "672:\tlearn: 0.4731960\ttotal: 16.6s\tremaining: 8.08s\n",
      "673:\tlearn: 0.4731255\ttotal: 16.6s\tremaining: 8.05s\n",
      "674:\tlearn: 0.4730601\ttotal: 16.7s\tremaining: 8.03s\n",
      "675:\tlearn: 0.4729735\ttotal: 16.7s\tremaining: 8s\n",
      "676:\tlearn: 0.4729105\ttotal: 16.7s\tremaining: 7.97s\n",
      "677:\tlearn: 0.4728645\ttotal: 16.7s\tremaining: 7.95s\n",
      "678:\tlearn: 0.4727962\ttotal: 16.8s\tremaining: 7.92s\n",
      "679:\tlearn: 0.4727552\ttotal: 16.8s\tremaining: 7.9s\n",
      "680:\tlearn: 0.4726499\ttotal: 16.8s\tremaining: 7.87s\n",
      "681:\tlearn: 0.4725829\ttotal: 16.8s\tremaining: 7.84s\n",
      "682:\tlearn: 0.4725337\ttotal: 16.8s\tremaining: 7.82s\n",
      "683:\tlearn: 0.4724877\ttotal: 16.9s\tremaining: 7.79s\n",
      "684:\tlearn: 0.4724148\ttotal: 16.9s\tremaining: 7.76s\n",
      "685:\tlearn: 0.4723355\ttotal: 16.9s\tremaining: 7.74s\n",
      "686:\tlearn: 0.4722841\ttotal: 16.9s\tremaining: 7.71s\n",
      "687:\tlearn: 0.4722030\ttotal: 17s\tremaining: 7.69s\n",
      "688:\tlearn: 0.4721414\ttotal: 17s\tremaining: 7.66s\n",
      "689:\tlearn: 0.4720765\ttotal: 17s\tremaining: 7.63s\n",
      "690:\tlearn: 0.4720389\ttotal: 17s\tremaining: 7.61s\n",
      "691:\tlearn: 0.4719741\ttotal: 17s\tremaining: 7.59s\n",
      "692:\tlearn: 0.4719210\ttotal: 17.1s\tremaining: 7.57s\n",
      "693:\tlearn: 0.4718191\ttotal: 17.1s\tremaining: 7.54s\n",
      "694:\tlearn: 0.4717612\ttotal: 17.1s\tremaining: 7.52s\n",
      "695:\tlearn: 0.4717076\ttotal: 17.1s\tremaining: 7.49s\n",
      "696:\tlearn: 0.4716356\ttotal: 17.2s\tremaining: 7.47s\n",
      "697:\tlearn: 0.4715906\ttotal: 17.2s\tremaining: 7.45s\n",
      "698:\tlearn: 0.4715390\ttotal: 17.3s\tremaining: 7.43s\n",
      "699:\tlearn: 0.4714769\ttotal: 17.3s\tremaining: 7.41s\n",
      "700:\tlearn: 0.4714120\ttotal: 17.3s\tremaining: 7.39s\n",
      "701:\tlearn: 0.4713525\ttotal: 17.3s\tremaining: 7.36s\n",
      "702:\tlearn: 0.4712876\ttotal: 17.4s\tremaining: 7.34s\n",
      "703:\tlearn: 0.4712341\ttotal: 17.4s\tremaining: 7.31s\n",
      "704:\tlearn: 0.4711678\ttotal: 17.4s\tremaining: 7.29s\n",
      "705:\tlearn: 0.4711031\ttotal: 17.5s\tremaining: 7.27s\n",
      "706:\tlearn: 0.4710144\ttotal: 17.5s\tremaining: 7.25s\n",
      "707:\tlearn: 0.4709672\ttotal: 17.5s\tremaining: 7.23s\n",
      "708:\tlearn: 0.4709050\ttotal: 17.6s\tremaining: 7.21s\n",
      "709:\tlearn: 0.4708339\ttotal: 17.6s\tremaining: 7.19s\n",
      "710:\tlearn: 0.4707698\ttotal: 17.6s\tremaining: 7.16s\n",
      "711:\tlearn: 0.4707169\ttotal: 17.6s\tremaining: 7.14s\n",
      "712:\tlearn: 0.4706304\ttotal: 17.7s\tremaining: 7.11s\n",
      "713:\tlearn: 0.4705927\ttotal: 17.7s\tremaining: 7.09s\n",
      "714:\tlearn: 0.4705404\ttotal: 17.7s\tremaining: 7.07s\n",
      "715:\tlearn: 0.4704712\ttotal: 17.8s\tremaining: 7.05s\n",
      "716:\tlearn: 0.4703871\ttotal: 17.8s\tremaining: 7.03s\n",
      "717:\tlearn: 0.4703044\ttotal: 17.8s\tremaining: 7.01s\n",
      "718:\tlearn: 0.4702162\ttotal: 17.9s\tremaining: 6.99s\n",
      "719:\tlearn: 0.4701682\ttotal: 17.9s\tremaining: 6.96s\n",
      "720:\tlearn: 0.4700713\ttotal: 17.9s\tremaining: 6.94s\n",
      "721:\tlearn: 0.4700232\ttotal: 18s\tremaining: 6.92s\n",
      "722:\tlearn: 0.4699775\ttotal: 18s\tremaining: 6.89s\n",
      "723:\tlearn: 0.4699441\ttotal: 18s\tremaining: 6.87s\n",
      "724:\tlearn: 0.4698945\ttotal: 18.1s\tremaining: 6.85s\n",
      "725:\tlearn: 0.4698134\ttotal: 18.1s\tremaining: 6.83s\n",
      "726:\tlearn: 0.4696901\ttotal: 18.1s\tremaining: 6.8s\n",
      "727:\tlearn: 0.4696081\ttotal: 18.2s\tremaining: 6.79s\n",
      "728:\tlearn: 0.4695362\ttotal: 18.2s\tremaining: 6.76s\n",
      "729:\tlearn: 0.4694469\ttotal: 18.2s\tremaining: 6.74s\n",
      "730:\tlearn: 0.4693783\ttotal: 18.3s\tremaining: 6.72s\n",
      "731:\tlearn: 0.4693234\ttotal: 18.3s\tremaining: 6.69s\n",
      "732:\tlearn: 0.4692448\ttotal: 18.3s\tremaining: 6.66s\n",
      "733:\tlearn: 0.4691807\ttotal: 18.3s\tremaining: 6.64s\n",
      "734:\tlearn: 0.4691203\ttotal: 18.3s\tremaining: 6.61s\n",
      "735:\tlearn: 0.4690363\ttotal: 18.4s\tremaining: 6.59s\n",
      "736:\tlearn: 0.4689666\ttotal: 18.4s\tremaining: 6.56s\n",
      "737:\tlearn: 0.4689217\ttotal: 18.4s\tremaining: 6.53s\n",
      "738:\tlearn: 0.4688346\ttotal: 18.4s\tremaining: 6.51s\n",
      "739:\tlearn: 0.4687663\ttotal: 18.5s\tremaining: 6.49s\n",
      "740:\tlearn: 0.4687320\ttotal: 18.5s\tremaining: 6.47s\n",
      "741:\tlearn: 0.4686489\ttotal: 18.5s\tremaining: 6.44s\n",
      "742:\tlearn: 0.4685902\ttotal: 18.5s\tremaining: 6.41s\n",
      "743:\tlearn: 0.4685223\ttotal: 18.6s\tremaining: 6.39s\n",
      "744:\tlearn: 0.4684583\ttotal: 18.6s\tremaining: 6.36s\n",
      "745:\tlearn: 0.4683669\ttotal: 18.6s\tremaining: 6.33s\n",
      "746:\tlearn: 0.4683299\ttotal: 18.6s\tremaining: 6.31s\n",
      "747:\tlearn: 0.4682539\ttotal: 18.7s\tremaining: 6.29s\n",
      "748:\tlearn: 0.4681951\ttotal: 18.7s\tremaining: 6.26s\n",
      "749:\tlearn: 0.4681551\ttotal: 18.7s\tremaining: 6.23s\n",
      "750:\tlearn: 0.4681193\ttotal: 18.7s\tremaining: 6.21s\n",
      "751:\tlearn: 0.4680586\ttotal: 18.7s\tremaining: 6.18s\n",
      "752:\tlearn: 0.4679982\ttotal: 18.8s\tremaining: 6.15s\n",
      "753:\tlearn: 0.4679448\ttotal: 18.8s\tremaining: 6.13s\n",
      "754:\tlearn: 0.4678876\ttotal: 18.8s\tremaining: 6.1s\n",
      "755:\tlearn: 0.4678396\ttotal: 18.8s\tremaining: 6.08s\n",
      "756:\tlearn: 0.4677714\ttotal: 18.9s\tremaining: 6.06s\n",
      "757:\tlearn: 0.4676995\ttotal: 18.9s\tremaining: 6.03s\n",
      "758:\tlearn: 0.4676301\ttotal: 18.9s\tremaining: 6s\n",
      "759:\tlearn: 0.4675971\ttotal: 18.9s\tremaining: 5.98s\n",
      "760:\tlearn: 0.4675287\ttotal: 18.9s\tremaining: 5.95s\n",
      "761:\tlearn: 0.4674620\ttotal: 19s\tremaining: 5.92s\n",
      "762:\tlearn: 0.4673947\ttotal: 19s\tremaining: 5.9s\n",
      "763:\tlearn: 0.4673119\ttotal: 19s\tremaining: 5.87s\n",
      "764:\tlearn: 0.4672537\ttotal: 19s\tremaining: 5.85s\n",
      "765:\tlearn: 0.4672173\ttotal: 19.1s\tremaining: 5.82s\n",
      "766:\tlearn: 0.4671753\ttotal: 19.1s\tremaining: 5.79s\n",
      "767:\tlearn: 0.4670997\ttotal: 19.1s\tremaining: 5.77s\n",
      "768:\tlearn: 0.4670416\ttotal: 19.1s\tremaining: 5.74s\n",
      "769:\tlearn: 0.4669891\ttotal: 19.1s\tremaining: 5.72s\n",
      "770:\tlearn: 0.4669192\ttotal: 19.2s\tremaining: 5.7s\n",
      "771:\tlearn: 0.4668806\ttotal: 19.2s\tremaining: 5.68s\n",
      "772:\tlearn: 0.4668248\ttotal: 19.3s\tremaining: 5.66s\n",
      "773:\tlearn: 0.4667932\ttotal: 19.3s\tremaining: 5.63s\n",
      "774:\tlearn: 0.4667129\ttotal: 19.3s\tremaining: 5.61s\n",
      "775:\tlearn: 0.4666469\ttotal: 19.4s\tremaining: 5.59s\n",
      "776:\tlearn: 0.4665941\ttotal: 19.4s\tremaining: 5.56s\n",
      "777:\tlearn: 0.4665346\ttotal: 19.4s\tremaining: 5.53s\n",
      "778:\tlearn: 0.4664667\ttotal: 19.4s\tremaining: 5.51s\n",
      "779:\tlearn: 0.4664330\ttotal: 19.4s\tremaining: 5.48s\n",
      "780:\tlearn: 0.4663565\ttotal: 19.5s\tremaining: 5.46s\n",
      "781:\tlearn: 0.4662777\ttotal: 19.5s\tremaining: 5.43s\n",
      "782:\tlearn: 0.4662184\ttotal: 19.5s\tremaining: 5.41s\n",
      "783:\tlearn: 0.4661513\ttotal: 19.5s\tremaining: 5.38s\n",
      "784:\tlearn: 0.4660765\ttotal: 19.5s\tremaining: 5.35s\n",
      "785:\tlearn: 0.4659832\ttotal: 19.6s\tremaining: 5.33s\n",
      "786:\tlearn: 0.4659098\ttotal: 19.6s\tremaining: 5.32s\n",
      "787:\tlearn: 0.4658339\ttotal: 19.7s\tremaining: 5.29s\n",
      "788:\tlearn: 0.4657868\ttotal: 19.7s\tremaining: 5.27s\n",
      "789:\tlearn: 0.4657384\ttotal: 19.7s\tremaining: 5.24s\n",
      "790:\tlearn: 0.4656472\ttotal: 19.7s\tremaining: 5.21s\n",
      "791:\tlearn: 0.4655565\ttotal: 19.8s\tremaining: 5.19s\n",
      "792:\tlearn: 0.4655000\ttotal: 19.8s\tremaining: 5.16s\n",
      "793:\tlearn: 0.4654400\ttotal: 19.8s\tremaining: 5.14s\n",
      "794:\tlearn: 0.4654098\ttotal: 19.8s\tremaining: 5.12s\n",
      "795:\tlearn: 0.4653628\ttotal: 19.9s\tremaining: 5.09s\n",
      "796:\tlearn: 0.4653288\ttotal: 19.9s\tremaining: 5.07s\n",
      "797:\tlearn: 0.4652418\ttotal: 19.9s\tremaining: 5.05s\n",
      "798:\tlearn: 0.4651656\ttotal: 20s\tremaining: 5.03s\n",
      "799:\tlearn: 0.4650990\ttotal: 20s\tremaining: 5s\n",
      "800:\tlearn: 0.4650566\ttotal: 20s\tremaining: 4.98s\n",
      "801:\tlearn: 0.4649982\ttotal: 20.1s\tremaining: 4.95s\n",
      "802:\tlearn: 0.4649217\ttotal: 20.1s\tremaining: 4.93s\n",
      "803:\tlearn: 0.4648590\ttotal: 20.1s\tremaining: 4.9s\n",
      "804:\tlearn: 0.4648109\ttotal: 20.1s\tremaining: 4.88s\n",
      "805:\tlearn: 0.4647322\ttotal: 20.2s\tremaining: 4.85s\n",
      "806:\tlearn: 0.4646804\ttotal: 20.2s\tremaining: 4.83s\n",
      "807:\tlearn: 0.4646176\ttotal: 20.2s\tremaining: 4.8s\n",
      "808:\tlearn: 0.4645509\ttotal: 20.2s\tremaining: 4.78s\n",
      "809:\tlearn: 0.4644730\ttotal: 20.3s\tremaining: 4.75s\n",
      "810:\tlearn: 0.4644402\ttotal: 20.3s\tremaining: 4.73s\n",
      "811:\tlearn: 0.4643762\ttotal: 20.3s\tremaining: 4.71s\n",
      "812:\tlearn: 0.4643283\ttotal: 20.4s\tremaining: 4.68s\n",
      "813:\tlearn: 0.4642694\ttotal: 20.4s\tremaining: 4.66s\n",
      "814:\tlearn: 0.4642166\ttotal: 20.4s\tremaining: 4.63s\n",
      "815:\tlearn: 0.4641815\ttotal: 20.4s\tremaining: 4.61s\n",
      "816:\tlearn: 0.4641196\ttotal: 20.5s\tremaining: 4.58s\n",
      "817:\tlearn: 0.4640273\ttotal: 20.5s\tremaining: 4.56s\n",
      "818:\tlearn: 0.4639689\ttotal: 20.5s\tremaining: 4.53s\n",
      "819:\tlearn: 0.4639038\ttotal: 20.5s\tremaining: 4.51s\n",
      "820:\tlearn: 0.4638485\ttotal: 20.6s\tremaining: 4.48s\n"
     ]
    },
    {
     "name": "stdout",
     "output_type": "stream",
     "text": [
      "821:\tlearn: 0.4637812\ttotal: 20.6s\tremaining: 4.46s\n",
      "822:\tlearn: 0.4637342\ttotal: 20.6s\tremaining: 4.44s\n",
      "823:\tlearn: 0.4637002\ttotal: 20.7s\tremaining: 4.41s\n",
      "824:\tlearn: 0.4636351\ttotal: 20.7s\tremaining: 4.39s\n",
      "825:\tlearn: 0.4635513\ttotal: 20.7s\tremaining: 4.37s\n",
      "826:\tlearn: 0.4635089\ttotal: 20.8s\tremaining: 4.34s\n",
      "827:\tlearn: 0.4634778\ttotal: 20.8s\tremaining: 4.32s\n",
      "828:\tlearn: 0.4634009\ttotal: 20.8s\tremaining: 4.29s\n",
      "829:\tlearn: 0.4633264\ttotal: 20.8s\tremaining: 4.26s\n",
      "830:\tlearn: 0.4632712\ttotal: 20.8s\tremaining: 4.24s\n",
      "831:\tlearn: 0.4631845\ttotal: 20.9s\tremaining: 4.21s\n",
      "832:\tlearn: 0.4631254\ttotal: 20.9s\tremaining: 4.19s\n",
      "833:\tlearn: 0.4630699\ttotal: 20.9s\tremaining: 4.17s\n",
      "834:\tlearn: 0.4630102\ttotal: 21s\tremaining: 4.14s\n",
      "835:\tlearn: 0.4629575\ttotal: 21s\tremaining: 4.12s\n",
      "836:\tlearn: 0.4628880\ttotal: 21s\tremaining: 4.1s\n",
      "837:\tlearn: 0.4628385\ttotal: 21.1s\tremaining: 4.07s\n",
      "838:\tlearn: 0.4627863\ttotal: 21.1s\tremaining: 4.05s\n",
      "839:\tlearn: 0.4627373\ttotal: 21.1s\tremaining: 4.03s\n",
      "840:\tlearn: 0.4626736\ttotal: 21.2s\tremaining: 4s\n",
      "841:\tlearn: 0.4626113\ttotal: 21.2s\tremaining: 3.98s\n",
      "842:\tlearn: 0.4625320\ttotal: 21.3s\tremaining: 3.96s\n",
      "843:\tlearn: 0.4624196\ttotal: 21.3s\tremaining: 3.94s\n",
      "844:\tlearn: 0.4623464\ttotal: 21.3s\tremaining: 3.91s\n",
      "845:\tlearn: 0.4622961\ttotal: 21.4s\tremaining: 3.89s\n",
      "846:\tlearn: 0.4622015\ttotal: 21.4s\tremaining: 3.87s\n",
      "847:\tlearn: 0.4621403\ttotal: 21.4s\tremaining: 3.84s\n",
      "848:\tlearn: 0.4620726\ttotal: 21.5s\tremaining: 3.82s\n",
      "849:\tlearn: 0.4620005\ttotal: 21.5s\tremaining: 3.79s\n",
      "850:\tlearn: 0.4619370\ttotal: 21.5s\tremaining: 3.77s\n",
      "851:\tlearn: 0.4618773\ttotal: 21.5s\tremaining: 3.74s\n",
      "852:\tlearn: 0.4618249\ttotal: 21.6s\tremaining: 3.72s\n",
      "853:\tlearn: 0.4617851\ttotal: 21.6s\tremaining: 3.69s\n",
      "854:\tlearn: 0.4617512\ttotal: 21.6s\tremaining: 3.67s\n",
      "855:\tlearn: 0.4616729\ttotal: 21.6s\tremaining: 3.64s\n",
      "856:\tlearn: 0.4616107\ttotal: 21.7s\tremaining: 3.61s\n",
      "857:\tlearn: 0.4615395\ttotal: 21.7s\tremaining: 3.59s\n",
      "858:\tlearn: 0.4614730\ttotal: 21.7s\tremaining: 3.56s\n",
      "859:\tlearn: 0.4614044\ttotal: 21.7s\tremaining: 3.54s\n",
      "860:\tlearn: 0.4613433\ttotal: 21.8s\tremaining: 3.51s\n",
      "861:\tlearn: 0.4612939\ttotal: 21.8s\tremaining: 3.49s\n",
      "862:\tlearn: 0.4612586\ttotal: 21.8s\tremaining: 3.46s\n",
      "863:\tlearn: 0.4612234\ttotal: 21.9s\tremaining: 3.44s\n",
      "864:\tlearn: 0.4611859\ttotal: 21.9s\tremaining: 3.42s\n",
      "865:\tlearn: 0.4611249\ttotal: 21.9s\tremaining: 3.39s\n",
      "866:\tlearn: 0.4610704\ttotal: 22s\tremaining: 3.37s\n",
      "867:\tlearn: 0.4610263\ttotal: 22s\tremaining: 3.34s\n",
      "868:\tlearn: 0.4609494\ttotal: 22s\tremaining: 3.32s\n",
      "869:\tlearn: 0.4608963\ttotal: 22.1s\tremaining: 3.29s\n",
      "870:\tlearn: 0.4608237\ttotal: 22.1s\tremaining: 3.27s\n",
      "871:\tlearn: 0.4607831\ttotal: 22.1s\tremaining: 3.24s\n",
      "872:\tlearn: 0.4607127\ttotal: 22.1s\tremaining: 3.22s\n",
      "873:\tlearn: 0.4606407\ttotal: 22.1s\tremaining: 3.19s\n",
      "874:\tlearn: 0.4605759\ttotal: 22.2s\tremaining: 3.17s\n",
      "875:\tlearn: 0.4605222\ttotal: 22.2s\tremaining: 3.14s\n",
      "876:\tlearn: 0.4604722\ttotal: 22.2s\tremaining: 3.11s\n",
      "877:\tlearn: 0.4604178\ttotal: 22.2s\tremaining: 3.09s\n",
      "878:\tlearn: 0.4603828\ttotal: 22.3s\tremaining: 3.06s\n",
      "879:\tlearn: 0.4603071\ttotal: 22.3s\tremaining: 3.04s\n",
      "880:\tlearn: 0.4602526\ttotal: 22.3s\tremaining: 3.01s\n",
      "881:\tlearn: 0.4601863\ttotal: 22.4s\tremaining: 2.99s\n",
      "882:\tlearn: 0.4601488\ttotal: 22.4s\tremaining: 2.97s\n",
      "883:\tlearn: 0.4600981\ttotal: 22.4s\tremaining: 2.94s\n",
      "884:\tlearn: 0.4600352\ttotal: 22.5s\tremaining: 2.92s\n",
      "885:\tlearn: 0.4599766\ttotal: 22.5s\tremaining: 2.89s\n",
      "886:\tlearn: 0.4599302\ttotal: 22.5s\tremaining: 2.87s\n",
      "887:\tlearn: 0.4598658\ttotal: 22.5s\tremaining: 2.84s\n",
      "888:\tlearn: 0.4598155\ttotal: 22.5s\tremaining: 2.81s\n",
      "889:\tlearn: 0.4597691\ttotal: 22.6s\tremaining: 2.79s\n",
      "890:\tlearn: 0.4597166\ttotal: 22.6s\tremaining: 2.76s\n",
      "891:\tlearn: 0.4596456\ttotal: 22.6s\tremaining: 2.74s\n",
      "892:\tlearn: 0.4596232\ttotal: 22.6s\tremaining: 2.71s\n",
      "893:\tlearn: 0.4595725\ttotal: 22.7s\tremaining: 2.69s\n",
      "894:\tlearn: 0.4595270\ttotal: 22.7s\tremaining: 2.66s\n",
      "895:\tlearn: 0.4594590\ttotal: 22.7s\tremaining: 2.64s\n",
      "896:\tlearn: 0.4593944\ttotal: 22.8s\tremaining: 2.61s\n",
      "897:\tlearn: 0.4593240\ttotal: 22.8s\tremaining: 2.59s\n",
      "898:\tlearn: 0.4592826\ttotal: 22.8s\tremaining: 2.56s\n",
      "899:\tlearn: 0.4592323\ttotal: 22.9s\tremaining: 2.54s\n",
      "900:\tlearn: 0.4591783\ttotal: 22.9s\tremaining: 2.52s\n",
      "901:\tlearn: 0.4591346\ttotal: 22.9s\tremaining: 2.49s\n",
      "902:\tlearn: 0.4590851\ttotal: 23s\tremaining: 2.47s\n",
      "903:\tlearn: 0.4590286\ttotal: 23s\tremaining: 2.44s\n",
      "904:\tlearn: 0.4589660\ttotal: 23s\tremaining: 2.42s\n",
      "905:\tlearn: 0.4588887\ttotal: 23.1s\tremaining: 2.39s\n",
      "906:\tlearn: 0.4588401\ttotal: 23.1s\tremaining: 2.37s\n",
      "907:\tlearn: 0.4587935\ttotal: 23.1s\tremaining: 2.34s\n",
      "908:\tlearn: 0.4587134\ttotal: 23.1s\tremaining: 2.32s\n",
      "909:\tlearn: 0.4586563\ttotal: 23.2s\tremaining: 2.29s\n",
      "910:\tlearn: 0.4585708\ttotal: 23.2s\tremaining: 2.27s\n",
      "911:\tlearn: 0.4585319\ttotal: 23.2s\tremaining: 2.24s\n",
      "912:\tlearn: 0.4584435\ttotal: 23.2s\tremaining: 2.21s\n",
      "913:\tlearn: 0.4583943\ttotal: 23.3s\tremaining: 2.19s\n",
      "914:\tlearn: 0.4583432\ttotal: 23.3s\tremaining: 2.16s\n",
      "915:\tlearn: 0.4582980\ttotal: 23.3s\tremaining: 2.14s\n",
      "916:\tlearn: 0.4582352\ttotal: 23.3s\tremaining: 2.11s\n",
      "917:\tlearn: 0.4581637\ttotal: 23.4s\tremaining: 2.09s\n",
      "918:\tlearn: 0.4581251\ttotal: 23.4s\tremaining: 2.06s\n",
      "919:\tlearn: 0.4580702\ttotal: 23.4s\tremaining: 2.04s\n",
      "920:\tlearn: 0.4580474\ttotal: 23.4s\tremaining: 2.01s\n",
      "921:\tlearn: 0.4580067\ttotal: 23.5s\tremaining: 1.99s\n",
      "922:\tlearn: 0.4579720\ttotal: 23.5s\tremaining: 1.96s\n",
      "923:\tlearn: 0.4579015\ttotal: 23.5s\tremaining: 1.93s\n",
      "924:\tlearn: 0.4578298\ttotal: 23.5s\tremaining: 1.91s\n",
      "925:\tlearn: 0.4577742\ttotal: 23.6s\tremaining: 1.88s\n",
      "926:\tlearn: 0.4576914\ttotal: 23.6s\tremaining: 1.86s\n",
      "927:\tlearn: 0.4576279\ttotal: 23.6s\tremaining: 1.83s\n",
      "928:\tlearn: 0.4575719\ttotal: 23.6s\tremaining: 1.81s\n",
      "929:\tlearn: 0.4575340\ttotal: 23.7s\tremaining: 1.78s\n",
      "930:\tlearn: 0.4574744\ttotal: 23.7s\tremaining: 1.76s\n",
      "931:\tlearn: 0.4573934\ttotal: 23.7s\tremaining: 1.73s\n",
      "932:\tlearn: 0.4573464\ttotal: 23.8s\tremaining: 1.71s\n",
      "933:\tlearn: 0.4573066\ttotal: 23.8s\tremaining: 1.68s\n",
      "934:\tlearn: 0.4572627\ttotal: 23.8s\tremaining: 1.66s\n",
      "935:\tlearn: 0.4571752\ttotal: 23.9s\tremaining: 1.63s\n",
      "936:\tlearn: 0.4571244\ttotal: 23.9s\tremaining: 1.61s\n",
      "937:\tlearn: 0.4570727\ttotal: 23.9s\tremaining: 1.58s\n",
      "938:\tlearn: 0.4569807\ttotal: 24s\tremaining: 1.56s\n",
      "939:\tlearn: 0.4569034\ttotal: 24s\tremaining: 1.53s\n",
      "940:\tlearn: 0.4568461\ttotal: 24s\tremaining: 1.5s\n",
      "941:\tlearn: 0.4568013\ttotal: 24.1s\tremaining: 1.48s\n",
      "942:\tlearn: 0.4567480\ttotal: 24.1s\tremaining: 1.46s\n",
      "943:\tlearn: 0.4566642\ttotal: 24.1s\tremaining: 1.43s\n",
      "944:\tlearn: 0.4566067\ttotal: 24.1s\tremaining: 1.41s\n",
      "945:\tlearn: 0.4565653\ttotal: 24.2s\tremaining: 1.38s\n",
      "946:\tlearn: 0.4565127\ttotal: 24.2s\tremaining: 1.35s\n",
      "947:\tlearn: 0.4564568\ttotal: 24.2s\tremaining: 1.33s\n",
      "948:\tlearn: 0.4563915\ttotal: 24.3s\tremaining: 1.3s\n",
      "949:\tlearn: 0.4563377\ttotal: 24.3s\tremaining: 1.28s\n",
      "950:\tlearn: 0.4562962\ttotal: 24.3s\tremaining: 1.25s\n",
      "951:\tlearn: 0.4562424\ttotal: 24.4s\tremaining: 1.23s\n",
      "952:\tlearn: 0.4561822\ttotal: 24.4s\tremaining: 1.2s\n",
      "953:\tlearn: 0.4561129\ttotal: 24.4s\tremaining: 1.18s\n",
      "954:\tlearn: 0.4560622\ttotal: 24.5s\tremaining: 1.15s\n",
      "955:\tlearn: 0.4559669\ttotal: 24.5s\tremaining: 1.13s\n",
      "956:\tlearn: 0.4559221\ttotal: 24.6s\tremaining: 1.1s\n",
      "957:\tlearn: 0.4558563\ttotal: 24.6s\tremaining: 1.08s\n",
      "958:\tlearn: 0.4557869\ttotal: 24.6s\tremaining: 1.05s\n",
      "959:\tlearn: 0.4557315\ttotal: 24.7s\tremaining: 1.03s\n",
      "960:\tlearn: 0.4556754\ttotal: 24.7s\tremaining: 1s\n",
      "961:\tlearn: 0.4556233\ttotal: 24.7s\tremaining: 976ms\n",
      "962:\tlearn: 0.4555675\ttotal: 24.8s\tremaining: 951ms\n",
      "963:\tlearn: 0.4554933\ttotal: 24.8s\tremaining: 925ms\n",
      "964:\tlearn: 0.4554165\ttotal: 24.8s\tremaining: 899ms\n",
      "965:\tlearn: 0.4553785\ttotal: 24.8s\tremaining: 873ms\n",
      "966:\tlearn: 0.4553306\ttotal: 24.8s\tremaining: 848ms\n",
      "967:\tlearn: 0.4552533\ttotal: 24.9s\tremaining: 822ms\n",
      "968:\tlearn: 0.4551904\ttotal: 24.9s\tremaining: 796ms\n",
      "969:\tlearn: 0.4551316\ttotal: 24.9s\tremaining: 771ms\n",
      "970:\tlearn: 0.4550783\ttotal: 25s\tremaining: 745ms\n",
      "971:\tlearn: 0.4550472\ttotal: 25s\tremaining: 720ms\n",
      "972:\tlearn: 0.4549984\ttotal: 25s\tremaining: 694ms\n",
      "973:\tlearn: 0.4549350\ttotal: 25.1s\tremaining: 669ms\n",
      "974:\tlearn: 0.4548572\ttotal: 26.4s\tremaining: 678ms\n",
      "975:\tlearn: 0.4547960\ttotal: 26.5s\tremaining: 651ms\n",
      "976:\tlearn: 0.4547723\ttotal: 26.5s\tremaining: 624ms\n",
      "977:\tlearn: 0.4547182\ttotal: 26.6s\tremaining: 597ms\n",
      "978:\tlearn: 0.4546459\ttotal: 26.6s\tremaining: 570ms\n",
      "979:\tlearn: 0.4545898\ttotal: 26.6s\tremaining: 543ms\n"
     ]
    },
    {
     "name": "stdout",
     "output_type": "stream",
     "text": [
      "980:\tlearn: 0.4545366\ttotal: 26.6s\tremaining: 516ms\n",
      "981:\tlearn: 0.4544941\ttotal: 26.7s\tremaining: 489ms\n",
      "982:\tlearn: 0.4544454\ttotal: 26.7s\tremaining: 462ms\n",
      "983:\tlearn: 0.4543906\ttotal: 26.7s\tremaining: 435ms\n",
      "984:\tlearn: 0.4543598\ttotal: 26.8s\tremaining: 407ms\n",
      "985:\tlearn: 0.4543093\ttotal: 26.8s\tremaining: 380ms\n",
      "986:\tlearn: 0.4542653\ttotal: 26.8s\tremaining: 353ms\n",
      "987:\tlearn: 0.4542209\ttotal: 26.8s\tremaining: 326ms\n",
      "988:\tlearn: 0.4541714\ttotal: 26.8s\tremaining: 299ms\n",
      "989:\tlearn: 0.4541027\ttotal: 26.9s\tremaining: 271ms\n",
      "990:\tlearn: 0.4540182\ttotal: 26.9s\tremaining: 244ms\n",
      "991:\tlearn: 0.4539756\ttotal: 26.9s\tremaining: 217ms\n",
      "992:\tlearn: 0.4539312\ttotal: 26.9s\tremaining: 190ms\n",
      "993:\tlearn: 0.4539013\ttotal: 27s\tremaining: 163ms\n",
      "994:\tlearn: 0.4538367\ttotal: 27s\tremaining: 136ms\n",
      "995:\tlearn: 0.4538032\ttotal: 27s\tremaining: 109ms\n",
      "996:\tlearn: 0.4537481\ttotal: 27s\tremaining: 81.4ms\n",
      "997:\tlearn: 0.4536884\ttotal: 27.1s\tremaining: 54.2ms\n",
      "998:\tlearn: 0.4536642\ttotal: 27.1s\tremaining: 27.1ms\n",
      "999:\tlearn: 0.4536213\ttotal: 27.1s\tremaining: 0us\n"
     ]
    },
    {
     "data": {
      "text/plain": [
       "0.5125989802460391"
      ]
     },
     "execution_count": 207,
     "metadata": {},
     "output_type": "execute_result"
    }
   ],
   "source": [
    "clf = CatBoostClassifier(random_state = 1)\n",
    "_ = clf.fit(X_trn, y_trn)\n",
    "\n",
    "preds_val = clf.predict(X_val)\n",
    "\n",
    "roc_auc_score(y_val, preds_val)"
   ]
  },
  {
   "cell_type": "code",
   "execution_count": 208,
   "metadata": {},
   "outputs": [
    {
     "data": {
      "text/plain": [
       "0.5054750760633113"
      ]
     },
     "execution_count": 208,
     "metadata": {},
     "output_type": "execute_result"
    }
   ],
   "source": [
    "clf = LGBMClassifier(random_state = 1)\n",
    "_ = clf.fit(X_trn, y_trn)\n",
    "\n",
    "preds_val = clf.predict(X_val)\n",
    "\n",
    "roc_auc_score(y_val, preds_val)"
   ]
  },
  {
   "cell_type": "code",
   "execution_count": 209,
   "metadata": {},
   "outputs": [
    {
     "data": {
      "text/plain": [
       "array([0., 1., 0., ..., 0., 0., 0.])"
      ]
     },
     "execution_count": 209,
     "metadata": {},
     "output_type": "execute_result"
    }
   ],
   "source": [
    "preds_test = clf.predict(X_test)\n",
    "preds_test"
   ]
  },
  {
   "cell_type": "code",
   "execution_count": 210,
   "metadata": {},
   "outputs": [
    {
     "data": {
      "text/plain": [
       "0.5028133234015587"
      ]
     },
     "execution_count": 210,
     "metadata": {},
     "output_type": "execute_result"
    }
   ],
   "source": [
    "clf = RandomForestClassifier(random_state = 1)\n",
    "_ = clf.fit(X_trn, y_trn)\n",
    "\n",
    "preds_val = clf.predict(X_val)\n",
    "\n",
    "roc_auc_score(y_val, preds_val)"
   ]
  },
  {
   "cell_type": "code",
   "execution_count": 211,
   "metadata": {},
   "outputs": [
    {
     "data": {
      "text/plain": [
       "{'min_samples_split': 70,\n",
       " 'max_leaf_nodes': 256,\n",
       " 'max_features': 0.9,\n",
       " 'max_depth': 20,\n",
       " 'criterion': 'entropy',\n",
       " 'class_weight': 'balanced'}"
      ]
     },
     "execution_count": 211,
     "metadata": {},
     "output_type": "execute_result"
    }
   ],
   "source": [
    "# Hyper Parameter Tuning \n",
    "from sklearn.model_selection import RandomizedSearchCV\n",
    "\n",
    "hyperparam_combs = {\n",
    "    'max_depth': [4, 6, 8, 10, 12, 14, 16, 18, 20],\n",
    "    'criterion': ['gini', 'entropy'],\n",
    "    'min_samples_split': [2, 10, 20, 30, 40, 50, 60, 70, 80, 90],\n",
    "    'max_features': [0.2,0.3, 0.4,0.5, 0.6,.7, 0.8,.9, 1, 1.2],\n",
    "    'max_leaf_nodes': [8, 16, 32, 64, 128, 256, 512],\n",
    "    'class_weight': ['balanced','weighted']\n",
    "}\n",
    "\n",
    "clf = RandomizedSearchCV(DecisionTreeClassifier(),\n",
    "                         hyperparam_combs,\n",
    "                         scoring='roc_auc',\n",
    "                         random_state=1,\n",
    "                         n_iter=500)\n",
    "\n",
    "search = clf.fit(train_proc[features], train_proc[TARGET_COL])\n",
    "\n",
    "search.best_params_"
   ]
  },
  {
   "cell_type": "code",
   "execution_count": 212,
   "metadata": {},
   "outputs": [
    {
     "data": {
      "text/plain": [
       "0.43348077577407285"
      ]
     },
     "execution_count": 212,
     "metadata": {},
     "output_type": "execute_result"
    },
    {
     "data": {
      "text/plain": [
       "0.602719140954435"
      ]
     },
     "execution_count": 212,
     "metadata": {},
     "output_type": "execute_result"
    }
   ],
   "source": [
    "optimal_params = {'min_samples_split': 70,\n",
    " 'max_leaf_nodes': 256,\n",
    " 'max_features': 0.9,\n",
    " 'max_depth': 20,\n",
    " 'criterion': 'entropy',\n",
    " 'class_weight': 'balanced'}\n",
    "clf = DecisionTreeClassifier(random_state = 1, **optimal_params)\n",
    "_ = clf.fit(X_trn, y_trn)\n",
    "\n",
    "preds_val = clf.predict(X_val)\n",
    "\n",
    "f1_score(y_val, preds_val)\n",
    "roc_auc_score(y_val, preds_val)"
   ]
  },
  {
   "cell_type": "code",
   "execution_count": 213,
   "metadata": {},
   "outputs": [
    {
     "data": {
      "text/plain": [
       "array([0., 1., 1., ..., 0., 1., 0.])"
      ]
     },
     "execution_count": 213,
     "metadata": {},
     "output_type": "execute_result"
    }
   ],
   "source": [
    "preds_test = clf.predict(X_test)\n",
    "preds_test"
   ]
  },
  {
   "cell_type": "code",
   "execution_count": 214,
   "metadata": {},
   "outputs": [],
   "source": [
    "from sklearn.model_selection import StratifiedKFold"
   ]
  },
  {
   "cell_type": "code",
   "execution_count": 215,
   "metadata": {},
   "outputs": [],
   "source": [
    "def run_clf_kfold(clf, train, test, features):\n",
    "\n",
    "  N_SPLITS = 7\n",
    "\n",
    "  oofs = np.zeros(len(train))\n",
    "  preds = np.zeros((len(test)))\n",
    "\n",
    "  folds = StratifiedKFold(n_splits = N_SPLITS)\n",
    "\n",
    "  for fold_, (trn_idx, val_idx) in enumerate(folds.split(train, train[TARGET_COL])):\n",
    "    print(f'\\n------------- Fold {fold_ + 1} -------------')\n",
    "\n",
    "    ############# Get train, validation and test sets along with targets ################\n",
    "  \n",
    "    ### Training Set\n",
    "    X_trn, y_trn = train[features].iloc[trn_idx], target.iloc[trn_idx]\n",
    "\n",
    "    ### Validation Set\n",
    "    X_val, y_val = train[features].iloc[val_idx], target.iloc[val_idx]\n",
    "\n",
    "    ### Test Set\n",
    "    X_test = test[features]\n",
    "\n",
    "    ############# Scaling Data ################\n",
    "    scaler = StandardScaler()\n",
    "    _ = scaler.fit(X_trn)\n",
    "\n",
    "    X_trn = scaler.transform(X_trn)\n",
    "    X_val = scaler.transform(X_val)\n",
    "    X_test = scaler.transform(X_test)\n",
    "\n",
    "\n",
    "    ############# Fitting and Predicting ################\n",
    "\n",
    "    _ = clf.fit(X_trn, y_trn)\n",
    "\n",
    "    ### Instead of directly predicting the classes we will obtain the probability of positive class.\n",
    "    preds_val = clf.predict_proba(X_val)[:, 1]\n",
    "    preds_test = clf.predict_proba(X_test)[:, 1]\n",
    "\n",
    "    fold_score = roc_auc_score(y_val, preds_val.round())\n",
    "    print(f'\\nroc score for validation set is {fold_score}')\n",
    "\n",
    "    oofs[val_idx] = preds_val\n",
    "    preds += preds_test / N_SPLITS\n",
    "\n",
    "\n",
    "  oofs_score = roc_auc_score(target, oofs.round())\n",
    "  print(f'\\n\\nroc score for oofs is {oofs_score}')\n",
    "\n",
    "  return oofs, preds"
   ]
  },
  {
   "cell_type": "code",
   "execution_count": 216,
   "metadata": {},
   "outputs": [],
   "source": [
    "target = train[TARGET_COL]"
   ]
  },
  {
   "cell_type": "code",
   "execution_count": 217,
   "metadata": {},
   "outputs": [
    {
     "name": "stdout",
     "output_type": "stream",
     "text": [
      "\n",
      "------------- Fold 1 -------------\n",
      "\n",
      "roc score for validation set is 0.5382980302212628\n",
      "\n",
      "------------- Fold 2 -------------\n",
      "\n",
      "roc score for validation set is 0.6048961144090663\n",
      "\n",
      "------------- Fold 3 -------------\n",
      "\n",
      "roc score for validation set is 0.6080729274772718\n",
      "\n",
      "------------- Fold 4 -------------\n",
      "\n",
      "roc score for validation set is 0.6119455456847523\n",
      "\n",
      "------------- Fold 5 -------------\n",
      "\n",
      "roc score for validation set is 0.603544460127029\n",
      "\n",
      "------------- Fold 6 -------------\n",
      "\n",
      "roc score for validation set is 0.6001457043917762\n",
      "\n",
      "------------- Fold 7 -------------\n",
      "\n",
      "roc score for validation set is 0.596329029622199\n",
      "\n",
      "\n",
      "roc score for oofs is 0.5947532843816946\n"
     ]
    }
   ],
   "source": [
    "dt_params = {'min_samples_split': 70,\n",
    " 'max_leaf_nodes': 256,\n",
    " 'max_features': 0.9,\n",
    " 'max_depth': 20,\n",
    " 'criterion': 'entropy',\n",
    " 'class_weight': 'balanced'}\n",
    "\n",
    "clf = DecisionTreeClassifier(**dt_params)\n",
    "        \n",
    "\n",
    "dt_oofs, dt_preds = run_clf_kfold(clf, train_proc, test_proc, features)"
   ]
  },
  {
   "cell_type": "code",
   "execution_count": 218,
   "metadata": {},
   "outputs": [],
   "source": [
    "dt_preds_rounded = dt_preds.round()\n"
   ]
  },
  {
   "cell_type": "code",
   "execution_count": 219,
   "metadata": {},
   "outputs": [],
   "source": [
    "from lightgbm import LGBMClassifier"
   ]
  },
  {
   "cell_type": "code",
   "execution_count": 220,
   "metadata": {},
   "outputs": [
    {
     "name": "stdout",
     "output_type": "stream",
     "text": [
      "\n",
      "------------- Fold 1 -------------\n",
      "\n",
      "roc score for validation set is 0.5\n",
      "\n",
      "------------- Fold 2 -------------\n",
      "\n",
      "roc score for validation set is 0.5194244779775001\n",
      "\n",
      "------------- Fold 3 -------------\n",
      "\n",
      "roc score for validation set is 0.5079681597409605\n",
      "\n",
      "------------- Fold 4 -------------\n",
      "\n",
      "roc score for validation set is 0.5190943480426752\n",
      "\n",
      "------------- Fold 5 -------------\n",
      "\n",
      "roc score for validation set is 0.5029886047573581\n",
      "\n",
      "------------- Fold 6 -------------\n",
      "\n",
      "roc score for validation set is 0.5728043712354943\n",
      "\n",
      "------------- Fold 7 -------------\n",
      "\n",
      "roc score for validation set is 0.5100053395026871\n",
      "\n",
      "\n",
      "roc score for oofs is 0.5189071795415582\n"
     ]
    }
   ],
   "source": [
    "clf = LGBMClassifier()\n",
    "lgb_oofs, lgb_preds = run_clf_kfold(clf, train_proc, test_proc, features)"
   ]
  },
  {
   "cell_type": "code",
   "execution_count": 221,
   "metadata": {},
   "outputs": [],
   "source": [
    "lgb_preds_rounded = lgb_preds.round()\n"
   ]
  },
  {
   "cell_type": "code",
   "execution_count": 222,
   "metadata": {},
   "outputs": [
    {
     "name": "stdout",
     "output_type": "stream",
     "text": [
      "Threshold 0.0: 0.5\n",
      "Threshold 0.01: 0.5235292583018339\n",
      "Threshold 0.02: 0.5204278897718061\n",
      "Threshold 0.03: 0.5208167887092241\n",
      "Threshold 0.04: 0.5211655147096033\n",
      "Threshold 0.05: 0.5225639334195242\n",
      "Threshold 0.06: 0.5238566831996051\n",
      "Threshold 0.07: 0.5263862757047786\n",
      "Threshold 0.08: 0.5291054686730016\n",
      "Threshold 0.09: 0.5316327526321306\n",
      "Threshold 0.1: 0.5353709505319946\n",
      "Threshold 0.11: 0.5395745184864841\n",
      "Threshold 0.12: 0.543368339638428\n",
      "Threshold 0.13: 0.5470306340269009\n",
      "Threshold 0.14: 0.5518952467284741\n",
      "Threshold 0.15: 0.5543952538394313\n",
      "Threshold 0.16: 0.5583433705844347\n",
      "Threshold 0.17: 0.5605429236045967\n",
      "Threshold 0.18: 0.5642687983162407\n",
      "Threshold 0.19: 0.5681389868067166\n",
      "Threshold 0.2: 0.5714701393264934\n",
      "Threshold 0.21: 0.5748161745554948\n",
      "Threshold 0.22: 0.5771835906420753\n",
      "Threshold 0.23: 0.5792269323995471\n",
      "Threshold 0.24: 0.579840954817016\n",
      "Threshold 0.25: 0.5788516496479276\n",
      "Threshold 0.26: 0.5789201361609261\n",
      "Threshold 0.27: 0.5767701427530958\n",
      "Threshold 0.28: 0.5742520654450268\n",
      "Threshold 0.29: 0.5706266474321999\n",
      "Threshold 0.3: 0.5687177191797206\n",
      "Threshold 0.31: 0.5680374637290617\n",
      "Threshold 0.32: 0.5665449241143533\n",
      "Threshold 0.33: 0.5638477576405\n",
      "Threshold 0.34: 0.5618124163717281\n",
      "Threshold 0.35: 0.5580789118095107\n",
      "Threshold 0.36: 0.5563519107518979\n",
      "Threshold 0.37: 0.5526358102971307\n",
      "Threshold 0.38: 0.5500426427636166\n",
      "Threshold 0.39: 0.5478159600915673\n",
      "Threshold 0.4: 0.5450741454900402\n",
      "Threshold 0.41: 0.5416494777940714\n",
      "Threshold 0.42: 0.5390999979060005\n",
      "Threshold 0.43: 0.5365463975809301\n",
      "Threshold 0.44: 0.5339433191839158\n",
      "Threshold 0.45: 0.5304933612601325\n",
      "Threshold 0.46: 0.5292697693775421\n",
      "Threshold 0.47: 0.5259451220863668\n",
      "Threshold 0.48: 0.5235752608471181\n",
      "Threshold 0.49: 0.5209534631067879\n",
      "Threshold 0.5: 0.5189071795415582\n",
      "Threshold 0.51: 0.5167512485109428\n",
      "Threshold 0.52: 0.515110378459078\n",
      "Threshold 0.53: 0.5136593217224438\n",
      "Threshold 0.54: 0.5121436913524599\n",
      "Threshold 0.55: 0.5114557245108396\n",
      "Threshold 0.56: 0.5103884857923933\n",
      "Threshold 0.57: 0.5089247129911249\n",
      "Threshold 0.58: 0.5079372853688882\n",
      "Threshold 0.59: 0.5068464973628557\n",
      "Threshold 0.6: 0.5058246872300808\n",
      "Threshold 0.61: 0.5048740216151538\n",
      "Threshold 0.62: 0.5041281229754091\n",
      "Threshold 0.63: 0.5033154131069972\n",
      "Threshold 0.64: 0.5029704527899824\n",
      "Threshold 0.65: 0.5023862720365202\n",
      "Threshold 0.66: 0.5019141891959422\n",
      "Threshold 0.67: 0.5015671331850641\n",
      "Threshold 0.68: 0.5010799547830805\n",
      "Threshold 0.69: 0.5007070409385715\n",
      "Threshold 0.7: 0.5004311294455415\n",
      "Threshold 0.71: 0.5002112669089533\n",
      "Threshold 0.72: 0.5000991689960691\n",
      "Threshold 0.73: 0.5000301911228116\n",
      "Threshold 0.74: 0.5000431200396269\n",
      "Threshold 0.75: 0.5000560489564423\n",
      "Threshold 0.76: 0.5000689778732575\n",
      "Threshold 0.77: 0.500028024478221\n",
      "Threshold 0.78: 0.500028024478221\n",
      "Threshold 0.79: 0.5000409533950364\n",
      "Threshold 0.8: 0.5000409533950364\n",
      "Threshold 0.81: 0.5000409533950364\n",
      "Threshold 0.82: 0.5000409533950364\n",
      "Threshold 0.83: 0.5\n",
      "Threshold 0.84: 0.5\n",
      "Threshold 0.85: 0.5\n",
      "Threshold 0.86: 0.5\n",
      "Threshold 0.87: 0.5\n",
      "Threshold 0.88: 0.5\n",
      "Threshold 0.89: 0.5\n",
      "Threshold 0.9: 0.5\n",
      "Threshold 0.91: 0.5\n",
      "Threshold 0.92: 0.5\n",
      "Threshold 0.93: 0.5\n",
      "Threshold 0.94: 0.5\n",
      "Threshold 0.95: 0.5\n",
      "Threshold 0.96: 0.5\n",
      "Threshold 0.97: 0.5\n",
      "Threshold 0.98: 0.5\n",
      "Threshold 0.99: 0.5\n"
     ]
    }
   ],
   "source": [
    "thresholds = np.arange(0, 100)/100\n",
    "for thresh in thresholds:\n",
    "  oofs_rounded = (lgb_oofs > thresh) * 1\n",
    "  thresh_score = roc_auc_score(target, oofs_rounded)\n",
    "  print(f'Threshold {thresh}: {thresh_score}')"
   ]
  },
  {
   "cell_type": "code",
   "execution_count": 223,
   "metadata": {},
   "outputs": [],
   "source": [
    "def get_optimal_roc_thresh(target, oofs):\n",
    "  thresholds = np.arange(0, 100)/100\n",
    "  thresh_scores = []\n",
    "  for thresh in thresholds:\n",
    "    oofs_rounded = (lgb_oofs > thresh) * 1\n",
    "    thresh_score = roc_auc_score(target, oofs_rounded)\n",
    "    thresh_scores.append(thresh_score)\n",
    "  \n",
    "  all_thresholds_and_scores = pd.Series(index = thresholds, data = thresh_scores)\n",
    "  all_thresholds_and_scores.plot(figsize=(10, 6), fontsize=14)\n",
    "  \n",
    "  plt.xlabel('Threshold', fontsize=14)\n",
    "  plt.ylabel('roc Score', fontsize=14)\n",
    "\n",
    "  return all_thresholds_and_scores.sort_values(ascending=False).index.values[0]"
   ]
  },
  {
   "cell_type": "code",
   "execution_count": 224,
   "metadata": {},
   "outputs": [
    {
     "name": "stdout",
     "output_type": "stream",
     "text": [
      "Optimal threhold is 0.24\n"
     ]
    },
    {
     "data": {
      "text/plain": [
       "0.579840954817016"
      ]
     },
     "execution_count": 224,
     "metadata": {},
     "output_type": "execute_result"
    },
    {
     "data": {
      "image/png": "[encoded data removed]",
      "text/plain": [
       "<Figure size 720x432 with 1 Axes>"
      ]
     },
     "metadata": {},
     "output_type": "display_data"
    }
   ],
   "source": [
    "optimal_thresh = get_optimal_roc_thresh(target, lgb_oofs)\n",
    "print(f'Optimal threhold is {optimal_thresh}')\n",
    "roc_auc_score(target, (lgb_oofs > optimal_thresh) * 1)"
   ]
  },
  {
   "cell_type": "code",
   "execution_count": 225,
   "metadata": {},
   "outputs": [],
   "source": [
    "lgb_preds_rounded = (lgb_preds > optimal_thresh) * 1\n"
   ]
  },
  {
   "cell_type": "code",
   "execution_count": 226,
   "metadata": {},
   "outputs": [],
   "source": [
    "#del train['days_since_prev_campaign_contact']"
   ]
  },
  {
   "cell_type": "code",
   "execution_count": 227,
   "metadata": {},
   "outputs": [],
   "source": [
    "def run_gradient_boosting(clf, fit_params, train, test, features):\n",
    "  N_SPLITS = 7\n",
    "  oofs = np.zeros(len(train_proc))\n",
    "  preds = np.zeros((len(test_proc)))\n",
    "\n",
    "  folds = StratifiedKFold(n_splits = N_SPLITS)\n",
    "\n",
    "  for fold_, (trn_idx, val_idx) in enumerate(folds.split(train, train[TARGET_COL])):\n",
    "    print(f'\\n------------- Fold {fold_ + 1} -------------')\n",
    "\n",
    "    ### Training Set\n",
    "    X_trn, y_trn = train[features].iloc[trn_idx], target.iloc[trn_idx]\n",
    "\n",
    "    ### Validation Set\n",
    "    X_val, y_val = train[features].iloc[val_idx], target.iloc[val_idx]\n",
    "\n",
    "    ### Test Set\n",
    "    X_test = test[features]\n",
    "\n",
    "    scaler = StandardScaler()\n",
    "    _ = scaler.fit(X_trn)\n",
    "\n",
    "    X_trn = scaler.transform(X_trn)\n",
    "    X_val = scaler.transform(X_val)\n",
    "    X_test = scaler.transform(X_test)\n",
    "    \n",
    "    _ = clf.fit(X_trn, y_trn, eval_set = [(X_val, y_val)], **fit_params)\n",
    "\n",
    "    ### Instead of directly predicting the classes we will obtain the probability of positive class.\n",
    "    preds_val = clf.predict_proba(X_val)[:, 1]\n",
    "    preds_test = clf.predict_proba(X_test)[:, 1]\n",
    "\n",
    "    fold_score = roc_auc_score(y_val, preds_val.round())\n",
    "    print(f'\\nroc score for validation set is {fold_score}')\n",
    "\n",
    "    oofs[val_idx] = preds_val\n",
    "    preds += preds_test / N_SPLITS\n",
    "\n",
    "\n",
    "  oofs_score = roc_auc_score(target, oofs.round())\n",
    "  print(f'\\n\\nroc score for oofs is {oofs_score}')\n",
    "\n",
    "  return oofs, preds"
   ]
  },
  {
   "cell_type": "code",
   "execution_count": 229,
   "metadata": {},
   "outputs": [
    {
     "name": "stdout",
     "output_type": "stream",
     "text": [
      "\n",
      "------------- Fold 1 -------------\n",
      "Training until validation scores don't improve for 100 rounds\n",
      "[100]\tvalid_0's binary_logloss: 0.565804\n",
      "Early stopping, best iteration is:\n",
      "[31]\tvalid_0's binary_logloss: 0.544999\n",
      "\n",
      "roc score for validation set is 0.5\n",
      "\n",
      "------------- Fold 2 -------------\n",
      "Training until validation scores don't improve for 100 rounds\n",
      "[100]\tvalid_0's binary_logloss: 0.532362\n",
      "[200]\tvalid_0's binary_logloss: 0.523827\n",
      "[300]\tvalid_0's binary_logloss: 0.5212\n",
      "[400]\tvalid_0's binary_logloss: 0.519625\n",
      "[500]\tvalid_0's binary_logloss: 0.518891\n",
      "[600]\tvalid_0's binary_logloss: 0.51872\n",
      "Early stopping, best iteration is:\n",
      "[589]\tvalid_0's binary_logloss: 0.518707\n",
      "\n",
      "roc score for validation set is 0.5015543920461621\n",
      "\n",
      "------------- Fold 3 -------------\n",
      "Training until validation scores don't improve for 100 rounds\n",
      "[100]\tvalid_0's binary_logloss: 0.530464\n",
      "[200]\tvalid_0's binary_logloss: 0.520185\n",
      "[300]\tvalid_0's binary_logloss: 0.516387\n",
      "[400]\tvalid_0's binary_logloss: 0.514423\n",
      "[500]\tvalid_0's binary_logloss: 0.513099\n",
      "[600]\tvalid_0's binary_logloss: 0.513382\n",
      "Early stopping, best iteration is:\n",
      "[509]\tvalid_0's binary_logloss: 0.513036\n",
      "\n",
      "roc score for validation set is 0.5005733944954128\n",
      "\n",
      "------------- Fold 4 -------------\n",
      "Training until validation scores don't improve for 100 rounds\n",
      "[100]\tvalid_0's binary_logloss: 0.530786\n",
      "[200]\tvalid_0's binary_logloss: 0.522276\n",
      "[300]\tvalid_0's binary_logloss: 0.519712\n",
      "[400]\tvalid_0's binary_logloss: 0.517857\n",
      "[500]\tvalid_0's binary_logloss: 0.51673\n",
      "[600]\tvalid_0's binary_logloss: 0.516956\n",
      "Early stopping, best iteration is:\n",
      "[516]\tvalid_0's binary_logloss: 0.516648\n",
      "\n",
      "roc score for validation set is 0.5012524907634189\n",
      "\n",
      "------------- Fold 5 -------------\n",
      "Training until validation scores don't improve for 100 rounds\n",
      "[100]\tvalid_0's binary_logloss: 0.529714\n",
      "[200]\tvalid_0's binary_logloss: 0.519981\n",
      "[300]\tvalid_0's binary_logloss: 0.517218\n",
      "[400]\tvalid_0's binary_logloss: 0.515567\n",
      "[500]\tvalid_0's binary_logloss: 0.514643\n",
      "[600]\tvalid_0's binary_logloss: 0.514329\n",
      "[700]\tvalid_0's binary_logloss: 0.51414\n",
      "[800]\tvalid_0's binary_logloss: 0.514057\n",
      "[900]\tvalid_0's binary_logloss: 0.513721\n",
      "[1000]\tvalid_0's binary_logloss: 0.513425\n",
      "Did not meet early stopping. Best iteration is:\n",
      "[995]\tvalid_0's binary_logloss: 0.513382\n",
      "\n",
      "roc score for validation set is 0.5031543961974345\n",
      "\n",
      "------------- Fold 6 -------------\n",
      "Training until validation scores don't improve for 100 rounds\n",
      "[100]\tvalid_0's binary_logloss: 0.533632\n",
      "[200]\tvalid_0's binary_logloss: 0.530998\n",
      "Early stopping, best iteration is:\n",
      "[174]\tvalid_0's binary_logloss: 0.527238\n",
      "\n",
      "roc score for validation set is 0.5\n",
      "\n",
      "------------- Fold 7 -------------\n",
      "Training until validation scores don't improve for 100 rounds\n",
      "[100]\tvalid_0's binary_logloss: 0.530793\n",
      "[200]\tvalid_0's binary_logloss: 0.521514\n",
      "[300]\tvalid_0's binary_logloss: 0.518565\n",
      "[400]\tvalid_0's binary_logloss: 0.516638\n",
      "[500]\tvalid_0's binary_logloss: 0.515976\n",
      "[600]\tvalid_0's binary_logloss: 0.515557\n",
      "[700]\tvalid_0's binary_logloss: 0.515316\n",
      "[800]\tvalid_0's binary_logloss: 0.515223\n",
      "Early stopping, best iteration is:\n",
      "[773]\tvalid_0's binary_logloss: 0.515154\n",
      "\n",
      "roc score for validation set is 0.5008605069455054\n",
      "\n",
      "\n",
      "roc score for oofs is 0.5010563345447673\n",
      "Optimal threhold is 0.23\n",
      "Optimized roc is 0.6075547789860813\n"
     ]
    },
    {
     "data": {
      "image/png": "[encoded data removed]",
      "text/plain": [
       "<Figure size 720x432 with 1 Axes>"
      ]
     },
     "metadata": {},
     "output_type": "display_data"
    }
   ],
   "source": [
    "clf = LGBMClassifier(n_estimators = 1000,\n",
    "                        learning_rate = 0.01,\n",
    "                        colsample_bytree = 0.76,\n",
    "                        )\n",
    "fit_params = {'verbose': 100, 'early_stopping_rounds': 100}\n",
    "\n",
    "lgb_oofs, lgb_preds = run_gradient_boosting(clf, fit_params, train_proc, test_proc, features)\n",
    "\n",
    "optimal_thresh = get_optimal_roc_thresh(target, lgb_oofs)\n",
    "print(f'Optimal threhold is {optimal_thresh}')\n",
    "optimized_roc = roc_auc_score(target, (lgb_oofs > optimal_thresh) * 1)\n",
    "print(f'Optimized roc is {optimized_roc}')"
   ]
  },
  {
   "cell_type": "code",
   "execution_count": 230,
   "metadata": {},
   "outputs": [],
   "source": [
    "lgb_preds_rounded = (lgb_preds > optimal_thresh) * 1\n"
   ]
  },
  {
   "cell_type": "code",
   "execution_count": 231,
   "metadata": {},
   "outputs": [
    {
     "data": {
      "text/plain": [
       "array([1, 1, 1, ..., 0, 0, 0])"
      ]
     },
     "execution_count": 231,
     "metadata": {},
     "output_type": "execute_result"
    }
   ],
   "source": [
    "lgb_preds_rounded\n"
   ]
  },
  {
   "cell_type": "code",
   "execution_count": 232,
   "metadata": {},
   "outputs": [
    {
     "data": {
      "text/html": [
       "<div>\n",
       "<style scoped>\n",
       "    .dataframe tbody tr th:only-of-type {\n",
       "        vertical-align: middle;\n",
       "    }\n",
       "\n",
       "    .dataframe tbody tr th {\n",
       "        vertical-align: top;\n",
       "    }\n",
       "\n",
       "    .dataframe thead th {\n",
       "        text-align: right;\n",
       "    }\n",
       "</style>\n",
       "<table border=\"1\" class=\"dataframe\">\n",
       "  <thead>\n",
       "    <tr style=\"text-align: right;\">\n",
       "      <th></th>\n",
       "      <th>ID</th>\n",
       "      <th>Response</th>\n",
       "    </tr>\n",
       "  </thead>\n",
       "  <tbody>\n",
       "    <tr>\n",
       "      <th>0</th>\n",
       "      <td>50883</td>\n",
       "      <td>1</td>\n",
       "    </tr>\n",
       "    <tr>\n",
       "      <th>1</th>\n",
       "      <td>50884</td>\n",
       "      <td>1</td>\n",
       "    </tr>\n",
       "    <tr>\n",
       "      <th>2</th>\n",
       "      <td>50885</td>\n",
       "      <td>1</td>\n",
       "    </tr>\n",
       "    <tr>\n",
       "      <th>3</th>\n",
       "      <td>50886</td>\n",
       "      <td>1</td>\n",
       "    </tr>\n",
       "    <tr>\n",
       "      <th>4</th>\n",
       "      <td>50887</td>\n",
       "      <td>1</td>\n",
       "    </tr>\n",
       "  </tbody>\n",
       "</table>\n",
       "</div>"
      ],
      "text/plain": [
       "      ID  Response\n",
       "0  50883  1       \n",
       "1  50884  1       \n",
       "2  50885  1       \n",
       "3  50886  1       \n",
       "4  50887  1       "
      ]
     },
     "execution_count": 232,
     "metadata": {},
     "output_type": "execute_result"
    }
   ],
   "source": [
    "ss.head()"
   ]
  },
  {
   "cell_type": "code",
   "execution_count": 233,
   "metadata": {},
   "outputs": [],
   "source": [
    "ss['Response'] = lgb_preds_rounded\n"
   ]
  },
  {
   "cell_type": "code",
   "execution_count": 234,
   "metadata": {},
   "outputs": [
    {
     "data": {
      "text/html": [
       "<div>\n",
       "<style scoped>\n",
       "    .dataframe tbody tr th:only-of-type {\n",
       "        vertical-align: middle;\n",
       "    }\n",
       "\n",
       "    .dataframe tbody tr th {\n",
       "        vertical-align: top;\n",
       "    }\n",
       "\n",
       "    .dataframe thead th {\n",
       "        text-align: right;\n",
       "    }\n",
       "</style>\n",
       "<table border=\"1\" class=\"dataframe\">\n",
       "  <thead>\n",
       "    <tr style=\"text-align: right;\">\n",
       "      <th></th>\n",
       "      <th>ID</th>\n",
       "      <th>Response</th>\n",
       "    </tr>\n",
       "  </thead>\n",
       "  <tbody>\n",
       "    <tr>\n",
       "      <th>0</th>\n",
       "      <td>50883</td>\n",
       "      <td>1</td>\n",
       "    </tr>\n",
       "    <tr>\n",
       "      <th>1</th>\n",
       "      <td>50884</td>\n",
       "      <td>1</td>\n",
       "    </tr>\n",
       "    <tr>\n",
       "      <th>2</th>\n",
       "      <td>50885</td>\n",
       "      <td>1</td>\n",
       "    </tr>\n",
       "    <tr>\n",
       "      <th>3</th>\n",
       "      <td>50886</td>\n",
       "      <td>1</td>\n",
       "    </tr>\n",
       "    <tr>\n",
       "      <th>4</th>\n",
       "      <td>50887</td>\n",
       "      <td>1</td>\n",
       "    </tr>\n",
       "  </tbody>\n",
       "</table>\n",
       "</div>"
      ],
      "text/plain": [
       "      ID  Response\n",
       "0  50883  1       \n",
       "1  50884  1       \n",
       "2  50885  1       \n",
       "3  50886  1       \n",
       "4  50887  1       "
      ]
     },
     "execution_count": 234,
     "metadata": {},
     "output_type": "execute_result"
    }
   ],
   "source": [
    "ss.head()"
   ]
  },
  {
   "cell_type": "code",
   "execution_count": 235,
   "metadata": {},
   "outputs": [],
   "source": [
    "ss.to_csv(\" frist3234 outcome.csv\", index= False)"
   ]
  },
  {
   "cell_type": "code",
   "execution_count": 236,
   "metadata": {},
   "outputs": [
    {
     "data": {
      "text/html": [
       "<div>\n",
       "<style scoped>\n",
       "    .dataframe tbody tr th:only-of-type {\n",
       "        vertical-align: middle;\n",
       "    }\n",
       "\n",
       "    .dataframe tbody tr th {\n",
       "        vertical-align: top;\n",
       "    }\n",
       "\n",
       "    .dataframe thead th {\n",
       "        text-align: right;\n",
       "    }\n",
       "</style>\n",
       "<table border=\"1\" class=\"dataframe\">\n",
       "  <thead>\n",
       "    <tr style=\"text-align: right;\">\n",
       "      <th></th>\n",
       "      <th>ID</th>\n",
       "      <th>Response</th>\n",
       "    </tr>\n",
       "  </thead>\n",
       "  <tbody>\n",
       "    <tr>\n",
       "      <th>0</th>\n",
       "      <td>50883</td>\n",
       "      <td>1</td>\n",
       "    </tr>\n",
       "    <tr>\n",
       "      <th>1</th>\n",
       "      <td>50884</td>\n",
       "      <td>1</td>\n",
       "    </tr>\n",
       "    <tr>\n",
       "      <th>2</th>\n",
       "      <td>50885</td>\n",
       "      <td>1</td>\n",
       "    </tr>\n",
       "    <tr>\n",
       "      <th>3</th>\n",
       "      <td>50886</td>\n",
       "      <td>1</td>\n",
       "    </tr>\n",
       "    <tr>\n",
       "      <th>4</th>\n",
       "      <td>50887</td>\n",
       "      <td>1</td>\n",
       "    </tr>\n",
       "  </tbody>\n",
       "</table>\n",
       "</div>"
      ],
      "text/plain": [
       "      ID  Response\n",
       "0  50883  1       \n",
       "1  50884  1       \n",
       "2  50885  1       \n",
       "3  50886  1       \n",
       "4  50887  1       "
      ]
     },
     "execution_count": 236,
     "metadata": {},
     "output_type": "execute_result"
    }
   ],
   "source": [
    "ss.head()"
   ]
  },
  {
   "cell_type": "code",
   "execution_count": 237,
   "metadata": {},
   "outputs": [
    {
     "data": {
      "text/plain": [
       "21805"
      ]
     },
     "execution_count": 237,
     "metadata": {},
     "output_type": "execute_result"
    }
   ],
   "source": [
    "len(ss)"
   ]
  },
  {
   "cell_type": "code",
   "execution_count": 238,
   "metadata": {},
   "outputs": [
    {
     "data": {
      "text/html": [
       "<div>\n",
       "<style scoped>\n",
       "    .dataframe tbody tr th:only-of-type {\n",
       "        vertical-align: middle;\n",
       "    }\n",
       "\n",
       "    .dataframe tbody tr th {\n",
       "        vertical-align: top;\n",
       "    }\n",
       "\n",
       "    .dataframe thead th {\n",
       "        text-align: right;\n",
       "    }\n",
       "</style>\n",
       "<table border=\"1\" class=\"dataframe\">\n",
       "  <thead>\n",
       "    <tr style=\"text-align: right;\">\n",
       "      <th></th>\n",
       "      <th>ID</th>\n",
       "      <th>Response</th>\n",
       "    </tr>\n",
       "  </thead>\n",
       "  <tbody>\n",
       "    <tr>\n",
       "      <th>21800</th>\n",
       "      <td>72683</td>\n",
       "      <td>1</td>\n",
       "    </tr>\n",
       "    <tr>\n",
       "      <th>21801</th>\n",
       "      <td>72684</td>\n",
       "      <td>1</td>\n",
       "    </tr>\n",
       "    <tr>\n",
       "      <th>21802</th>\n",
       "      <td>72685</td>\n",
       "      <td>0</td>\n",
       "    </tr>\n",
       "    <tr>\n",
       "      <th>21803</th>\n",
       "      <td>72686</td>\n",
       "      <td>0</td>\n",
       "    </tr>\n",
       "    <tr>\n",
       "      <th>21804</th>\n",
       "      <td>72687</td>\n",
       "      <td>0</td>\n",
       "    </tr>\n",
       "  </tbody>\n",
       "</table>\n",
       "</div>"
      ],
      "text/plain": [
       "          ID  Response\n",
       "21800  72683  1       \n",
       "21801  72684  1       \n",
       "21802  72685  0       \n",
       "21803  72686  0       \n",
       "21804  72687  0       "
      ]
     },
     "execution_count": 238,
     "metadata": {},
     "output_type": "execute_result"
    }
   ],
   "source": [
    "ss.tail()"
   ]
  },
  {
   "cell_type": "code",
   "execution_count": 239,
   "metadata": {},
   "outputs": [
    {
     "data": {
      "text/plain": [
       "array([0.26437969, 0.28390541, 0.30310497, ..., 0.04692167, 0.22267865,\n",
       "       0.15632457])"
      ]
     },
     "execution_count": 239,
     "metadata": {},
     "output_type": "execute_result"
    }
   ],
   "source": [
    "lgb_preds"
   ]
  },
  {
   "cell_type": "code",
   "execution_count": 240,
   "metadata": {},
   "outputs": [
    {
     "data": {
      "text/plain": [
       "0.23"
      ]
     },
     "execution_count": 240,
     "metadata": {},
     "output_type": "execute_result"
    }
   ],
   "source": [
    "optimal_thresh"
   ]
  },
  {
   "cell_type": "code",
   "execution_count": 241,
   "metadata": {},
   "outputs": [
    {
     "data": {
      "text/plain": [
       "array([ True,  True,  True, ..., False, False, False])"
      ]
     },
     "execution_count": 241,
     "metadata": {},
     "output_type": "execute_result"
    }
   ],
   "source": [
    "(lgb_preds > optimal_thresh)"
   ]
  },
  {
   "cell_type": "code",
   "execution_count": 242,
   "metadata": {},
   "outputs": [
    {
     "data": {
      "text/plain": [
       "array([1, 1, 1, ..., 0, 0, 0])"
      ]
     },
     "execution_count": 242,
     "metadata": {},
     "output_type": "execute_result"
    }
   ],
   "source": [
    "(lgb_preds > optimal_thresh)*1"
   ]
  },
  {
   "cell_type": "code",
   "execution_count": 243,
   "metadata": {},
   "outputs": [
    {
     "ename": "SyntaxError",
     "evalue": "invalid syntax (<ipython-input-243-d2eeba44b372>, line 2)",
     "output_type": "error",
     "traceback": [
      "\u001b[1;36m  File \u001b[1;32m\"<ipython-input-243-d2eeba44b372>\"\u001b[1;36m, line \u001b[1;32m2\u001b[0m\n\u001b[1;33m    confusion_matrix(,lgb_preds_rounded)\u001b[0m\n\u001b[1;37m                     ^\u001b[0m\n\u001b[1;31mSyntaxError\u001b[0m\u001b[1;31m:\u001b[0m invalid syntax\n"
     ]
    }
   ],
   "source": [
    "from sklearn.metrics import confusion_matrix\n",
    "confusion_matrix(,lgb_preds_rounded)"
   ]
  },
  {
   "cell_type": "code",
   "execution_count": null,
   "metadata": {},
   "outputs": [],
   "source": []
  },
  {
   "cell_type": "code",
   "execution_count": null,
   "metadata": {},
   "outputs": [],
   "source": []
  }
 ],
 "metadata": {
  "kernelspec": {
   "display_name": "Python 3",
   "language": "python",
   "name": "python3"
  },
  "language_info": {
   "codemirror_mode": {
    "name": "ipython",
    "version": 3
   },
   "file_extension": ".py",
   "mimetype": "text/x-python",
   "name": "python",
   "nbconvert_exporter": "python",
   "pygments_lexer": "ipython3",
   "version": "3.7.4"
  }
 },
 "nbformat": 4,
 "nbformat_minor": 2
}
